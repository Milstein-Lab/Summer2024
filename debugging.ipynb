{
 "cells": [
  {
   "cell_type": "code",
   "execution_count": 1,
   "metadata": {},
   "outputs": [],
   "source": [
    "import torch\n",
    "import torch.nn as nn\n",
    "from spiral_neuralnet import *\n",
    "import spiral_neuralnet as spiral"
   ]
  },
  {
   "cell_type": "code",
   "execution_count": 2,
   "metadata": {},
   "outputs": [
    {
     "data": {
      "application/vnd.jupyter.widget-view+json": {
       "model_id": "6e3eb7e2c3bd4bfba5eabc907bffb5c3",
       "version_major": 2,
       "version_minor": 0
      },
      "text/plain": [
       "  0%|          | 0/2 [00:00<?, ?it/s]"
      ]
     },
     "metadata": {},
     "output_type": "display_data"
    }
   ],
   "source": [
    "%run spiral_neuralnet.py --interactive --description=dend_temp_contrast_fixed_bias"
   ]
  },
  {
   "cell_type": "code",
   "execution_count": 3,
   "metadata": {},
   "outputs": [],
   "source": [
    "dend_temp_contrast_net = net"
   ]
  },
  {
   "cell_type": "code",
   "execution_count": 4,
   "metadata": {},
   "outputs": [
    {
     "name": "stdout",
     "output_type": "stream",
     "text": [
      "tensor([[ 0.0000e+00,  0.0000e+00,  0.0000e+00,  0.0000e+00,  0.0000e+00,\n",
      "          0.0000e+00,  0.0000e+00,  0.0000e+00,  0.0000e+00,  0.0000e+00,\n",
      "          0.0000e+00,  0.0000e+00,  0.0000e+00,  0.0000e+00,  0.0000e+00,\n",
      "          0.0000e+00,  0.0000e+00,  0.0000e+00,  0.0000e+00,  0.0000e+00,\n",
      "          0.0000e+00,  0.0000e+00,  0.0000e+00,  0.0000e+00,  0.0000e+00,\n",
      "          0.0000e+00,  0.0000e+00,  0.0000e+00,  0.0000e+00,  0.0000e+00,\n",
      "          0.0000e+00,  0.0000e+00],\n",
      "        [ 0.0000e+00,  0.0000e+00, -1.4325e-05,  0.0000e+00,  0.0000e+00,\n",
      "         -2.1766e-06,  0.0000e+00,  0.0000e+00,  0.0000e+00, -1.1518e-04,\n",
      "          0.0000e+00,  0.0000e+00,  0.0000e+00, -1.9748e-05, -1.3527e-05,\n",
      "         -4.8126e-05,  0.0000e+00, -2.4767e-05, -7.2647e-06,  0.0000e+00,\n",
      "          0.0000e+00, -1.0817e-04,  0.0000e+00, -2.4502e-05,  0.0000e+00,\n",
      "          0.0000e+00, -7.2568e-05,  0.0000e+00,  0.0000e+00, -1.5736e-05,\n",
      "         -5.9469e-05,  0.0000e+00],\n",
      "        [ 0.0000e+00,  0.0000e+00,  3.3319e-03,  0.0000e+00,  0.0000e+00,\n",
      "          5.0628e-04,  0.0000e+00,  0.0000e+00,  0.0000e+00,  2.6792e-02,\n",
      "          0.0000e+00,  0.0000e+00,  0.0000e+00,  4.5934e-03,  3.1465e-03,\n",
      "          1.1194e-02,  0.0000e+00,  5.7608e-03,  1.6898e-03,  0.0000e+00,\n",
      "          0.0000e+00,  2.5161e-02,  0.0000e+00,  5.6991e-03,  0.0000e+00,\n",
      "          0.0000e+00,  1.6879e-02,  0.0000e+00,  0.0000e+00,  3.6602e-03,\n",
      "          1.3832e-02,  0.0000e+00],\n",
      "        [ 0.0000e+00,  0.0000e+00,  0.0000e+00,  0.0000e+00,  0.0000e+00,\n",
      "          0.0000e+00,  0.0000e+00,  0.0000e+00,  0.0000e+00,  0.0000e+00,\n",
      "          0.0000e+00,  0.0000e+00,  0.0000e+00,  0.0000e+00,  0.0000e+00,\n",
      "          0.0000e+00,  0.0000e+00,  0.0000e+00,  0.0000e+00,  0.0000e+00,\n",
      "          0.0000e+00,  0.0000e+00,  0.0000e+00,  0.0000e+00,  0.0000e+00,\n",
      "          0.0000e+00,  0.0000e+00,  0.0000e+00,  0.0000e+00,  0.0000e+00,\n",
      "          0.0000e+00,  0.0000e+00]])\n"
     ]
    }
   ],
   "source": [
    "delta_w_dend_temp_contrast = net.weights['Out'].data - net.initial_weights['Out'].data\n",
    "print(delta_w_dend_temp_contrast)"
   ]
  },
  {
   "cell_type": "code",
   "execution_count": 5,
   "metadata": {},
   "outputs": [
    {
     "data": {
      "application/vnd.jupyter.widget-view+json": {
       "model_id": "ceaee4cdad304479bee9b03c87d902b2",
       "version_major": 2,
       "version_minor": 0
      },
      "text/plain": [
       "  0%|          | 0/2 [00:00<?, ?it/s]"
      ]
     },
     "metadata": {},
     "output_type": "display_data"
    }
   ],
   "source": [
    "%run spiral_neuralnet.py --interactive --description=backprop_fixed_bias"
   ]
  },
  {
   "cell_type": "code",
   "execution_count": 6,
   "metadata": {},
   "outputs": [],
   "source": [
    "bp_net = net"
   ]
  },
  {
   "cell_type": "code",
   "execution_count": 7,
   "metadata": {},
   "outputs": [
    {
     "name": "stdout",
     "output_type": "stream",
     "text": [
      "tensor([[ 0.0000e+00,  0.0000e+00,  0.0000e+00,  0.0000e+00,  0.0000e+00,\n",
      "          0.0000e+00,  0.0000e+00,  0.0000e+00,  0.0000e+00,  0.0000e+00,\n",
      "          0.0000e+00,  0.0000e+00,  0.0000e+00,  0.0000e+00,  0.0000e+00,\n",
      "          0.0000e+00,  0.0000e+00,  0.0000e+00,  0.0000e+00,  0.0000e+00,\n",
      "          0.0000e+00,  0.0000e+00,  0.0000e+00,  0.0000e+00,  0.0000e+00,\n",
      "          0.0000e+00,  0.0000e+00,  0.0000e+00,  0.0000e+00,  0.0000e+00,\n",
      "          0.0000e+00,  0.0000e+00],\n",
      "        [ 0.0000e+00,  0.0000e+00, -1.4325e-05,  0.0000e+00,  0.0000e+00,\n",
      "         -2.1766e-06,  0.0000e+00,  0.0000e+00,  0.0000e+00, -1.1518e-04,\n",
      "          0.0000e+00,  0.0000e+00,  0.0000e+00, -1.9748e-05, -1.3527e-05,\n",
      "         -4.8126e-05,  0.0000e+00, -2.4767e-05, -7.2647e-06,  0.0000e+00,\n",
      "          0.0000e+00, -1.0817e-04,  0.0000e+00, -2.4502e-05,  0.0000e+00,\n",
      "          0.0000e+00, -7.2568e-05,  0.0000e+00,  0.0000e+00, -1.5736e-05,\n",
      "         -5.9469e-05,  0.0000e+00],\n",
      "        [ 0.0000e+00,  0.0000e+00,  3.3319e-03,  0.0000e+00,  0.0000e+00,\n",
      "          5.0628e-04,  0.0000e+00,  0.0000e+00,  0.0000e+00,  2.6792e-02,\n",
      "          0.0000e+00,  0.0000e+00,  0.0000e+00,  4.5934e-03,  3.1465e-03,\n",
      "          1.1194e-02,  0.0000e+00,  5.7608e-03,  1.6898e-03,  0.0000e+00,\n",
      "          0.0000e+00,  2.5161e-02,  0.0000e+00,  5.6991e-03,  0.0000e+00,\n",
      "          0.0000e+00,  1.6879e-02,  0.0000e+00,  0.0000e+00,  3.6602e-03,\n",
      "          1.3832e-02,  0.0000e+00],\n",
      "        [ 0.0000e+00,  0.0000e+00,  0.0000e+00,  0.0000e+00,  0.0000e+00,\n",
      "          0.0000e+00,  0.0000e+00,  0.0000e+00,  0.0000e+00,  0.0000e+00,\n",
      "          0.0000e+00,  0.0000e+00,  0.0000e+00,  0.0000e+00,  0.0000e+00,\n",
      "          0.0000e+00,  0.0000e+00,  0.0000e+00,  0.0000e+00,  0.0000e+00,\n",
      "          0.0000e+00,  0.0000e+00,  0.0000e+00,  0.0000e+00,  0.0000e+00,\n",
      "          0.0000e+00,  0.0000e+00,  0.0000e+00,  0.0000e+00,  0.0000e+00,\n",
      "          0.0000e+00,  0.0000e+00]])\n"
     ]
    }
   ],
   "source": [
    "delta_w_bp = bp_net.weights['Out'].data - bp_net.initial_weights['Out'].data\n",
    "print(delta_w_bp)"
   ]
  },
  {
   "cell_type": "code",
   "execution_count": 8,
   "metadata": {},
   "outputs": [
    {
     "data": {
      "text/plain": [
       "torch.Size([1, 128])"
      ]
     },
     "execution_count": 8,
     "metadata": {},
     "output_type": "execute_result"
    }
   ],
   "source": [
    "bp_net.forward_activity['H1'].shape"
   ]
  },
  {
   "cell_type": "code",
   "execution_count": 9,
   "metadata": {},
   "outputs": [
    {
     "data": {
      "text/plain": [
       "tensor(False)"
      ]
     },
     "execution_count": 9,
     "metadata": {},
     "output_type": "execute_result"
    }
   ],
   "source": [
    "torch.all(delta_w_bp == 0)"
   ]
  },
  {
   "cell_type": "code",
   "execution_count": 10,
   "metadata": {},
   "outputs": [
    {
     "data": {
      "text/plain": [
       "<matplotlib.collections.PathCollection at 0x1c8d73af8d0>"
      ]
     },
     "execution_count": 10,
     "metadata": {},
     "output_type": "execute_result"
    },
    {
     "data": {
      "image/png": "[encoded data removed]",
      "text/plain": [
       "<Figure size 640x480 with 1 Axes>"
      ]
     },
     "metadata": {},
     "output_type": "display_data"
    }
   ],
   "source": [
    "plt.figure()\n",
    "plt.scatter(delta_w_bp.flatten(), delta_w_dend_temp_contrast.flatten())"
   ]
  },
  {
   "cell_type": "code",
   "execution_count": 11,
   "metadata": {},
   "outputs": [
    {
     "data": {
      "text/plain": [
       "tensor(True)"
      ]
     },
     "execution_count": 11,
     "metadata": {},
     "output_type": "execute_result"
    }
   ],
   "source": [
    "torch.all(delta_w_bp.flatten() == delta_w_dend_temp_contrast.flatten())"
   ]
  },
  {
   "cell_type": "code",
   "execution_count": 12,
   "metadata": {},
   "outputs": [
    {
     "data": {
      "text/plain": [
       "tensor(True)"
      ]
     },
     "execution_count": 12,
     "metadata": {},
     "output_type": "execute_result"
    }
   ],
   "source": [
    "torch.all(dend_temp_contrast_net.forward_activity['Out'] == bp_net.forward_activity['Out'])"
   ]
  },
  {
   "cell_type": "code",
   "execution_count": 13,
   "metadata": {},
   "outputs": [
    {
     "data": {
      "text/plain": [
       "tensor(True)"
      ]
     },
     "execution_count": 13,
     "metadata": {},
     "output_type": "execute_result"
    }
   ],
   "source": [
    "torch.all(dend_temp_contrast_net.initial_weights['Out'].data == bp_net.initial_weights['Out'].data)"
   ]
  },
  {
   "cell_type": "code",
   "execution_count": 14,
   "metadata": {},
   "outputs": [
    {
     "data": {
      "text/plain": [
       "torch.Size([1, 4])"
      ]
     },
     "execution_count": 14,
     "metadata": {},
     "output_type": "execute_result"
    }
   ],
   "source": [
    "dend_temp_contrast_net.nudges['Out'].shape"
   ]
  },
  {
   "cell_type": "code",
   "execution_count": 15,
   "metadata": {},
   "outputs": [],
   "source": [
    "local_loss = dend_temp_contrast_net.nudges['Out'] * dend_temp_contrast_net.ReLU_derivative(dend_temp_contrast_net.forward_soma_state['Out'])"
   ]
  },
  {
   "cell_type": "code",
   "execution_count": 16,
   "metadata": {},
   "outputs": [
    {
     "name": "stdout",
     "output_type": "stream",
     "text": [
      "tensor([[0., 1., 1., 0.]])\n"
     ]
    }
   ],
   "source": [
    "x = dend_temp_contrast_net.forward_soma_state['Out']\n",
    "output = torch.ones_like(x)\n",
    "indexes = torch.where(x <= 0)\n",
    "output[indexes] = 0\n",
    "print(output)"
   ]
  },
  {
   "cell_type": "code",
   "execution_count": 17,
   "metadata": {},
   "outputs": [
    {
     "name": "stdout",
     "output_type": "stream",
     "text": [
      "tensor([[ 0.0000, -0.0020,  0.4733,  0.0000]])\n",
      "tensor([[0.0000, 0.0041, 0.0533, 0.0000]])\n",
      "tensor([[-0.2336,  0.0041,  0.0533, -0.0683]])\n",
      "tensor([[ 0.0000, -0.0020,  0.4733,  0.0000]])\n"
     ]
    }
   ],
   "source": [
    "print(local_loss)\n",
    "print(dend_temp_contrast_net.forward_activity['Out'])\n",
    "print(dend_temp_contrast_net.forward_soma_state['Out'])\n",
    "print(dend_temp_contrast_net.nudges['Out'])"
   ]
  },
  {
   "cell_type": "code",
   "execution_count": 18,
   "metadata": {},
   "outputs": [
    {
     "data": {
      "text/plain": [
       "tensor(False)"
      ]
     },
     "execution_count": 18,
     "metadata": {},
     "output_type": "execute_result"
    },
    {
     "data": {
      "image/png": "[encoded data removed]",
      "text/plain": [
       "<Figure size 640x480 with 1 Axes>"
      ]
     },
     "metadata": {},
     "output_type": "display_data"
    }
   ],
   "source": [
    "plt.figure()\n",
    "layer = 'H2'\n",
    "dw_dend_tc_H1 = dend_temp_contrast_net.weights[layer].data - dend_temp_contrast_net.initial_weights[layer].data\n",
    "dw_bp_H1 = bp_net.weights[layer].data - bp_net.initial_weights[layer].data\n",
    "plt.scatter(dw_bp_H1.flatten(), dw_dend_tc_H1.flatten())\n",
    "torch.all(dw_dend_tc_H1 == dw_bp_H1)"
   ]
  },
  {
   "cell_type": "code",
   "execution_count": 19,
   "metadata": {},
   "outputs": [
    {
     "data": {
      "text/plain": [
       "tensor([[True, True, True,  ..., True, True, True],\n",
       "        [True, True, True,  ..., True, True, True],\n",
       "        [True, True, True,  ..., True, True, True],\n",
       "        ...,\n",
       "        [True, True, True,  ..., True, True, True],\n",
       "        [True, True, True,  ..., True, True, True],\n",
       "        [True, True, True,  ..., True, True, True]])"
      ]
     },
     "execution_count": 19,
     "metadata": {},
     "output_type": "execute_result"
    }
   ],
   "source": [
    "dw_bp_H1 == dw_dend_tc_H1"
   ]
  },
  {
   "cell_type": "code",
   "execution_count": 20,
   "metadata": {},
   "outputs": [
    {
     "data": {
      "text/plain": [
       "tensor([[0.0000, 0.4050, 0.0585, 0.2244, 0.0070, 0.5474, 0.0558, 0.0000, 0.5686,\n",
       "         0.0000, 0.2068, 0.1155, 0.4446, 0.2722, 0.0000, 0.4314, 0.0000, 0.5431,\n",
       "         0.1964, 0.0000, 0.0593, 0.0000, 0.2259, 0.9630, 0.4959, 0.0000, 0.0000,\n",
       "         0.0000, 0.0000, 0.0000, 0.8737, 0.0000, 0.1297, 0.2196, 0.0503, 0.0000,\n",
       "         0.5675, 0.0319, 0.0000, 0.2447, 0.8044, 0.3392, 0.0000, 0.0000, 0.1090,\n",
       "         0.1798, 0.3162, 0.0808, 0.0000, 0.0000, 0.3415, 0.6522, 0.0000, 0.0000,\n",
       "         0.0000, 0.0000, 0.8212, 0.0000, 0.7900, 0.0000, 0.4051, 0.1971, 0.0000,\n",
       "         0.0000, 0.2967, 0.1713, 0.0000, 0.0000, 0.9160, 0.1329, 0.0659, 0.1271,\n",
       "         0.3140, 0.0383, 0.0172, 0.4111, 0.0000, 0.8602, 0.0000, 0.0000, 0.0000,\n",
       "         0.6579, 0.3783, 0.0000, 0.0000, 1.0409, 0.0000, 0.0292, 0.1606, 0.3032,\n",
       "         1.0258, 0.0694, 0.0000, 0.0000, 0.0000, 0.0000, 0.0000, 0.0000, 0.0000,\n",
       "         0.0000, 0.0000, 0.7526, 0.0000, 0.0000, 0.0000, 0.0000, 0.4312, 0.0097,\n",
       "         0.3001, 0.0000, 0.0000, 0.0000, 0.0000, 0.5354, 0.0000, 0.0000, 0.0000,\n",
       "         0.1365, 0.0000, 0.3282, 0.4915, 0.0000, 0.1527, 0.0000, 0.6551, 0.0000,\n",
       "         0.0000, 0.0000]], grad_fn=<ReluBackward0>)"
      ]
     },
     "execution_count": 20,
     "metadata": {},
     "output_type": "execute_result"
    }
   ],
   "source": [
    "dend_temp_contrast_net.backward_activity['H1']"
   ]
  },
  {
   "cell_type": "code",
   "execution_count": 21,
   "metadata": {},
   "outputs": [
    {
     "data": {
      "text/plain": [
       "torch.float64"
      ]
     },
     "execution_count": 21,
     "metadata": {},
     "output_type": "execute_result"
    }
   ],
   "source": [
    "torch.tensor(dend_temp_contrast_net.training_losses).dtype"
   ]
  },
  {
   "cell_type": "code",
   "execution_count": 23,
   "metadata": {},
   "outputs": [
    {
     "data": {
      "image/png": "[encoded data removed]",
      "text/plain": [
       "<Figure size 640x480 with 1 Axes>"
      ]
     },
     "metadata": {},
     "output_type": "display_data"
    }
   ],
   "source": [
    "# TODO This is wrong, something wrong with nudges \n",
    "\n",
    "plt.figure()\n",
    "unit = 6\n",
    "dw_dend_tc_H2_0 = dend_temp_contrast_net.weights['H2'].data[unit] - dend_temp_contrast_net.initial_weights['H2'].data[unit]\n",
    "dw_bp_H2_0 = bp_net.weights['H2'].data[unit] - bp_net.initial_weights['H2'].data[unit]\n",
    "plt.scatter(dw_bp_H2_0, dw_dend_tc_H2_0)\n",
    "\n",
    "# model = np.polyfit(dw_bp_H2_0, dw_dend_tc_H2_0, 1)\n",
    "# slope = model[0]\n",
    "# intercept = model[1]\n",
    "# plt.plot(dw_bp_H2_0, slope * dw_bp_H2_0 + intercept, color='red')\n",
    "# print(slope)\n",
    "\n",
    "plt.show()"
   ]
  },
  {
   "cell_type": "code",
   "execution_count": 24,
   "metadata": {},
   "outputs": [
    {
     "name": "stdout",
     "output_type": "stream",
     "text": [
      "tensor([ 0.0487,  0.0274, -0.0481, -0.0705,  0.0831, -0.0638, -0.0458,  0.0080,\n",
      "        -0.0059,  0.0183,  0.0531, -0.0679,  0.0031, -0.0520,  0.0158,  0.0589,\n",
      "        -0.0582, -0.0091,  0.0317, -0.0378, -0.0772,  0.0798, -0.0089,  0.0631,\n",
      "        -0.0653, -0.0530,  0.0816,  0.0026, -0.0120,  0.0376, -0.0775, -0.0344,\n",
      "        -0.0629, -0.0549, -0.0556, -0.0191,  0.0235,  0.0778,  0.0748, -0.0195,\n",
      "        -0.0206,  0.0169,  0.0881, -0.0861, -0.0659, -0.0531,  0.0487, -0.0150,\n",
      "         0.0361, -0.0002, -0.0823, -0.0574, -0.0598,  0.0090,  0.0301, -0.0372,\n",
      "         0.0728, -0.0431, -0.0734,  0.0149,  0.0520,  0.0457, -0.0442,  0.0667,\n",
      "         0.0093,  0.0576, -0.0105, -0.0341, -0.0735,  0.0669,  0.0330,  0.0463,\n",
      "        -0.0350,  0.0415,  0.0674,  0.0312,  0.0092, -0.0858,  0.0331, -0.0056,\n",
      "         0.0706, -0.0516,  0.0565,  0.0418, -0.0513, -0.0280,  0.0439,  0.0825,\n",
      "         0.0494, -0.0634, -0.0813,  0.0175, -0.0778,  0.0598,  0.0227, -0.0106,\n",
      "         0.0496,  0.0216,  0.0050, -0.0209, -0.0465, -0.0529,  0.0335, -0.0300,\n",
      "         0.0491, -0.0750,  0.0549, -0.0772, -0.0482, -0.0525,  0.0734,  0.0559,\n",
      "         0.0167,  0.0370, -0.0149,  0.0584, -0.0127, -0.0733,  0.0346,  0.0120,\n",
      "         0.0141,  0.0371,  0.0066, -0.0449,  0.0159,  0.0511, -0.0411, -0.0740])\n",
      "tensor([ 0.0487,  0.0274, -0.0481, -0.0705,  0.0831, -0.0638, -0.0458,  0.0080,\n",
      "        -0.0059,  0.0183,  0.0531, -0.0679,  0.0031, -0.0520,  0.0158,  0.0589,\n",
      "        -0.0582, -0.0091,  0.0317, -0.0378, -0.0772,  0.0798, -0.0089,  0.0631,\n",
      "        -0.0653, -0.0530,  0.0816,  0.0026, -0.0120,  0.0376, -0.0775, -0.0344,\n",
      "        -0.0629, -0.0549, -0.0556, -0.0191,  0.0235,  0.0778,  0.0748, -0.0195,\n",
      "        -0.0206,  0.0169,  0.0881, -0.0861, -0.0659, -0.0531,  0.0487, -0.0150,\n",
      "         0.0361, -0.0002, -0.0823, -0.0574, -0.0598,  0.0090,  0.0301, -0.0372,\n",
      "         0.0728, -0.0431, -0.0734,  0.0149,  0.0520,  0.0457, -0.0442,  0.0667,\n",
      "         0.0093,  0.0576, -0.0105, -0.0341, -0.0735,  0.0669,  0.0330,  0.0463,\n",
      "        -0.0350,  0.0415,  0.0674,  0.0312,  0.0092, -0.0858,  0.0331, -0.0056,\n",
      "         0.0706, -0.0516,  0.0565,  0.0418, -0.0513, -0.0280,  0.0439,  0.0825,\n",
      "         0.0494, -0.0634, -0.0813,  0.0175, -0.0778,  0.0598,  0.0227, -0.0106,\n",
      "         0.0496,  0.0216,  0.0050, -0.0209, -0.0465, -0.0529,  0.0335, -0.0300,\n",
      "         0.0491, -0.0750,  0.0549, -0.0772, -0.0482, -0.0525,  0.0734,  0.0559,\n",
      "         0.0167,  0.0370, -0.0149,  0.0584, -0.0127, -0.0733,  0.0346,  0.0120,\n",
      "         0.0141,  0.0371,  0.0066, -0.0449,  0.0159,  0.0511, -0.0411, -0.0740])\n"
     ]
    }
   ],
   "source": [
    "print(dend_temp_contrast_net.weights['H2'].data[6])\n",
    "print(dend_temp_contrast_net.initial_weights['H2'].data[6])"
   ]
  },
  {
   "cell_type": "code",
   "execution_count": 25,
   "metadata": {},
   "outputs": [
    {
     "name": "stdout",
     "output_type": "stream",
     "text": [
      "tensor([ 0.0487,  0.0274, -0.0481, -0.0705,  0.0831, -0.0638, -0.0458,  0.0080,\n",
      "        -0.0059,  0.0183,  0.0531, -0.0679,  0.0031, -0.0520,  0.0158,  0.0589,\n",
      "        -0.0582, -0.0091,  0.0317, -0.0378, -0.0772,  0.0798, -0.0089,  0.0631,\n",
      "        -0.0653, -0.0530,  0.0816,  0.0026, -0.0120,  0.0376, -0.0775, -0.0344,\n",
      "        -0.0629, -0.0549, -0.0556, -0.0191,  0.0235,  0.0778,  0.0748, -0.0195,\n",
      "        -0.0206,  0.0169,  0.0881, -0.0861, -0.0659, -0.0531,  0.0487, -0.0150,\n",
      "         0.0361, -0.0002, -0.0823, -0.0574, -0.0598,  0.0090,  0.0301, -0.0372,\n",
      "         0.0728, -0.0431, -0.0734,  0.0149,  0.0520,  0.0457, -0.0442,  0.0667,\n",
      "         0.0093,  0.0576, -0.0105, -0.0341, -0.0735,  0.0669,  0.0330,  0.0463,\n",
      "        -0.0350,  0.0415,  0.0674,  0.0312,  0.0092, -0.0858,  0.0331, -0.0056,\n",
      "         0.0706, -0.0516,  0.0565,  0.0418, -0.0513, -0.0280,  0.0439,  0.0825,\n",
      "         0.0494, -0.0634, -0.0813,  0.0175, -0.0778,  0.0598,  0.0227, -0.0106,\n",
      "         0.0496,  0.0216,  0.0050, -0.0209, -0.0465, -0.0529,  0.0335, -0.0300,\n",
      "         0.0491, -0.0750,  0.0549, -0.0772, -0.0482, -0.0525,  0.0734,  0.0559,\n",
      "         0.0167,  0.0370, -0.0149,  0.0584, -0.0127, -0.0733,  0.0346,  0.0120,\n",
      "         0.0141,  0.0371,  0.0066, -0.0449,  0.0159,  0.0511, -0.0411, -0.0740])\n",
      "tensor([ 0.0487,  0.0274, -0.0481, -0.0705,  0.0831, -0.0638, -0.0458,  0.0080,\n",
      "        -0.0059,  0.0183,  0.0531, -0.0679,  0.0031, -0.0520,  0.0158,  0.0589,\n",
      "        -0.0582, -0.0091,  0.0317, -0.0378, -0.0772,  0.0798, -0.0089,  0.0631,\n",
      "        -0.0653, -0.0530,  0.0816,  0.0026, -0.0120,  0.0376, -0.0775, -0.0344,\n",
      "        -0.0629, -0.0549, -0.0556, -0.0191,  0.0235,  0.0778,  0.0748, -0.0195,\n",
      "        -0.0206,  0.0169,  0.0881, -0.0861, -0.0659, -0.0531,  0.0487, -0.0150,\n",
      "         0.0361, -0.0002, -0.0823, -0.0574, -0.0598,  0.0090,  0.0301, -0.0372,\n",
      "         0.0728, -0.0431, -0.0734,  0.0149,  0.0520,  0.0457, -0.0442,  0.0667,\n",
      "         0.0093,  0.0576, -0.0105, -0.0341, -0.0735,  0.0669,  0.0330,  0.0463,\n",
      "        -0.0350,  0.0415,  0.0674,  0.0312,  0.0092, -0.0858,  0.0331, -0.0056,\n",
      "         0.0706, -0.0516,  0.0565,  0.0418, -0.0513, -0.0280,  0.0439,  0.0825,\n",
      "         0.0494, -0.0634, -0.0813,  0.0175, -0.0778,  0.0598,  0.0227, -0.0106,\n",
      "         0.0496,  0.0216,  0.0050, -0.0209, -0.0465, -0.0529,  0.0335, -0.0300,\n",
      "         0.0491, -0.0750,  0.0549, -0.0772, -0.0482, -0.0525,  0.0734,  0.0559,\n",
      "         0.0167,  0.0370, -0.0149,  0.0584, -0.0127, -0.0733,  0.0346,  0.0120,\n",
      "         0.0141,  0.0371,  0.0066, -0.0449,  0.0159,  0.0511, -0.0411, -0.0740])\n"
     ]
    }
   ],
   "source": [
    "print(bp_net.weights['H2'].data[6])\n",
    "print(bp_net.initial_weights['H2'].data[6])"
   ]
  },
  {
   "cell_type": "code",
   "execution_count": 26,
   "metadata": {},
   "outputs": [
    {
     "data": {
      "text/plain": [
       "tensor([True, True, True, True, True, True, True, True, True, True, True, True,\n",
       "        True, True, True, True, True, True, True, True, True, True, True, True,\n",
       "        True, True, True, True, True, True, True, True, True, True, True, True,\n",
       "        True, True, True, True, True, True, True, True, True, True, True, True,\n",
       "        True, True, True, True, True, True, True, True, True, True, True, True,\n",
       "        True, True, True, True, True, True, True, True, True, True, True, True,\n",
       "        True, True, True, True, True, True, True, True, True, True, True, True,\n",
       "        True, True, True, True, True, True, True, True, True, True, True, True,\n",
       "        True, True, True, True, True, True, True, True, True, True, True, True,\n",
       "        True, True, True, True, True, True, True, True, True, True, True, True,\n",
       "        True, True, True, True, True, True, True, True])"
      ]
     },
     "execution_count": 26,
     "metadata": {},
     "output_type": "execute_result"
    }
   ],
   "source": [
    "dend_temp_contrast_net.weights['H2'].data[6] == bp_net.weights['H2'].data[6]"
   ]
  },
  {
   "cell_type": "code",
   "execution_count": 27,
   "metadata": {},
   "outputs": [
    {
     "data": {
      "text/plain": [
       "tensor([[-4.7172e-01, -6.0755e-01],\n",
       "        [-4.1042e-01, -2.1666e-01],\n",
       "        [ 3.0366e-01, -2.0988e-01],\n",
       "        [-1.3783e-01,  6.8116e-01],\n",
       "        [ 6.7940e-01,  5.4357e-01],\n",
       "        [ 1.5712e-01,  5.0859e-01],\n",
       "        [-4.6469e-01, -6.6941e-01],\n",
       "        [ 3.6064e-01, -1.0257e-01],\n",
       "        [-2.6229e-01,  1.2945e-01],\n",
       "        [ 6.7982e-01, -7.1484e-03],\n",
       "        [-5.1763e-01, -6.5191e-01],\n",
       "        [ 2.6555e-01, -6.1454e-01],\n",
       "        [-3.9084e-01,  1.6145e-01],\n",
       "        [-1.9176e-01, -2.1184e-01],\n",
       "        [ 9.7431e-02, -4.6658e-01],\n",
       "        [-7.1000e-02,  1.8522e-01],\n",
       "        [ 2.2751e-01, -6.2995e-02],\n",
       "        [ 2.3208e-01,  6.2740e-01],\n",
       "        [ 4.6795e-01,  5.8665e-01],\n",
       "        [-4.0639e-01, -5.9205e-01],\n",
       "        [ 2.5165e-01,  6.2178e-01],\n",
       "        [ 4.7841e-01,  5.1622e-01],\n",
       "        [-6.4666e-01, -5.2844e-01],\n",
       "        [-4.9014e-01,  2.2915e-01],\n",
       "        [-6.3294e-01,  3.9964e-01],\n",
       "        [ 1.6927e-01,  6.1400e-01],\n",
       "        [-6.0497e-01, -4.3486e-01],\n",
       "        [-2.8504e-01, -4.0193e-01],\n",
       "        [ 7.0162e-01,  1.9773e-01],\n",
       "        [-2.6437e-01, -5.3551e-01],\n",
       "        [-3.9594e-01,  1.3760e-01],\n",
       "        [ 4.2180e-01, -4.0190e-01],\n",
       "        [-5.7285e-01, -1.3413e-01],\n",
       "        [-6.3595e-01, -2.4131e-01],\n",
       "        [ 2.2763e-01, -2.4677e-01],\n",
       "        [ 5.9005e-01,  4.3858e-01],\n",
       "        [-4.8113e-01, -6.4106e-01],\n",
       "        [-3.2963e-01, -3.6728e-01],\n",
       "        [ 5.4367e-01, -3.0668e-01],\n",
       "        [ 2.8326e-01,  7.0230e-01],\n",
       "        [-1.2862e-01,  6.1905e-01],\n",
       "        [ 3.5722e-01,  6.1404e-01],\n",
       "        [ 5.0385e-01,  4.6635e-01],\n",
       "        [ 6.5007e-01,  2.9075e-01],\n",
       "        [ 5.0732e-01,  6.4828e-02],\n",
       "        [ 1.0873e-01, -5.9489e-01],\n",
       "        [-5.9332e-01, -6.7323e-01],\n",
       "        [ 3.1135e-01, -2.0448e-01],\n",
       "        [ 6.3453e-01, -3.9954e-02],\n",
       "        [-4.2229e-03,  5.5111e-01],\n",
       "        [-1.9069e-01,  2.0467e-01],\n",
       "        [-4.5694e-01, -2.8517e-01],\n",
       "        [-4.0279e-02, -6.3556e-01],\n",
       "        [ 4.5935e-01,  1.2187e-01],\n",
       "        [ 4.8826e-01,  1.3145e-01],\n",
       "        [-3.1197e-01, -3.9112e-01],\n",
       "        [-1.4837e-01,  4.5187e-01],\n",
       "        [ 3.2124e-01, -3.8618e-01],\n",
       "        [-6.0066e-01, -2.4647e-01],\n",
       "        [ 5.2016e-01,  4.1449e-01],\n",
       "        [-4.3293e-01,  3.2047e-01],\n",
       "        [ 6.2322e-01,  2.7974e-03],\n",
       "        [-2.8869e-01,  2.8235e-01],\n",
       "        [ 5.8341e-01, -5.5455e-02],\n",
       "        [-4.1570e-01, -7.0449e-01],\n",
       "        [ 1.2304e-01, -9.6549e-02],\n",
       "        [ 6.9639e-01, -2.3970e-01],\n",
       "        [-4.3983e-01,  1.7408e-01],\n",
       "        [-4.6711e-01,  4.0797e-01],\n",
       "        [ 2.1038e-01, -3.9041e-01],\n",
       "        [ 3.7252e-01, -4.6810e-01],\n",
       "        [-6.3864e-01,  5.7039e-01],\n",
       "        [ 2.0238e-02, -4.7020e-01],\n",
       "        [-7.3765e-02, -1.0133e-01],\n",
       "        [ 4.4936e-01,  6.9732e-01],\n",
       "        [-4.7546e-01, -2.8188e-01],\n",
       "        [-9.3685e-02, -4.9584e-01],\n",
       "        [-6.5925e-01, -3.5012e-03],\n",
       "        [ 6.2491e-01,  3.8702e-01],\n",
       "        [ 2.4401e-01, -7.0518e-01],\n",
       "        [ 5.4489e-01, -4.5277e-01],\n",
       "        [-3.4861e-01,  5.8933e-04],\n",
       "        [-6.5855e-02,  3.9669e-01],\n",
       "        [-1.8351e-01,  1.7595e-01],\n",
       "        [ 4.1339e-01,  2.7930e-01],\n",
       "        [-5.7995e-01,  5.5666e-01],\n",
       "        [ 7.6009e-02,  5.8761e-02],\n",
       "        [-5.1331e-01,  2.6349e-01],\n",
       "        [ 5.9224e-01,  5.2182e-01],\n",
       "        [ 4.0421e-01,  6.3319e-01],\n",
       "        [-7.0639e-01,  2.7286e-01],\n",
       "        [-5.6742e-01,  2.9537e-01],\n",
       "        [ 4.9188e-01, -2.3537e-01],\n",
       "        [-2.6513e-01,  5.0172e-01],\n",
       "        [-4.1245e-01, -3.6066e-01],\n",
       "        [-2.5310e-01, -6.4190e-01],\n",
       "        [-5.8896e-01, -5.7017e-01],\n",
       "        [ 5.9274e-01,  4.0288e-01],\n",
       "        [ 4.1683e-01,  3.9183e-01],\n",
       "        [-8.7612e-03,  2.5877e-01],\n",
       "        [ 6.0786e-01,  2.9535e-01],\n",
       "        [-3.6907e-01,  2.4239e-01],\n",
       "        [ 7.0267e-01,  5.7737e-01],\n",
       "        [ 3.8122e-01,  3.7673e-02],\n",
       "        [ 3.7049e-02, -5.4685e-01],\n",
       "        [-1.7899e-01,  4.6750e-01],\n",
       "        [-4.4897e-01,  2.5243e-01],\n",
       "        [ 4.0148e-01, -2.7095e-01],\n",
       "        [-1.4522e-01, -4.8609e-01],\n",
       "        [ 5.2101e-01, -2.6204e-01],\n",
       "        [-1.6430e-01, -2.6367e-01],\n",
       "        [-4.7128e-01,  6.8640e-01],\n",
       "        [-4.0871e-01, -8.4447e-02],\n",
       "        [ 2.9003e-01,  6.3634e-01],\n",
       "        [ 5.4081e-01,  6.0242e-01],\n",
       "        [ 3.9606e-01,  2.2777e-01],\n",
       "        [ 4.0557e-01,  4.9477e-01],\n",
       "        [ 5.3357e-01,  4.2439e-01],\n",
       "        [-4.5875e-01,  4.1097e-01],\n",
       "        [-4.5769e-01,  7.4417e-02],\n",
       "        [-3.2869e-01, -4.8242e-01],\n",
       "        [ 1.2479e-02, -2.1835e-01],\n",
       "        [-1.5267e-01,  5.2791e-01],\n",
       "        [ 5.7143e-01,  3.2538e-01],\n",
       "        [-5.2582e-01,  7.6188e-02],\n",
       "        [ 6.4060e-01, -1.0798e-01],\n",
       "        [-3.0335e-02, -6.7642e-01],\n",
       "        [-4.6886e-01, -4.2888e-01]])"
      ]
     },
     "execution_count": 27,
     "metadata": {},
     "output_type": "execute_result"
    }
   ],
   "source": [
    "dend_temp_contrast_net.weights['H1'].data"
   ]
  },
  {
   "cell_type": "code",
   "execution_count": 28,
   "metadata": {},
   "outputs": [
    {
     "data": {
      "text/plain": [
       "tensor([[-4.7172e-01, -6.0755e-01],\n",
       "        [-4.1042e-01, -2.1666e-01],\n",
       "        [ 3.0366e-01, -2.0988e-01],\n",
       "        [-1.3783e-01,  6.8116e-01],\n",
       "        [ 6.7940e-01,  5.4357e-01],\n",
       "        [ 1.5712e-01,  5.0859e-01],\n",
       "        [-4.6469e-01, -6.6941e-01],\n",
       "        [ 3.6064e-01, -1.0257e-01],\n",
       "        [-2.6229e-01,  1.2945e-01],\n",
       "        [ 6.7982e-01, -7.1484e-03],\n",
       "        [-5.1763e-01, -6.5191e-01],\n",
       "        [ 2.6555e-01, -6.1454e-01],\n",
       "        [-3.9084e-01,  1.6145e-01],\n",
       "        [-1.9176e-01, -2.1184e-01],\n",
       "        [ 9.7431e-02, -4.6658e-01],\n",
       "        [-7.1000e-02,  1.8522e-01],\n",
       "        [ 2.2751e-01, -6.2995e-02],\n",
       "        [ 2.3208e-01,  6.2740e-01],\n",
       "        [ 4.6795e-01,  5.8665e-01],\n",
       "        [-4.0639e-01, -5.9205e-01],\n",
       "        [ 2.5165e-01,  6.2178e-01],\n",
       "        [ 4.7841e-01,  5.1622e-01],\n",
       "        [-6.4666e-01, -5.2844e-01],\n",
       "        [-4.9014e-01,  2.2915e-01],\n",
       "        [-6.3294e-01,  3.9964e-01],\n",
       "        [ 1.6927e-01,  6.1400e-01],\n",
       "        [-6.0497e-01, -4.3486e-01],\n",
       "        [-2.8504e-01, -4.0193e-01],\n",
       "        [ 7.0162e-01,  1.9773e-01],\n",
       "        [-2.6437e-01, -5.3551e-01],\n",
       "        [-3.9594e-01,  1.3760e-01],\n",
       "        [ 4.2180e-01, -4.0190e-01],\n",
       "        [-5.7285e-01, -1.3413e-01],\n",
       "        [-6.3595e-01, -2.4131e-01],\n",
       "        [ 2.2763e-01, -2.4677e-01],\n",
       "        [ 5.9005e-01,  4.3858e-01],\n",
       "        [-4.8113e-01, -6.4106e-01],\n",
       "        [-3.2963e-01, -3.6728e-01],\n",
       "        [ 5.4367e-01, -3.0668e-01],\n",
       "        [ 2.8326e-01,  7.0230e-01],\n",
       "        [-1.2862e-01,  6.1905e-01],\n",
       "        [ 3.5722e-01,  6.1404e-01],\n",
       "        [ 5.0385e-01,  4.6635e-01],\n",
       "        [ 6.5007e-01,  2.9075e-01],\n",
       "        [ 5.0732e-01,  6.4828e-02],\n",
       "        [ 1.0873e-01, -5.9489e-01],\n",
       "        [-5.9332e-01, -6.7323e-01],\n",
       "        [ 3.1135e-01, -2.0448e-01],\n",
       "        [ 6.3453e-01, -3.9954e-02],\n",
       "        [-4.2229e-03,  5.5111e-01],\n",
       "        [-1.9069e-01,  2.0467e-01],\n",
       "        [-4.5694e-01, -2.8517e-01],\n",
       "        [-4.0279e-02, -6.3556e-01],\n",
       "        [ 4.5935e-01,  1.2187e-01],\n",
       "        [ 4.8826e-01,  1.3145e-01],\n",
       "        [-3.1197e-01, -3.9112e-01],\n",
       "        [-1.4837e-01,  4.5187e-01],\n",
       "        [ 3.2124e-01, -3.8618e-01],\n",
       "        [-6.0066e-01, -2.4647e-01],\n",
       "        [ 5.2016e-01,  4.1449e-01],\n",
       "        [-4.3293e-01,  3.2047e-01],\n",
       "        [ 6.2322e-01,  2.7974e-03],\n",
       "        [-2.8869e-01,  2.8235e-01],\n",
       "        [ 5.8341e-01, -5.5455e-02],\n",
       "        [-4.1570e-01, -7.0449e-01],\n",
       "        [ 1.2304e-01, -9.6549e-02],\n",
       "        [ 6.9639e-01, -2.3970e-01],\n",
       "        [-4.3983e-01,  1.7408e-01],\n",
       "        [-4.6711e-01,  4.0797e-01],\n",
       "        [ 2.1038e-01, -3.9041e-01],\n",
       "        [ 3.7252e-01, -4.6810e-01],\n",
       "        [-6.3864e-01,  5.7039e-01],\n",
       "        [ 2.0238e-02, -4.7020e-01],\n",
       "        [-7.3765e-02, -1.0133e-01],\n",
       "        [ 4.4936e-01,  6.9732e-01],\n",
       "        [-4.7546e-01, -2.8188e-01],\n",
       "        [-9.3685e-02, -4.9584e-01],\n",
       "        [-6.5925e-01, -3.5012e-03],\n",
       "        [ 6.2491e-01,  3.8702e-01],\n",
       "        [ 2.4401e-01, -7.0518e-01],\n",
       "        [ 5.4489e-01, -4.5277e-01],\n",
       "        [-3.4861e-01,  5.8933e-04],\n",
       "        [-6.5855e-02,  3.9669e-01],\n",
       "        [-1.8351e-01,  1.7595e-01],\n",
       "        [ 4.1339e-01,  2.7930e-01],\n",
       "        [-5.7995e-01,  5.5666e-01],\n",
       "        [ 7.6009e-02,  5.8761e-02],\n",
       "        [-5.1331e-01,  2.6349e-01],\n",
       "        [ 5.9224e-01,  5.2182e-01],\n",
       "        [ 4.0421e-01,  6.3319e-01],\n",
       "        [-7.0639e-01,  2.7286e-01],\n",
       "        [-5.6742e-01,  2.9537e-01],\n",
       "        [ 4.9188e-01, -2.3537e-01],\n",
       "        [-2.6513e-01,  5.0172e-01],\n",
       "        [-4.1245e-01, -3.6066e-01],\n",
       "        [-2.5310e-01, -6.4190e-01],\n",
       "        [-5.8896e-01, -5.7017e-01],\n",
       "        [ 5.9274e-01,  4.0288e-01],\n",
       "        [ 4.1683e-01,  3.9183e-01],\n",
       "        [-8.7612e-03,  2.5877e-01],\n",
       "        [ 6.0786e-01,  2.9535e-01],\n",
       "        [-3.6907e-01,  2.4239e-01],\n",
       "        [ 7.0267e-01,  5.7737e-01],\n",
       "        [ 3.8122e-01,  3.7673e-02],\n",
       "        [ 3.7049e-02, -5.4685e-01],\n",
       "        [-1.7899e-01,  4.6750e-01],\n",
       "        [-4.4897e-01,  2.5243e-01],\n",
       "        [ 4.0148e-01, -2.7095e-01],\n",
       "        [-1.4522e-01, -4.8609e-01],\n",
       "        [ 5.2101e-01, -2.6204e-01],\n",
       "        [-1.6430e-01, -2.6367e-01],\n",
       "        [-4.7128e-01,  6.8640e-01],\n",
       "        [-4.0871e-01, -8.4447e-02],\n",
       "        [ 2.9003e-01,  6.3634e-01],\n",
       "        [ 5.4081e-01,  6.0242e-01],\n",
       "        [ 3.9606e-01,  2.2777e-01],\n",
       "        [ 4.0557e-01,  4.9477e-01],\n",
       "        [ 5.3357e-01,  4.2439e-01],\n",
       "        [-4.5875e-01,  4.1097e-01],\n",
       "        [-4.5769e-01,  7.4417e-02],\n",
       "        [-3.2869e-01, -4.8242e-01],\n",
       "        [ 1.2479e-02, -2.1835e-01],\n",
       "        [-1.5267e-01,  5.2791e-01],\n",
       "        [ 5.7143e-01,  3.2538e-01],\n",
       "        [-5.2582e-01,  7.6188e-02],\n",
       "        [ 6.4060e-01, -1.0798e-01],\n",
       "        [-3.0335e-02, -6.7642e-01],\n",
       "        [-4.6886e-01, -4.2888e-01]])"
      ]
     },
     "execution_count": 28,
     "metadata": {},
     "output_type": "execute_result"
    }
   ],
   "source": [
    "bp_net.weights['H1'].data"
   ]
  },
  {
   "cell_type": "code",
   "execution_count": 29,
   "metadata": {},
   "outputs": [
    {
     "data": {
      "text/plain": [
       "tensor([[0.0000e+00, 0.0000e+00],\n",
       "        [0.0000e+00, 0.0000e+00],\n",
       "        [0.0000e+00, 0.0000e+00],\n",
       "        [0.0000e+00, 0.0000e+00],\n",
       "        [0.0000e+00, 0.0000e+00],\n",
       "        [0.0000e+00, 0.0000e+00],\n",
       "        [0.0000e+00, 0.0000e+00],\n",
       "        [0.0000e+00, 0.0000e+00],\n",
       "        [0.0000e+00, 0.0000e+00],\n",
       "        [0.0000e+00, 0.0000e+00],\n",
       "        [0.0000e+00, 0.0000e+00],\n",
       "        [0.0000e+00, 0.0000e+00],\n",
       "        [0.0000e+00, 0.0000e+00],\n",
       "        [0.0000e+00, 0.0000e+00],\n",
       "        [0.0000e+00, 0.0000e+00],\n",
       "        [0.0000e+00, 0.0000e+00],\n",
       "        [0.0000e+00, 0.0000e+00],\n",
       "        [0.0000e+00, 0.0000e+00],\n",
       "        [0.0000e+00, 0.0000e+00],\n",
       "        [0.0000e+00, 0.0000e+00],\n",
       "        [0.0000e+00, 0.0000e+00],\n",
       "        [0.0000e+00, 0.0000e+00],\n",
       "        [0.0000e+00, 0.0000e+00],\n",
       "        [0.0000e+00, 0.0000e+00],\n",
       "        [0.0000e+00, 0.0000e+00],\n",
       "        [0.0000e+00, 0.0000e+00],\n",
       "        [0.0000e+00, 0.0000e+00],\n",
       "        [0.0000e+00, 0.0000e+00],\n",
       "        [0.0000e+00, 0.0000e+00],\n",
       "        [0.0000e+00, 0.0000e+00],\n",
       "        [0.0000e+00, 0.0000e+00],\n",
       "        [0.0000e+00, 0.0000e+00],\n",
       "        [0.0000e+00, 0.0000e+00],\n",
       "        [0.0000e+00, 0.0000e+00],\n",
       "        [0.0000e+00, 0.0000e+00],\n",
       "        [0.0000e+00, 0.0000e+00],\n",
       "        [0.0000e+00, 0.0000e+00],\n",
       "        [0.0000e+00, 0.0000e+00],\n",
       "        [0.0000e+00, 0.0000e+00],\n",
       "        [0.0000e+00, 0.0000e+00],\n",
       "        [0.0000e+00, 0.0000e+00],\n",
       "        [0.0000e+00, 0.0000e+00],\n",
       "        [0.0000e+00, 0.0000e+00],\n",
       "        [0.0000e+00, 0.0000e+00],\n",
       "        [0.0000e+00, 0.0000e+00],\n",
       "        [0.0000e+00, 0.0000e+00],\n",
       "        [0.0000e+00, 0.0000e+00],\n",
       "        [0.0000e+00, 0.0000e+00],\n",
       "        [0.0000e+00, 0.0000e+00],\n",
       "        [0.0000e+00, 0.0000e+00],\n",
       "        [0.0000e+00, 0.0000e+00],\n",
       "        [0.0000e+00, 0.0000e+00],\n",
       "        [0.0000e+00, 0.0000e+00],\n",
       "        [0.0000e+00, 0.0000e+00],\n",
       "        [0.0000e+00, 0.0000e+00],\n",
       "        [0.0000e+00, 0.0000e+00],\n",
       "        [0.0000e+00, 0.0000e+00],\n",
       "        [0.0000e+00, 0.0000e+00],\n",
       "        [0.0000e+00, 0.0000e+00],\n",
       "        [0.0000e+00, 0.0000e+00],\n",
       "        [0.0000e+00, 0.0000e+00],\n",
       "        [0.0000e+00, 0.0000e+00],\n",
       "        [0.0000e+00, 0.0000e+00],\n",
       "        [0.0000e+00, 0.0000e+00],\n",
       "        [0.0000e+00, 0.0000e+00],\n",
       "        [0.0000e+00, 0.0000e+00],\n",
       "        [0.0000e+00, 0.0000e+00],\n",
       "        [0.0000e+00, 0.0000e+00],\n",
       "        [0.0000e+00, 0.0000e+00],\n",
       "        [0.0000e+00, 0.0000e+00],\n",
       "        [0.0000e+00, 0.0000e+00],\n",
       "        [0.0000e+00, 0.0000e+00],\n",
       "        [0.0000e+00, 0.0000e+00],\n",
       "        [0.0000e+00, 0.0000e+00],\n",
       "        [0.0000e+00, 0.0000e+00],\n",
       "        [0.0000e+00, 0.0000e+00],\n",
       "        [0.0000e+00, 0.0000e+00],\n",
       "        [0.0000e+00, 0.0000e+00],\n",
       "        [0.0000e+00, 0.0000e+00],\n",
       "        [0.0000e+00, 0.0000e+00],\n",
       "        [0.0000e+00, 0.0000e+00],\n",
       "        [0.0000e+00, 0.0000e+00],\n",
       "        [0.0000e+00, 0.0000e+00],\n",
       "        [0.0000e+00, 0.0000e+00],\n",
       "        [0.0000e+00, 0.0000e+00],\n",
       "        [0.0000e+00, 0.0000e+00],\n",
       "        [0.0000e+00, 0.0000e+00],\n",
       "        [0.0000e+00, 0.0000e+00],\n",
       "        [0.0000e+00, 0.0000e+00],\n",
       "        [0.0000e+00, 0.0000e+00],\n",
       "        [0.0000e+00, 0.0000e+00],\n",
       "        [0.0000e+00, 0.0000e+00],\n",
       "        [0.0000e+00, 0.0000e+00],\n",
       "        [0.0000e+00, 0.0000e+00],\n",
       "        [0.0000e+00, 0.0000e+00],\n",
       "        [0.0000e+00, 0.0000e+00],\n",
       "        [0.0000e+00, 0.0000e+00],\n",
       "        [0.0000e+00, 0.0000e+00],\n",
       "        [0.0000e+00, 0.0000e+00],\n",
       "        [0.0000e+00, 0.0000e+00],\n",
       "        [0.0000e+00, 0.0000e+00],\n",
       "        [0.0000e+00, 0.0000e+00],\n",
       "        [0.0000e+00, 0.0000e+00],\n",
       "        [0.0000e+00, 0.0000e+00],\n",
       "        [0.0000e+00, 0.0000e+00],\n",
       "        [0.0000e+00, 0.0000e+00],\n",
       "        [0.0000e+00, 0.0000e+00],\n",
       "        [0.0000e+00, 0.0000e+00],\n",
       "        [0.0000e+00, 0.0000e+00],\n",
       "        [0.0000e+00, 0.0000e+00],\n",
       "        [0.0000e+00, 0.0000e+00],\n",
       "        [0.0000e+00, 0.0000e+00],\n",
       "        [0.0000e+00, 0.0000e+00],\n",
       "        [0.0000e+00, 0.0000e+00],\n",
       "        [0.0000e+00, 0.0000e+00],\n",
       "        [0.0000e+00, 0.0000e+00],\n",
       "        [0.0000e+00, 0.0000e+00],\n",
       "        [0.0000e+00, 0.0000e+00],\n",
       "        [0.0000e+00, 0.0000e+00],\n",
       "        [0.0000e+00, 1.3878e-17],\n",
       "        [0.0000e+00, 0.0000e+00],\n",
       "        [0.0000e+00, 0.0000e+00],\n",
       "        [0.0000e+00, 0.0000e+00],\n",
       "        [0.0000e+00, 0.0000e+00],\n",
       "        [0.0000e+00, 0.0000e+00],\n",
       "        [0.0000e+00, 0.0000e+00],\n",
       "        [0.0000e+00, 0.0000e+00],\n",
       "        [0.0000e+00, 0.0000e+00]])"
      ]
     },
     "execution_count": 29,
     "metadata": {},
     "output_type": "execute_result"
    }
   ],
   "source": [
    "dend_temp_contrast_net.weights['H1'].data - bp_net.weights['H1'].data"
   ]
  },
  {
   "cell_type": "code",
   "execution_count": 30,
   "metadata": {},
   "outputs": [
    {
     "data": {
      "text/plain": [
       "tensor(True)"
      ]
     },
     "execution_count": 30,
     "metadata": {},
     "output_type": "execute_result"
    }
   ],
   "source": [
    "torch.all(dend_temp_contrast_net.ReLU_derivative(dend_temp_contrast_net.forward_soma_state['H2']) == bp_net.ReLU_derivative(bp_net.forward_soma_state['H2']))"
   ]
  },
  {
   "cell_type": "code",
   "execution_count": 31,
   "metadata": {},
   "outputs": [],
   "source": [
    "local_loss_H2 = dend_temp_contrast_net.nudges['H2'] * dend_temp_contrast_net.ReLU_derivative(dend_temp_contrast_net.forward_soma_state['H2'])"
   ]
  },
  {
   "cell_type": "code",
   "execution_count": 32,
   "metadata": {},
   "outputs": [
    {
     "name": "stdout",
     "output_type": "stream",
     "text": [
      "tensor([[-0.0000,  0.0000, -0.0564,  0.0000, -0.0000,  0.0763,  0.0000,  0.0000,\n",
      "         -0.0000,  0.0326,  0.0000,  0.0000, -0.0000, -0.0650,  0.0179,  0.0196,\n",
      "          0.0000,  0.0512,  0.0117,  0.0000, -0.0000, -0.0660, -0.0000,  0.0497,\n",
      "         -0.0000, -0.0000, -0.0365,  0.0000,  0.0000, -0.0601, -0.0835,  0.0000]],\n",
      "       grad_fn=<MulBackward0>)\n",
      "tensor([[0.0000, 0.0000, 0.0704, 0.0000, 0.0000, 0.0107, 0.0000, 0.0000, 0.0000,\n",
      "         0.5660, 0.0000, 0.0000, 0.0000, 0.0970, 0.0665, 0.2365, 0.0000, 0.1217,\n",
      "         0.0357, 0.0000, 0.0000, 0.5316, 0.0000, 0.1204, 0.0000, 0.0000, 0.3566,\n",
      "         0.0000, 0.0000, 0.0773, 0.2922, 0.0000]])\n",
      "tensor([[-0.1694, -0.0674,  0.0704, -0.1244, -0.1971,  0.0107, -0.4012, -0.0939,\n",
      "         -0.0471,  0.5660, -0.2725, -0.0582, -0.0560,  0.0970,  0.0665,  0.2365,\n",
      "         -0.2411,  0.1217,  0.0357, -0.1517, -0.0100,  0.5316, -0.3601,  0.1204,\n",
      "         -0.1623, -0.2318,  0.3566, -0.1553, -0.2527,  0.0773,  0.2922, -0.4071]])\n",
      "tensor([[-0.0000,  0.0000, -0.0564,  0.0000, -0.0000,  0.0763,  0.0000,  0.0000,\n",
      "         -0.0000,  0.0326,  0.0000,  0.0000, -0.0000, -0.0650,  0.0179,  0.0196,\n",
      "          0.0000,  0.0512,  0.0117,  0.0000, -0.0000, -0.0660, -0.0000,  0.0497,\n",
      "         -0.0000, -0.0000, -0.0365,  0.0000,  0.0000, -0.0601, -0.0835,  0.0000]],\n",
      "       grad_fn=<MulBackward0>)\n"
     ]
    }
   ],
   "source": [
    "print(local_loss_H2)\n",
    "print(dend_temp_contrast_net.forward_activity['H2'])\n",
    "print(dend_temp_contrast_net.forward_soma_state['H2'])\n",
    "print(dend_temp_contrast_net.nudges['H2'])"
   ]
  },
  {
   "cell_type": "code",
   "execution_count": 33,
   "metadata": {},
   "outputs": [
    {
     "data": {
      "text/plain": [
       "torch.Size([32, 128])"
      ]
     },
     "execution_count": 33,
     "metadata": {},
     "output_type": "execute_result"
    }
   ],
   "source": [
    "bp_net.weights['H2'].grad.shape"
   ]
  },
  {
   "cell_type": "code",
   "execution_count": 34,
   "metadata": {},
   "outputs": [
    {
     "data": {
      "text/plain": [
       "torch.Size([1, 32])"
      ]
     },
     "execution_count": 34,
     "metadata": {},
     "output_type": "execute_result"
    }
   ],
   "source": [
    "dend_temp_contrast_net.nudges['H2'].shape"
   ]
  },
  {
   "cell_type": "code",
   "execution_count": 35,
   "metadata": {},
   "outputs": [
    {
     "data": {
      "text/plain": [
       "tensor([[-0.0044,  0.0069, -0.0057,  0.0069, -0.0007,  0.0084,  0.0052,  0.0063,\n",
       "         -0.0015,  0.0041,  0.0069,  0.0047, -0.0069, -0.0077,  0.0015,  0.0019,\n",
       "          0.0003,  0.0052,  0.0006,  0.0025, -0.0056, -0.0074, -0.0016,  0.0057,\n",
       "         -0.0030, -0.0050, -0.0043,  0.0029,  0.0064, -0.0066, -0.0087, -0.0005]],\n",
       "       grad_fn=<MmBackward0>)"
      ]
     },
     "execution_count": 35,
     "metadata": {},
     "output_type": "execute_result"
    }
   ],
   "source": [
    "dend_temp_contrast_net.forward_dend_state['H2']"
   ]
  },
  {
   "cell_type": "code",
   "execution_count": 36,
   "metadata": {},
   "outputs": [
    {
     "data": {
      "text/plain": [
       "<Figure size 640x480 with 0 Axes>"
      ]
     },
     "metadata": {},
     "output_type": "display_data"
    }
   ],
   "source": [
    "plt.figure()\n",
    "# plt.scatter(dw_bp_H1.flatten(), bp_net.mlp[-4].weight.grad.flatten())\n",
    "\n",
    "# model = np.polyfit(dw_bp_H2, bp_net.mlp[-4].weight.grad.flatten(), 1)\n",
    "# slope = model[0]\n",
    "# intercept = model[1]\n",
    "# plt.plot(dw_bp_H2, slope * dw_bp_H2 + intercept, color='red')\n",
    "# print(slope)\n",
    "\n",
    "plt.show()"
   ]
  },
  {
   "cell_type": "code",
   "execution_count": 37,
   "metadata": {},
   "outputs": [
    {
     "name": "stdout",
     "output_type": "stream",
     "text": [
      "tensor(-0.471722443455542483903286665736, grad_fn=<SelectBackward0>)\n",
      "tensor(0.)\n",
      "tensor(0., grad_fn=<SelectBackward0>)\n",
      "tensor(0., grad_fn=<SelectBackward0>)\n",
      "tensor(-0.614288065313801534550464111817)\n"
     ]
    }
   ],
   "source": [
    "torch.set_printoptions(precision=30)\n",
    "print(dend_temp_contrast_net.weights['H1'][0][0])\n",
    "print(dend_temp_contrast_net.forward_activity['H1'][0][0])\n",
    "print(dend_temp_contrast_net.backward_activity['H1'][0][0])\n",
    "print(dend_temp_contrast_net.nudges['H1'][0][0])\n",
    "print(dend_temp_contrast_net.forward_activity['Input'][0][0])"
   ]
  },
  {
   "cell_type": "code",
   "execution_count": 38,
   "metadata": {},
   "outputs": [
    {
     "data": {
      "text/plain": [
       "tensor(0.)"
      ]
     },
     "execution_count": 38,
     "metadata": {},
     "output_type": "execute_result"
    }
   ],
   "source": [
    "bp_net.weights['H1'].grad.data[0][0] / bp_net.forward_activity['Input'][0][0]"
   ]
  },
  {
   "cell_type": "code",
   "execution_count": 39,
   "metadata": {},
   "outputs": [
    {
     "data": {
      "text/plain": [
       "tensor(0., grad_fn=<SelectBackward0>)"
      ]
     },
     "execution_count": 39,
     "metadata": {},
     "output_type": "execute_result"
    }
   ],
   "source": [
    "dend_temp_contrast_net.nudges['H1'][0][0] # * dend_temp_contrast_net.forward_activity['Input'][0][0]"
   ]
  },
  {
   "cell_type": "code",
   "execution_count": 40,
   "metadata": {},
   "outputs": [
    {
     "data": {
      "text/plain": [
       "tensor([0., 0., 0., 0., 0., 0., 0., 0., 0., 0., 0., 0., 0., 0., 0., 0., 0., 0., 0., 0., 0., 0., 0., 0.,\n",
       "        0., 0., 0., 0., 0., 0., 0., 0., 0., 0., 0., 0., 0., 0., 0., 0., 0., 0., 0., 0., 0., 0., 0., 0.,\n",
       "        0., 0., 0., 0., 0., 0., 0., 0., 0., 0., 0., 0., 0., 0., 0., 0., 0., 0., 0., 0., 0., 0., 0., 0.,\n",
       "        0., 0., 0., 0., 0., 0., 0., 0., 0., 0., 0., 0., 0., 0., 0., 0., 0., 0., 0., 0., 0., 0., 0., 0.,\n",
       "        0., 0., 0., 0., 0., 0., 0., 0., 0., 0., 0., 0., 0., 0., 0., 0., 0., 0., 0., 0., 0., 0., 0., 0.,\n",
       "        0., 0., 0., 0., 0., 0., 0., 0.])"
      ]
     },
     "execution_count": 40,
     "metadata": {},
     "output_type": "execute_result"
    }
   ],
   "source": [
    "dw_bp_H1[0]"
   ]
  },
  {
   "cell_type": "code",
   "execution_count": 41,
   "metadata": {},
   "outputs": [
    {
     "data": {
      "text/plain": [
       "tensor([0., 0., 0., 0., 0., 0., 0., 0., 0., 0., 0., 0., 0., 0., 0., 0., 0., 0., 0., 0., 0., 0., 0., 0.,\n",
       "        0., 0., 0., 0., 0., 0., 0., 0., 0., 0., 0., 0., 0., 0., 0., 0., 0., 0., 0., 0., 0., 0., 0., 0.,\n",
       "        0., 0., 0., 0., 0., 0., 0., 0., 0., 0., 0., 0., 0., 0., 0., 0., 0., 0., 0., 0., 0., 0., 0., 0.,\n",
       "        0., 0., 0., 0., 0., 0., 0., 0., 0., 0., 0., 0., 0., 0., 0., 0., 0., 0., 0., 0., 0., 0., 0., 0.,\n",
       "        0., 0., 0., 0., 0., 0., 0., 0., 0., 0., 0., 0., 0., 0., 0., 0., 0., 0., 0., 0., 0., 0., 0., 0.,\n",
       "        0., 0., 0., 0., 0., 0., 0., 0.])"
      ]
     },
     "execution_count": 41,
     "metadata": {},
     "output_type": "execute_result"
    }
   ],
   "source": [
    "dw_dend_tc_H1[0]"
   ]
  },
  {
   "cell_type": "code",
   "execution_count": 42,
   "metadata": {},
   "outputs": [
    {
     "data": {
      "text/plain": [
       "tensor(True)"
      ]
     },
     "execution_count": 42,
     "metadata": {},
     "output_type": "execute_result"
    }
   ],
   "source": [
    "torch.all(dend_temp_contrast_net.forward_activity['Input'] == bp_net.forward_activity['Input'])"
   ]
  },
  {
   "cell_type": "code",
   "execution_count": 43,
   "metadata": {},
   "outputs": [
    {
     "data": {
      "text/plain": [
       "tensor(-0.614288065313801534550464111817)"
      ]
     },
     "execution_count": 43,
     "metadata": {},
     "output_type": "execute_result"
    }
   ],
   "source": [
    "bp_net.forward_activity['Input'][0][0]"
   ]
  },
  {
   "cell_type": "code",
   "execution_count": 44,
   "metadata": {},
   "outputs": [
    {
     "data": {
      "text/plain": [
       "tensor([[0., 0., 0.,  ..., 0., 0., 0.],\n",
       "        [0., 0., 0.,  ..., 0., 0., 0.],\n",
       "        [0., 0., 0.,  ..., 0., 0., 0.],\n",
       "        ...,\n",
       "        [0., 0., 0.,  ..., 0., 0., 0.],\n",
       "        [0., 0., 0.,  ..., 0., 0., 0.],\n",
       "        [0., 0., 0.,  ..., 0., 0., 0.]])"
      ]
     },
     "execution_count": 44,
     "metadata": {},
     "output_type": "execute_result"
    }
   ],
   "source": [
    "dw_bp_H1 - dw_dend_tc_H1"
   ]
  },
  {
   "cell_type": "code",
   "execution_count": 45,
   "metadata": {},
   "outputs": [
    {
     "data": {
      "text/plain": [
       "tensor([[ 0.000000000000000000000000000000, -0.000253405057636208255744669771,\n",
       "         -0.001066877163524605461389360705,  0.012272986758249945088428134454,\n",
       "         -0.001555485956201354972097683493, -0.016247913312044968969782843260,\n",
       "          0.010100704599979628758865679572,  0.000000000000000000000000000000,\n",
       "         -0.020241074721954372545029698927,  0.000000000000000000000000000000,\n",
       "         -0.007798496882227441522050792599,  0.014787214129906975715322836606,\n",
       "          0.007081167318704196904366465759, -0.004854683768939480927040452940,\n",
       "          0.000000000000000000000000000000,  0.015627889089330708471958786276,\n",
       "          0.000000000000000000000000000000, -0.004949468908843540626563139995,\n",
       "          0.016545459839507194871321971164,  0.000000000000000000000000000000,\n",
       "         -0.002759230726707418302617869088,  0.000000000000000000000000000000,\n",
       "          0.003248601031800100145952026054,  0.006158620186646720714995772994,\n",
       "         -0.010694214953728917519293339922,  0.000000000000000000000000000000,\n",
       "          0.000000000000000000000000000000,  0.000000000000000000000000000000,\n",
       "          0.000000000000000000000000000000,  0.000000000000000000000000000000,\n",
       "         -0.001375723655191187898977345228,  0.000000000000000000000000000000,\n",
       "          0.004005081299662855906507097359,  0.011104901508306497942557555803,\n",
       "          0.012073611250076204254311207364,  0.000000000000000000000000000000,\n",
       "          0.006543811269071927137763733384,  0.011443882368967440640861177314,\n",
       "          0.000000000000000000000000000000,  0.009475486956728557466633766637,\n",
       "          0.007022364876704259226136706218, -0.001679096733820498871248005912,\n",
       "          0.000000000000000000000000000000,  0.000000000000000000000000000000,\n",
       "          0.012376697278739072494158079962,  0.001399873593734695786244826010,\n",
       "          0.013431494470028167848019151620,  0.010514748250737308496449706752,\n",
       "          0.000000000000000000000000000000,  0.000000000000000000000000000000,\n",
       "         -0.002033233074696581127449590554,  0.012956274325405919486953187914,\n",
       "          0.011275583595471184994440960736,  0.000000000000000000000000000000,\n",
       "          0.000000000000000000000000000000,  0.000000000000000000000000000000,\n",
       "          0.003186563757208202719156675542,  0.000000000000000000000000000000,\n",
       "          0.010139801516278518569991184961,  0.000000000000000000000000000000,\n",
       "         -0.000351265371983986818098244509,  0.013991071697129908377177365253,\n",
       "          0.000000000000000000000000000000,  0.000000000000000000000000000000,\n",
       "         -0.019800059103209630140263186604, -0.006937532289664790144390060789,\n",
       "          0.000000000000000000000000000000,  0.000000000000000000000000000000,\n",
       "         -0.006069942066521909554421831956, -0.026479082096175304839036357407,\n",
       "          0.000307770364714449900546411332,  0.001586045083934871976344416211,\n",
       "          0.002377011924928544833041099693,  0.001570382479895052240184694092,\n",
       "         -0.001384223134857215419327158834,  0.005295615561140070218226760801,\n",
       "          0.000000000000000000000000000000,  0.006528729932062988898511246560,\n",
       "          0.000000000000000000000000000000,  0.000000000000000000000000000000,\n",
       "          0.000000000000000000000000000000, -0.008279764522258268102938849609,\n",
       "          0.004747054537476887332847486078,  0.000000000000000000000000000000,\n",
       "          0.000000000000000000000000000000,  0.000245001106715325928445126102,\n",
       "          0.000000000000000000000000000000,  0.004173346584213855764433631634,\n",
       "         -0.000413641415348112043235545565, -0.004637336348179283730674971054,\n",
       "          0.010889894787864744588046228557, -0.010050038115041209918487652430,\n",
       "          0.000000000000000000000000000000,  0.000000000000000000000000000000,\n",
       "          0.000000000000000000000000000000,  0.000000000000000000000000000000,\n",
       "          0.000000000000000000000000000000,  0.000000000000000000000000000000,\n",
       "          0.000000000000000000000000000000,  0.000000000000000000000000000000,\n",
       "          0.000000000000000000000000000000, -0.003344030412399841712539627636,\n",
       "          0.000000000000000000000000000000,  0.000000000000000000000000000000,\n",
       "          0.000000000000000000000000000000,  0.000000000000000000000000000000,\n",
       "          0.008728321640942088288639411076, -0.000815423225500222568877528584,\n",
       "          0.004647355173953386132945642117,  0.000000000000000000000000000000,\n",
       "          0.000000000000000000000000000000,  0.000000000000000000000000000000,\n",
       "          0.000000000000000000000000000000,  0.005444708228443138897656439212,\n",
       "          0.000000000000000000000000000000,  0.000000000000000000000000000000,\n",
       "          0.000000000000000000000000000000,  0.002603230328866315470420778055,\n",
       "          0.000000000000000000000000000000,  0.003485013126322596827000310782,\n",
       "         -0.001762772963826724718222616062,  0.000000000000000000000000000000,\n",
       "          0.018146274231029834583805993020,  0.000000000000000000000000000000,\n",
       "         -0.005893903446398155235308458089,  0.000000000000000000000000000000,\n",
       "          0.000000000000000000000000000000,  0.000000000000000000000000000000]])"
      ]
     },
     "execution_count": 45,
     "metadata": {},
     "output_type": "execute_result"
    }
   ],
   "source": [
    "bp_net.hooked_grads['H1']"
   ]
  },
  {
   "cell_type": "code",
   "execution_count": 46,
   "metadata": {},
   "outputs": [
    {
     "data": {
      "text/plain": [
       "tensor([[ 0.000000000000000000000000000000,  0.000253405057636213459915097701,\n",
       "          0.001066877163524604377187188220, -0.012272986758249934680087278593,\n",
       "          0.001555485956201349551086821066,  0.016247913312044968969782843260,\n",
       "         -0.010100704599979637432483059456,  0.000000000000000000000000000000,\n",
       "          0.020241074721954372545029698927, -0.000000000000000000000000000000,\n",
       "          0.007798496882227442389412530588, -0.014787214129906973980599360630,\n",
       "         -0.007081167318704187363387347887,  0.004854683768939480059678714952,\n",
       "         -0.000000000000000000000000000000, -0.015627889089330705002511834323,\n",
       "         -0.000000000000000000000000000000,  0.004949468908843540626563139995,\n",
       "         -0.016545459839507177524087211395,  0.000000000000000000000000000000,\n",
       "          0.002759230726707407460596144233, -0.000000000000000000000000000000,\n",
       "         -0.003248601031800107952207667950, -0.006158620186646743266400960692,\n",
       "          0.010694214953728908845675960038,  0.000000000000000000000000000000,\n",
       "         -0.000000000000000000000000000000,  0.000000000000000000000000000000,\n",
       "          0.000000000000000000000000000000, -0.000000000000000000000000000000,\n",
       "          0.001375723655191181393764310315, -0.000000000000000000000000000000,\n",
       "         -0.004005081299662829885654957707, -0.011104901508306494473110603849,\n",
       "         -0.012073611250076211193205111272, -0.000000000000000000000000000000,\n",
       "         -0.006543811269071914127337663558, -0.011443882368967440640861177314,\n",
       "         -0.000000000000000000000000000000, -0.009475486956728562670804194568,\n",
       "         -0.007022364876704260960860182195,  0.001679096733820495401801053958,\n",
       "          0.000000000000000000000000000000, -0.000000000000000000000000000000,\n",
       "         -0.012376697278739079433051983870, -0.001399873593734703158819598912,\n",
       "         -0.013431494470028178256360007481, -0.010514748250737310231173182729,\n",
       "          0.000000000000000000000000000000, -0.000000000000000000000000000000,\n",
       "          0.002033233074696584596896542507, -0.012956274325405914282782759983,\n",
       "         -0.011275583595471172851376628898, -0.000000000000000000000000000000,\n",
       "         -0.000000000000000000000000000000,  0.000000000000000000000000000000,\n",
       "         -0.003186563757208188407687998733, -0.000000000000000000000000000000,\n",
       "         -0.010139801516278523774161612891,  0.000000000000000000000000000000,\n",
       "          0.000351265371983992130688889688, -0.013991071697129903173006937322,\n",
       "          0.000000000000000000000000000000,  0.000000000000000000000000000000,\n",
       "          0.019800059103209644018050994418,  0.006937532289664792746475274754,\n",
       "          0.000000000000000000000000000000, -0.000000000000000000000000000000,\n",
       "          0.006069942066521921697486163794,  0.026479082096175290961248549593,\n",
       "         -0.000307770364714451960530539054, -0.001586045083934874144748761182,\n",
       "         -0.002377011924928541797275016734, -0.001570382479895050288620783618,\n",
       "          0.001384223134857205661507606465, -0.005295615561140054605715477010,\n",
       "          0.000000000000000000000000000000, -0.006528729932062996704766888456,\n",
       "         -0.000000000000000000000000000000,  0.000000000000000000000000000000,\n",
       "          0.000000000000000000000000000000,  0.008279764522258266368215373632,\n",
       "         -0.004747054537476882996038796136, -0.000000000000000000000000000000,\n",
       "          0.000000000000000000000000000000, -0.000245001106715332650498595513,\n",
       "          0.000000000000000000000000000000, -0.004173346584213838417198871866,\n",
       "          0.000413641415348109386940222976,  0.004637336348179285465398447030,\n",
       "         -0.010889894787864742853322752580,  0.010050038115041216857381556338,\n",
       "          0.000000000000000000000000000000,  0.000000000000000000000000000000,\n",
       "          0.000000000000000000000000000000, -0.000000000000000000000000000000,\n",
       "          0.000000000000000000000000000000, -0.000000000000000000000000000000,\n",
       "         -0.000000000000000000000000000000, -0.000000000000000000000000000000,\n",
       "          0.000000000000000000000000000000,  0.003344030412399848217752662549,\n",
       "          0.000000000000000000000000000000, -0.000000000000000000000000000000,\n",
       "         -0.000000000000000000000000000000,  0.000000000000000000000000000000,\n",
       "         -0.008728321640942088288639411076,  0.000815423225500221159414704353,\n",
       "         -0.004647355173953399143371711943,  0.000000000000000000000000000000,\n",
       "         -0.000000000000000000000000000000, -0.000000000000000000000000000000,\n",
       "         -0.000000000000000000000000000000, -0.005444708228443138897656439212,\n",
       "          0.000000000000000000000000000000, -0.000000000000000000000000000000,\n",
       "         -0.000000000000000000000000000000, -0.002603230328866312434654695096,\n",
       "         -0.000000000000000000000000000000, -0.003485013126322586418659454921,\n",
       "          0.001762772963826719080371319137,  0.000000000000000000000000000000,\n",
       "         -0.018146274231029831114359041067, -0.000000000000000000000000000000,\n",
       "          0.005893903446398159572117148031,  0.000000000000000000000000000000,\n",
       "         -0.000000000000000000000000000000, -0.000000000000000000000000000000]],\n",
       "       grad_fn=<MulBackward0>)"
      ]
     },
     "execution_count": 46,
     "metadata": {},
     "output_type": "execute_result"
    }
   ],
   "source": [
    "dend_temp_contrast_net.nudges['H1']"
   ]
  },
  {
   "cell_type": "code",
   "execution_count": 48,
   "metadata": {},
   "outputs": [
    {
     "data": {
      "text/plain": [
       "tensor([[ 0.000000000000000000000000000000e+00,\n",
       "          5.204170427930421283235773444176e-18,\n",
       "         -1.084202172485504434007452800870e-18,\n",
       "          1.040834085586084256647154688835e-17,\n",
       "         -5.421010862427522170037264004350e-18,\n",
       "          0.000000000000000000000000000000e+00,\n",
       "         -8.673617379884035472059622406960e-18,\n",
       "          0.000000000000000000000000000000e+00,\n",
       "          0.000000000000000000000000000000e+00,\n",
       "          0.000000000000000000000000000000e+00,\n",
       "          8.673617379884035472059622406960e-19,\n",
       "          1.734723475976807094411924481392e-18,\n",
       "          9.540979117872439019265584647655e-18,\n",
       "         -8.673617379884035472059622406960e-19,\n",
       "          0.000000000000000000000000000000e+00,\n",
       "          3.469446951953614188823848962784e-18,\n",
       "          0.000000000000000000000000000000e+00,\n",
       "          0.000000000000000000000000000000e+00,\n",
       "          1.734723475976807094411924481392e-17,\n",
       "          0.000000000000000000000000000000e+00,\n",
       "         -1.084202172485504434007452800870e-17,\n",
       "          0.000000000000000000000000000000e+00,\n",
       "         -7.806255641895631924853660166264e-18,\n",
       "         -2.255140518769849222735501825809e-17,\n",
       "         -8.673617379884035472059622406960e-18,\n",
       "          0.000000000000000000000000000000e+00,\n",
       "          0.000000000000000000000000000000e+00,\n",
       "          0.000000000000000000000000000000e+00,\n",
       "          0.000000000000000000000000000000e+00,\n",
       "          0.000000000000000000000000000000e+00,\n",
       "         -6.505213034913026604044716805220e-18,\n",
       "          0.000000000000000000000000000000e+00,\n",
       "          2.602085213965210641617886722088e-17,\n",
       "          3.469446951953614188823848962784e-18,\n",
       "         -6.938893903907228377647697925568e-18,\n",
       "          0.000000000000000000000000000000e+00,\n",
       "          1.301042606982605320808943361044e-17,\n",
       "          0.000000000000000000000000000000e+00,\n",
       "          0.000000000000000000000000000000e+00,\n",
       "         -5.204170427930421283235773444176e-18,\n",
       "         -1.734723475976807094411924481392e-18,\n",
       "         -3.469446951953614188823848962784e-18,\n",
       "          0.000000000000000000000000000000e+00,\n",
       "          0.000000000000000000000000000000e+00,\n",
       "         -6.938893903907228377647697925568e-18,\n",
       "         -7.372574772901430151250679045916e-18,\n",
       "         -1.040834085586084256647154688835e-17,\n",
       "         -1.734723475976807094411924481392e-18,\n",
       "          0.000000000000000000000000000000e+00,\n",
       "          0.000000000000000000000000000000e+00,\n",
       "          3.469446951953614188823848962784e-18,\n",
       "          5.204170427930421283235773444176e-18,\n",
       "          1.214306433183764966088347136974e-17,\n",
       "          0.000000000000000000000000000000e+00,\n",
       "          0.000000000000000000000000000000e+00,\n",
       "          0.000000000000000000000000000000e+00,\n",
       "          1.431146867680865852889837697148e-17,\n",
       "          0.000000000000000000000000000000e+00,\n",
       "         -5.204170427930421283235773444176e-18,\n",
       "          0.000000000000000000000000000000e+00,\n",
       "          5.312590645178971726636518724263e-18,\n",
       "          5.204170427930421283235773444176e-18,\n",
       "          0.000000000000000000000000000000e+00,\n",
       "          0.000000000000000000000000000000e+00,\n",
       "          1.387778780781445675529539585114e-17,\n",
       "          2.602085213965210641617886722088e-18,\n",
       "          0.000000000000000000000000000000e+00,\n",
       "          0.000000000000000000000000000000e+00,\n",
       "          1.214306433183764966088347136974e-17,\n",
       "         -1.387778780781445675529539585114e-17,\n",
       "         -2.059984127722458424614160321653e-18,\n",
       "         -2.168404344971008868014905601740e-18,\n",
       "          3.035766082959412415220867842436e-18,\n",
       "          1.951563910473907981213415041566e-18,\n",
       "         -9.757819552369539906067075207829e-18,\n",
       "          1.561251128379126384970732033253e-17,\n",
       "          0.000000000000000000000000000000e+00,\n",
       "         -7.806255641895631924853660166264e-18,\n",
       "          0.000000000000000000000000000000e+00,\n",
       "          0.000000000000000000000000000000e+00,\n",
       "          0.000000000000000000000000000000e+00,\n",
       "         -1.734723475976807094411924481392e-18,\n",
       "          4.336808689942017736029811203480e-18,\n",
       "          0.000000000000000000000000000000e+00,\n",
       "          0.000000000000000000000000000000e+00,\n",
       "         -6.722053469410127490846207365394e-18,\n",
       "          0.000000000000000000000000000000e+00,\n",
       "          1.734723475976807094411924481392e-17,\n",
       "         -2.656295322589485863318259362131e-18,\n",
       "          1.734723475976807094411924481392e-18,\n",
       "          1.734723475976807094411924481392e-18,\n",
       "          6.938893903907228377647697925568e-18,\n",
       "          0.000000000000000000000000000000e+00,\n",
       "          0.000000000000000000000000000000e+00,\n",
       "          0.000000000000000000000000000000e+00,\n",
       "          0.000000000000000000000000000000e+00,\n",
       "          0.000000000000000000000000000000e+00,\n",
       "          0.000000000000000000000000000000e+00,\n",
       "          0.000000000000000000000000000000e+00,\n",
       "          0.000000000000000000000000000000e+00,\n",
       "          0.000000000000000000000000000000e+00,\n",
       "          6.505213034913026604044716805220e-18,\n",
       "          0.000000000000000000000000000000e+00,\n",
       "          0.000000000000000000000000000000e+00,\n",
       "          0.000000000000000000000000000000e+00,\n",
       "          0.000000000000000000000000000000e+00,\n",
       "          0.000000000000000000000000000000e+00,\n",
       "         -1.409462824231155764209688641131e-18,\n",
       "         -1.301042606982605320808943361044e-17,\n",
       "          0.000000000000000000000000000000e+00,\n",
       "          0.000000000000000000000000000000e+00,\n",
       "          0.000000000000000000000000000000e+00,\n",
       "          0.000000000000000000000000000000e+00,\n",
       "          0.000000000000000000000000000000e+00,\n",
       "          0.000000000000000000000000000000e+00,\n",
       "          0.000000000000000000000000000000e+00,\n",
       "          0.000000000000000000000000000000e+00,\n",
       "          3.035766082959412415220867842436e-18,\n",
       "          0.000000000000000000000000000000e+00,\n",
       "          1.040834085586084256647154688835e-17,\n",
       "         -5.637851296924623056838754564524e-18,\n",
       "          0.000000000000000000000000000000e+00,\n",
       "          3.469446951953614188823848962784e-18,\n",
       "          0.000000000000000000000000000000e+00,\n",
       "          4.336808689942017736029811203480e-18,\n",
       "          0.000000000000000000000000000000e+00,\n",
       "          0.000000000000000000000000000000e+00,\n",
       "          0.000000000000000000000000000000e+00]], grad_fn=<AddBackward0>)"
      ]
     },
     "execution_count": 48,
     "metadata": {},
     "output_type": "execute_result"
    }
   ],
   "source": [
    "bp_net.hooked_grads['H1'] + dend_temp_contrast_net.nudges['H1']"
   ]
  },
  {
   "cell_type": "code",
   "execution_count": 49,
   "metadata": {},
   "outputs": [
    {
     "data": {
      "text/plain": [
       "tensor([[ 0.000000000000000000000000000000e+00,\n",
       "          0.000000000000000000000000000000e+00,\n",
       "          0.000000000000000000000000000000e+00,\n",
       "          0.000000000000000000000000000000e+00,\n",
       "          0.000000000000000000000000000000e+00,\n",
       "          0.000000000000000000000000000000e+00,\n",
       "          0.000000000000000000000000000000e+00,\n",
       "          0.000000000000000000000000000000e+00,\n",
       "          0.000000000000000000000000000000e+00,\n",
       "          0.000000000000000000000000000000e+00,\n",
       "          0.000000000000000000000000000000e+00,\n",
       "          0.000000000000000000000000000000e+00,\n",
       "          0.000000000000000000000000000000e+00,\n",
       "          0.000000000000000000000000000000e+00,\n",
       "          0.000000000000000000000000000000e+00,\n",
       "          0.000000000000000000000000000000e+00,\n",
       "          0.000000000000000000000000000000e+00,\n",
       "         -6.938893903907228377647697925568e-18,\n",
       "          0.000000000000000000000000000000e+00,\n",
       "          0.000000000000000000000000000000e+00,\n",
       "          0.000000000000000000000000000000e+00,\n",
       "          1.387778780781445675529539585114e-17,\n",
       "          0.000000000000000000000000000000e+00,\n",
       "          0.000000000000000000000000000000e+00,\n",
       "          0.000000000000000000000000000000e+00,\n",
       "          0.000000000000000000000000000000e+00,\n",
       "          0.000000000000000000000000000000e+00,\n",
       "          0.000000000000000000000000000000e+00,\n",
       "          0.000000000000000000000000000000e+00,\n",
       "          0.000000000000000000000000000000e+00,\n",
       "          0.000000000000000000000000000000e+00,\n",
       "          0.000000000000000000000000000000e+00]], grad_fn=<AddBackward0>)"
      ]
     },
     "execution_count": 49,
     "metadata": {},
     "output_type": "execute_result"
    }
   ],
   "source": [
    "bp_net.hooked_grads['H2'] + dend_temp_contrast_net.nudges['H2']"
   ]
  },
  {
   "cell_type": "code",
   "execution_count": 50,
   "metadata": {},
   "outputs": [
    {
     "data": {
      "text/plain": [
       "tensor([[0., 0., 0., 0.]])"
      ]
     },
     "execution_count": 50,
     "metadata": {},
     "output_type": "execute_result"
    }
   ],
   "source": [
    "bp_net.hooked_grads['Out'] + dend_temp_contrast_net.nudges['Out']"
   ]
  },
  {
   "cell_type": "code",
   "execution_count": 64,
   "metadata": {},
   "outputs": [
    {
     "data": {
      "image/png": "[encoded data removed]",
      "text/plain": [
       "<Figure size 640x480 with 1 Axes>"
      ]
     },
     "metadata": {},
     "output_type": "display_data"
    }
   ],
   "source": [
    "plt.figure()\n",
    "plt.scatter(bp_net.hooked_grads['Out'].detach().numpy().flatten(), -dend_temp_contrast_net.nudges['Out'].detach().numpy().flatten())\n",
    "plt.show()"
   ]
  },
  {
   "cell_type": "code",
   "execution_count": 62,
   "metadata": {},
   "outputs": [
    {
     "data": {
      "text/plain": [
       "tensor([[ True, False, False, False, False, False, False,  True, False,  True,\n",
       "         False, False, False, False,  True, False,  True, False, False,  True,\n",
       "         False,  True, False, False, False,  True,  True,  True,  True,  True,\n",
       "         False,  True, False, False, False,  True, False, False,  True, False,\n",
       "         False, False,  True,  True, False, False, False, False,  True,  True,\n",
       "         False, False, False,  True,  True,  True, False,  True, False,  True,\n",
       "         False, False,  True,  True, False, False,  True,  True, False, False,\n",
       "         False, False, False, False, False, False,  True, False,  True,  True,\n",
       "          True, False, False,  True,  True, False,  True, False, False, False,\n",
       "         False, False,  True,  True,  True,  True,  True,  True,  True,  True,\n",
       "          True, False,  True,  True,  True,  True, False, False, False,  True,\n",
       "          True,  True,  True, False,  True,  True,  True, False,  True, False,\n",
       "         False,  True, False,  True, False,  True,  True,  True]])"
      ]
     },
     "execution_count": 62,
     "metadata": {},
     "output_type": "execute_result"
    }
   ],
   "source": [
    "bp_net.hooked_grads['H1'] == -dend_temp_contrast_net.nudges['H1'].type(torch.float32)"
   ]
  },
  {
   "cell_type": "code",
   "execution_count": 51,
   "metadata": {},
   "outputs": [
    {
     "data": {
      "text/plain": [
       "tensor([[ 0.000000000000000000000000000000, -0.002035034849871879270022390074,\n",
       "          0.473347615922387665587933724964,  0.000000000000000000000000000000]])"
      ]
     },
     "execution_count": 51,
     "metadata": {},
     "output_type": "execute_result"
    }
   ],
   "source": [
    "dend_temp_contrast_net.nudges['Out']"
   ]
  },
  {
   "cell_type": "code",
   "execution_count": 52,
   "metadata": {},
   "outputs": [
    {
     "data": {
      "text/plain": [
       "tensor([[0.000000000000000000000000000000, 0.004070069699743758540044780148,\n",
       "         0.053304768155224641068556934442, 0.000000000000000000000000000000]])"
      ]
     },
     "execution_count": 52,
     "metadata": {},
     "output_type": "execute_result"
    }
   ],
   "source": [
    "bp_net.forward_activity['Out']"
   ]
  },
  {
   "cell_type": "code",
   "execution_count": 53,
   "metadata": {},
   "outputs": [
    {
     "data": {
      "text/plain": [
       "tensor([[-0.614288065313801534550464111817,  0.202294801025929116278234687343]])"
      ]
     },
     "execution_count": 53,
     "metadata": {},
     "output_type": "execute_result"
    }
   ],
   "source": [
    "bp_net.forward_activity['Input']"
   ]
  },
  {
   "cell_type": "code",
   "execution_count": 54,
   "metadata": {},
   "outputs": [
    {
     "data": {
      "text/plain": [
       "tensor(0.500000000000000000000000000000)"
      ]
     },
     "execution_count": 54,
     "metadata": {},
     "output_type": "execute_result"
    }
   ],
   "source": [
    "scalar = torch.tensor(2.0) / torch.tensor(4.0)\n",
    "scalar"
   ]
  },
  {
   "cell_type": "code",
   "execution_count": 55,
   "metadata": {},
   "outputs": [
    {
     "name": "stdout",
     "output_type": "stream",
     "text": [
      "0.5\n"
     ]
    }
   ],
   "source": [
    "print(scalar.item())"
   ]
  },
  {
   "cell_type": "code",
   "execution_count": null,
   "metadata": {},
   "outputs": [],
   "source": []
  }
 ],
 "metadata": {
  "kernelspec": {
   "display_name": "aresty24",
   "language": "python",
   "name": "python3"
  },
  "language_info": {
   "codemirror_mode": {
    "name": "ipython",
    "version": 3
   },
   "file_extension": ".py",
   "mimetype": "text/x-python",
   "name": "python",
   "nbconvert_exporter": "python",
   "pygments_lexer": "ipython3",
   "version": "3.11.7"
  }
 },
 "nbformat": 4,
 "nbformat_minor": 2
}
