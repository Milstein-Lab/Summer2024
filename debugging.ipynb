{
 "cells": [
  {
   "cell_type": "code",
   "execution_count": 1,
   "metadata": {},
   "outputs": [],
   "source": [
    "import torch\n",
    "import torch.nn as nn\n",
    "from spiral_neuralnet import *\n",
    "import spiral_neuralnet as spiral"
   ]
  },
  {
   "cell_type": "code",
   "execution_count": 2,
   "metadata": {},
   "outputs": [
    {
     "data": {
      "application/vnd.jupyter.widget-view+json": {
       "model_id": "efed3fab61934bddbade82eb25195256",
       "version_major": 2,
       "version_minor": 0
      },
      "text/plain": [
       "  0%|          | 0/2 [00:00<?, ?it/s]"
      ]
     },
     "metadata": {},
     "output_type": "display_data"
    }
   ],
   "source": [
    "%run spiral_neuralnet.py --interactive --description=dend_temp_contrast_fixed_bias"
   ]
  },
  {
   "cell_type": "code",
   "execution_count": 3,
   "metadata": {},
   "outputs": [],
   "source": [
    "dend_temp_contrast_net = net"
   ]
  },
  {
   "cell_type": "code",
   "execution_count": 4,
   "metadata": {},
   "outputs": [
    {
     "name": "stdout",
     "output_type": "stream",
     "text": [
      "tensor([[ 0.0000,  0.0000,  0.0000,  0.0000, -0.0004,  0.0000, -0.0003, -0.0022,\n",
      "          0.0000,  0.0000, -0.0005, -0.0020, -0.0010,  0.0000, -0.0010, -0.0024,\n",
      "          0.0000, -0.0009,  0.0000,  0.0000, -0.0012,  0.0000, -0.0020, -0.0006,\n",
      "          0.0000, -0.0017,  0.0000, -0.0005,  0.0000,  0.0000, -0.0025,  0.0000],\n",
      "        [ 0.0000,  0.0000,  0.0000,  0.0000,  0.0000,  0.0000,  0.0000,  0.0000,\n",
      "          0.0000,  0.0000,  0.0000,  0.0000,  0.0000,  0.0000,  0.0000,  0.0000,\n",
      "          0.0000,  0.0000,  0.0000,  0.0000,  0.0000,  0.0000,  0.0000,  0.0000,\n",
      "          0.0000,  0.0000,  0.0000,  0.0000,  0.0000,  0.0000,  0.0000,  0.0000],\n",
      "        [ 0.0000,  0.0000,  0.0000,  0.0000,  0.0000,  0.0000,  0.0000,  0.0000,\n",
      "          0.0000,  0.0000,  0.0000,  0.0000,  0.0000,  0.0000,  0.0000,  0.0000,\n",
      "          0.0000,  0.0000,  0.0000,  0.0000,  0.0000,  0.0000,  0.0000,  0.0000,\n",
      "          0.0000,  0.0000,  0.0000,  0.0000,  0.0000,  0.0000,  0.0000,  0.0000],\n",
      "        [ 0.0000,  0.0000,  0.0000,  0.0000, -0.0006,  0.0000, -0.0004, -0.0036,\n",
      "          0.0000,  0.0000, -0.0008, -0.0033, -0.0016,  0.0000, -0.0017, -0.0039,\n",
      "          0.0000, -0.0014,  0.0000,  0.0000, -0.0020,  0.0000, -0.0032, -0.0009,\n",
      "          0.0000, -0.0027,  0.0000, -0.0008,  0.0000,  0.0000, -0.0040,  0.0000]])\n"
     ]
    }
   ],
   "source": [
    "delta_w_dend_temp_contrast = net.weights['Out'].data - net.initial_weights['Out'].data\n",
    "print(delta_w_dend_temp_contrast)"
   ]
  },
  {
   "cell_type": "code",
   "execution_count": 5,
   "metadata": {},
   "outputs": [
    {
     "data": {
      "application/vnd.jupyter.widget-view+json": {
       "model_id": "322efc183c564c58abb89ad9bc6ada84",
       "version_major": 2,
       "version_minor": 0
      },
      "text/plain": [
       "  0%|          | 0/2 [00:00<?, ?it/s]"
      ]
     },
     "metadata": {},
     "output_type": "display_data"
    }
   ],
   "source": [
    "%run spiral_neuralnet.py --interactive --description=backprop_fixed_bias"
   ]
  },
  {
   "cell_type": "code",
   "execution_count": 6,
   "metadata": {},
   "outputs": [],
   "source": [
    "bp_net = net"
   ]
  },
  {
   "cell_type": "code",
   "execution_count": 7,
   "metadata": {},
   "outputs": [
    {
     "name": "stdout",
     "output_type": "stream",
     "text": [
      "tensor([[ 0.0000,  0.0000,  0.0000,  0.0000, -0.0004,  0.0000, -0.0003, -0.0022,\n",
      "          0.0000,  0.0000, -0.0005, -0.0020, -0.0010,  0.0000, -0.0010, -0.0024,\n",
      "          0.0000, -0.0009,  0.0000,  0.0000, -0.0012,  0.0000, -0.0020, -0.0006,\n",
      "          0.0000, -0.0017,  0.0000, -0.0005,  0.0000,  0.0000, -0.0025,  0.0000],\n",
      "        [ 0.0000,  0.0000,  0.0000,  0.0000,  0.0000,  0.0000,  0.0000,  0.0000,\n",
      "          0.0000,  0.0000,  0.0000,  0.0000,  0.0000,  0.0000,  0.0000,  0.0000,\n",
      "          0.0000,  0.0000,  0.0000,  0.0000,  0.0000,  0.0000,  0.0000,  0.0000,\n",
      "          0.0000,  0.0000,  0.0000,  0.0000,  0.0000,  0.0000,  0.0000,  0.0000],\n",
      "        [ 0.0000,  0.0000,  0.0000,  0.0000,  0.0000,  0.0000,  0.0000,  0.0000,\n",
      "          0.0000,  0.0000,  0.0000,  0.0000,  0.0000,  0.0000,  0.0000,  0.0000,\n",
      "          0.0000,  0.0000,  0.0000,  0.0000,  0.0000,  0.0000,  0.0000,  0.0000,\n",
      "          0.0000,  0.0000,  0.0000,  0.0000,  0.0000,  0.0000,  0.0000,  0.0000],\n",
      "        [ 0.0000,  0.0000,  0.0000,  0.0000, -0.0006,  0.0000, -0.0004, -0.0036,\n",
      "          0.0000,  0.0000, -0.0008, -0.0033, -0.0016,  0.0000, -0.0017, -0.0039,\n",
      "          0.0000, -0.0014,  0.0000,  0.0000, -0.0020,  0.0000, -0.0032, -0.0009,\n",
      "          0.0000, -0.0027,  0.0000, -0.0008,  0.0000,  0.0000, -0.0040,  0.0000]])\n"
     ]
    }
   ],
   "source": [
    "delta_w_bp = net.weights['Out'].data - net.initial_weights['Out'].data\n",
    "print(delta_w_bp)"
   ]
  },
  {
   "cell_type": "code",
   "execution_count": 8,
   "metadata": {},
   "outputs": [
    {
     "data": {
      "text/plain": [
       "<matplotlib.collections.PathCollection at 0x2494ca2fa50>"
      ]
     },
     "execution_count": 8,
     "metadata": {},
     "output_type": "execute_result"
    },
    {
     "data": {
      "image/png": "[encoded data removed]",
      "text/plain": [
       "<Figure size 640x480 with 1 Axes>"
      ]
     },
     "metadata": {},
     "output_type": "display_data"
    }
   ],
   "source": [
    "plt.figure()\n",
    "plt.scatter(delta_w_bp.flatten(), delta_w_dend_temp_contrast.flatten())"
   ]
  },
  {
   "cell_type": "code",
   "execution_count": 9,
   "metadata": {},
   "outputs": [
    {
     "data": {
      "text/plain": [
       "tensor(True)"
      ]
     },
     "execution_count": 9,
     "metadata": {},
     "output_type": "execute_result"
    }
   ],
   "source": [
    "torch.all(delta_w_bp.flatten() == delta_w_dend_temp_contrast.flatten())"
   ]
  },
  {
   "cell_type": "code",
   "execution_count": 10,
   "metadata": {},
   "outputs": [
    {
     "data": {
      "text/plain": [
       "tensor(True)"
      ]
     },
     "execution_count": 10,
     "metadata": {},
     "output_type": "execute_result"
    }
   ],
   "source": [
    "torch.all(dend_temp_contrast_net.forward_activity['Out'] == bp_net.forward_activity['Out'])"
   ]
  },
  {
   "cell_type": "code",
   "execution_count": 11,
   "metadata": {},
   "outputs": [
    {
     "data": {
      "text/plain": [
       "tensor(True)"
      ]
     },
     "execution_count": 11,
     "metadata": {},
     "output_type": "execute_result"
    }
   ],
   "source": [
    "torch.all(dend_temp_contrast_net.initial_weights['Out'].data == bp_net.initial_weights['Out'].data)"
   ]
  },
  {
   "cell_type": "code",
   "execution_count": 12,
   "metadata": {},
   "outputs": [
    {
     "data": {
      "text/plain": [
       "tensor([0.0000, 0.0000, 0.0000, 0.0000, 0.0036, 0.0000, 0.0025, 0.0221, 0.0000,\n",
       "        0.0000, 0.0049, 0.0203, 0.0101, 0.0000, 0.0104, 0.0240, 0.0000, 0.0086,\n",
       "        0.0000, 0.0000, 0.0124, 0.0000, 0.0197, 0.0055, 0.0000, 0.0171, 0.0000,\n",
       "        0.0048, 0.0000, 0.0000, 0.0252, 0.0000, 0.0000, 0.0000, 0.0000, 0.0000,\n",
       "        0.0000, 0.0000, 0.0000, 0.0000, 0.0000, 0.0000, 0.0000, 0.0000, 0.0000,\n",
       "        0.0000, 0.0000, 0.0000, 0.0000, 0.0000, 0.0000, 0.0000, 0.0000, 0.0000,\n",
       "        0.0000, 0.0000, 0.0000, 0.0000, 0.0000, 0.0000, 0.0000, 0.0000, 0.0000,\n",
       "        0.0000, 0.0000, 0.0000, 0.0000, 0.0000, 0.0000, 0.0000, 0.0000, 0.0000,\n",
       "        0.0000, 0.0000, 0.0000, 0.0000, 0.0000, 0.0000, 0.0000, 0.0000, 0.0000,\n",
       "        0.0000, 0.0000, 0.0000, 0.0000, 0.0000, 0.0000, 0.0000, 0.0000, 0.0000,\n",
       "        0.0000, 0.0000, 0.0000, 0.0000, 0.0000, 0.0000, 0.0000, 0.0000, 0.0000,\n",
       "        0.0000, 0.0058, 0.0000, 0.0041, 0.0356, 0.0000, 0.0000, 0.0079, 0.0327,\n",
       "        0.0162, 0.0000, 0.0166, 0.0386, 0.0000, 0.0139, 0.0000, 0.0000, 0.0200,\n",
       "        0.0000, 0.0316, 0.0088, 0.0000, 0.0275, 0.0000, 0.0077, 0.0000, 0.0000,\n",
       "        0.0405, 0.0000])"
      ]
     },
     "execution_count": 12,
     "metadata": {},
     "output_type": "execute_result"
    }
   ],
   "source": [
    "\n",
    "bp_net.mlp[-2].weight.grad.flatten()"
   ]
  },
  {
   "cell_type": "code",
   "execution_count": 13,
   "metadata": {},
   "outputs": [],
   "source": [
    "local_loss = dend_temp_contrast_net.nudges['Out'] * dend_temp_contrast_net.ReLU_derivative(dend_temp_contrast_net.forward_soma_state['Out'])"
   ]
  },
  {
   "cell_type": "code",
   "execution_count": 14,
   "metadata": {},
   "outputs": [
    {
     "name": "stdout",
     "output_type": "stream",
     "text": [
      "tensor([[1., 0., 0., 1.]])\n"
     ]
    }
   ],
   "source": [
    "x = dend_temp_contrast_net.forward_soma_state['Out']\n",
    "output = torch.ones_like(x)\n",
    "indexes = torch.where(x <= 0)\n",
    "output[indexes] = 0\n",
    "print(output)"
   ]
  },
  {
   "cell_type": "code",
   "execution_count": 15,
   "metadata": {},
   "outputs": [
    {
     "name": "stdout",
     "output_type": "stream",
     "text": [
      "tensor([[-0.0814,  0.0000,  0.0000, -0.1308]])\n",
      "tensor([[0.1629, 0.0000, 0.0000, 0.2615]])\n",
      "tensor([[ 0.1629, -0.0550, -0.0499,  0.2615]])\n",
      "tensor([[-0.0814,  0.0000,  0.0000, -0.1308]])\n"
     ]
    }
   ],
   "source": [
    "print(local_loss)\n",
    "print(dend_temp_contrast_net.forward_activity['Out'])\n",
    "print(dend_temp_contrast_net.forward_soma_state['Out'])\n",
    "print(dend_temp_contrast_net.nudges['Out'])"
   ]
  },
  {
   "cell_type": "code",
   "execution_count": 16,
   "metadata": {},
   "outputs": [
    {
     "data": {
      "text/plain": [
       "tensor(False)"
      ]
     },
     "execution_count": 16,
     "metadata": {},
     "output_type": "execute_result"
    },
    {
     "data": {
      "image/png": "[encoded data removed]",
      "text/plain": [
       "<Figure size 640x480 with 1 Axes>"
      ]
     },
     "metadata": {},
     "output_type": "display_data"
    }
   ],
   "source": [
    "plt.figure()\n",
    "dw_dend_tc_H1 = dend_temp_contrast_net.weights['H1'].data - dend_temp_contrast_net.initial_weights['H1'].data\n",
    "dw_bp_H1 = bp_net.weights['H1'].data - bp_net.initial_weights['H1'].data\n",
    "plt.scatter(dw_bp_H1.flatten(), dw_dend_tc_H1.flatten())\n",
    "torch.all(dw_dend_tc_H1 == dw_bp_H1)"
   ]
  },
  {
   "cell_type": "code",
   "execution_count": 17,
   "metadata": {},
   "outputs": [
    {
     "data": {
      "text/plain": [
       "<matplotlib.collections.PathCollection at 0x2494cb8c990>"
      ]
     },
     "execution_count": 17,
     "metadata": {},
     "output_type": "execute_result"
    },
    {
     "data": {
      "image/png": "[encoded data removed]",
      "text/plain": [
       "<Figure size 640x480 with 1 Axes>"
      ]
     },
     "metadata": {},
     "output_type": "display_data"
    }
   ],
   "source": [
    "plt.figure()\n",
    "plt.scatter(dw_bp_H1.flatten(), (dw_dend_tc_H1 - dw_bp_H1).flatten())"
   ]
  },
  {
   "cell_type": "code",
   "execution_count": 18,
   "metadata": {},
   "outputs": [
    {
     "data": {
      "text/plain": [
       "tensor([[0.9166, 0.0000, 0.7217, 0.3213, 0.7484, 0.0000, 0.4593, 0.0000, 0.2605,\n",
       "         0.0000, 0.0000, 0.0000, 0.2733, 1.0819, 0.4247, 0.5252, 0.0359, 0.4414,\n",
       "         0.1526, 0.0318, 0.1684, 0.0000, 0.0000, 0.0000, 0.0000, 0.0000, 0.0000,\n",
       "         0.0000, 0.0000, 0.6703, 0.8856, 0.0000, 0.2439, 0.0000, 0.0000, 0.2511,\n",
       "         0.0000, 0.0000, 0.5367, 0.0000, 0.1101, 0.0000, 0.1546, 0.6738, 0.0730,\n",
       "         0.6866, 0.0000, 0.0000, 0.0000, 0.0000, 0.0000, 0.3140, 0.0000, 0.3757,\n",
       "         0.0000, 0.0000, 0.0000, 0.7362, 0.0000, 0.0000, 0.3893, 0.0000, 0.0000,\n",
       "         0.1406, 0.5367, 0.0000, 0.6528, 0.0685, 0.0000, 0.0000, 0.0000, 0.0000,\n",
       "         0.0000, 0.3104, 0.0000, 0.0000, 0.0000, 0.0000, 0.3104, 0.0000, 0.5624,\n",
       "         0.0000, 0.0000, 0.0000, 1.0377, 0.0000, 1.0406, 0.2354, 0.1739, 0.0000,\n",
       "         0.0000, 0.0000, 0.0000, 0.8797, 0.5817, 0.0000, 0.0000, 1.2285, 0.0699,\n",
       "         0.0000, 0.0204, 0.4816, 0.6491, 0.0000, 0.2171, 0.2547, 0.2423, 0.3414,\n",
       "         0.0000, 0.0000, 0.0000, 0.0000, 0.2294, 0.5893, 0.0000, 0.0000, 0.0000,\n",
       "         0.0000, 0.2207, 0.1472, 0.0000, 0.6009, 0.0000, 0.2622, 0.0000, 0.0000,\n",
       "         0.0000, 0.3288]], grad_fn=<ReluBackward0>)"
      ]
     },
     "execution_count": 18,
     "metadata": {},
     "output_type": "execute_result"
    }
   ],
   "source": [
    "dend_temp_contrast_net.backward_activity['H1']"
   ]
  },
  {
   "cell_type": "code",
   "execution_count": 19,
   "metadata": {},
   "outputs": [
    {
     "data": {
      "text/plain": [
       "torch.float32"
      ]
     },
     "execution_count": 19,
     "metadata": {},
     "output_type": "execute_result"
    }
   ],
   "source": [
    "torch.tensor(dend_temp_contrast_net.training_losses).dtype"
   ]
  },
  {
   "cell_type": "code",
   "execution_count": 20,
   "metadata": {},
   "outputs": [
    {
     "name": "stdout",
     "output_type": "stream",
     "text": [
      "1.0\n"
     ]
    },
    {
     "data": {
      "image/png": "[encoded data removed]",
      "text/plain": [
       "<Figure size 640x480 with 1 Axes>"
      ]
     },
     "metadata": {},
     "output_type": "display_data"
    }
   ],
   "source": [
    "# TODO This is wrong, something wrong with nudges \n",
    "\n",
    "plt.figure()\n",
    "unit = 6\n",
    "dw_dend_tc_H2_0 = dend_temp_contrast_net.weights['H2'].data[unit] - dend_temp_contrast_net.initial_weights['H2'].data[unit]\n",
    "dw_bp_H2_0 = bp_net.weights['H2'].data[unit] - bp_net.initial_weights['H2'].data[unit]\n",
    "plt.scatter(dw_bp_H2_0, dw_dend_tc_H2_0)\n",
    "\n",
    "model = np.polyfit(dw_bp_H2_0, dw_dend_tc_H2_0, 1)\n",
    "slope = model[0]\n",
    "intercept = model[1]\n",
    "plt.plot(dw_bp_H2_0, slope * dw_bp_H2_0 + intercept, color='red')\n",
    "print(slope)\n",
    "\n",
    "plt.show()"
   ]
  },
  {
   "cell_type": "code",
   "execution_count": 21,
   "metadata": {},
   "outputs": [
    {
     "name": "stdout",
     "output_type": "stream",
     "text": [
      "tensor([ 0.0543,  0.0240, -0.0796,  0.0223, -0.0234,  0.0667,  0.0620,  0.0362,\n",
      "         0.0683, -0.0805,  0.0048, -0.0086, -0.0835, -0.0144, -0.0073,  0.0058,\n",
      "         0.0083,  0.0107, -0.0637, -0.0305,  0.0432,  0.0525,  0.0514, -0.0081,\n",
      "        -0.0730, -0.0752, -0.0741, -0.0674, -0.0430, -0.0284, -0.0710, -0.0568,\n",
      "         0.0406, -0.0820,  0.0318, -0.0175, -0.0694, -0.0845,  0.0544, -0.0474,\n",
      "        -0.0813, -0.0510,  0.0441,  0.0784, -0.0306, -0.0229,  0.0261,  0.0493,\n",
      "        -0.0156, -0.0239, -0.0348,  0.0309,  0.0826,  0.0243,  0.0132,  0.0378,\n",
      "        -0.0044,  0.0142, -0.0087,  0.0246, -0.0708, -0.0738, -0.0822,  0.0148,\n",
      "         0.0577,  0.0429,  0.0094, -0.0129,  0.0252, -0.0164,  0.0370,  0.0562,\n",
      "        -0.0516,  0.0816, -0.0544,  0.0880,  0.0503,  0.0630, -0.0860, -0.0234,\n",
      "         0.0750,  0.0878,  0.0724,  0.0070, -0.0137,  0.0352,  0.0278, -0.0188,\n",
      "         0.0044, -0.0407,  0.0421,  0.0016, -0.0208, -0.0804, -0.0303, -0.0079,\n",
      "        -0.0519, -0.0253,  0.0782,  0.0168, -0.0389, -0.0138,  0.0068, -0.0247,\n",
      "        -0.0304, -0.0369,  0.0023,  0.0847, -0.0306, -0.0430, -0.0147, -0.0191,\n",
      "        -0.0887,  0.0795, -0.0209, -0.0727, -0.0839,  0.0292,  0.0097, -0.0430,\n",
      "         0.0174,  0.0058,  0.0723,  0.0146,  0.0351, -0.0280, -0.0371,  0.0804])\n",
      "tensor([ 0.0576,  0.0240, -0.0770,  0.0235, -0.0207,  0.0667,  0.0637,  0.0362,\n",
      "         0.0692, -0.0805,  0.0048, -0.0086, -0.0825, -0.0105, -0.0058,  0.0077,\n",
      "         0.0085,  0.0122, -0.0632, -0.0304,  0.0439,  0.0525,  0.0514, -0.0081,\n",
      "        -0.0730, -0.0752, -0.0741, -0.0674, -0.0430, -0.0260, -0.0678, -0.0568,\n",
      "         0.0415, -0.0820,  0.0318, -0.0166, -0.0694, -0.0845,  0.0564, -0.0474,\n",
      "        -0.0809, -0.0510,  0.0447,  0.0808, -0.0303, -0.0205,  0.0261,  0.0493,\n",
      "        -0.0156, -0.0239, -0.0348,  0.0320,  0.0826,  0.0256,  0.0132,  0.0378,\n",
      "        -0.0044,  0.0169, -0.0087,  0.0246, -0.0694, -0.0738, -0.0822,  0.0153,\n",
      "         0.0596,  0.0429,  0.0118, -0.0126,  0.0252, -0.0164,  0.0370,  0.0562,\n",
      "        -0.0516,  0.0827, -0.0544,  0.0880,  0.0503,  0.0630, -0.0849, -0.0234,\n",
      "         0.0770,  0.0878,  0.0724,  0.0070, -0.0100,  0.0352,  0.0316, -0.0180,\n",
      "         0.0050, -0.0407,  0.0421,  0.0016, -0.0208, -0.0773, -0.0282, -0.0079,\n",
      "        -0.0519, -0.0209,  0.0784,  0.0168, -0.0388, -0.0120,  0.0091, -0.0247,\n",
      "        -0.0296, -0.0360,  0.0032,  0.0859, -0.0306, -0.0430, -0.0147, -0.0191,\n",
      "        -0.0879,  0.0816, -0.0209, -0.0727, -0.0839,  0.0292,  0.0105, -0.0425,\n",
      "         0.0174,  0.0080,  0.0723,  0.0156,  0.0351, -0.0280, -0.0371,  0.0816])\n"
     ]
    }
   ],
   "source": [
    "print(dend_temp_contrast_net.weights['H2'].data[6])\n",
    "print(dend_temp_contrast_net.initial_weights['H2'].data[6])"
   ]
  },
  {
   "cell_type": "code",
   "execution_count": 22,
   "metadata": {},
   "outputs": [
    {
     "name": "stdout",
     "output_type": "stream",
     "text": [
      "tensor([ 0.0543,  0.0240, -0.0796,  0.0223, -0.0234,  0.0667,  0.0620,  0.0362,\n",
      "         0.0683, -0.0805,  0.0048, -0.0086, -0.0835, -0.0144, -0.0073,  0.0058,\n",
      "         0.0083,  0.0107, -0.0637, -0.0305,  0.0432,  0.0525,  0.0514, -0.0081,\n",
      "        -0.0730, -0.0752, -0.0741, -0.0674, -0.0430, -0.0284, -0.0710, -0.0568,\n",
      "         0.0406, -0.0820,  0.0318, -0.0175, -0.0694, -0.0845,  0.0544, -0.0474,\n",
      "        -0.0813, -0.0510,  0.0441,  0.0784, -0.0306, -0.0229,  0.0261,  0.0493,\n",
      "        -0.0156, -0.0239, -0.0348,  0.0309,  0.0826,  0.0243,  0.0132,  0.0378,\n",
      "        -0.0044,  0.0142, -0.0087,  0.0246, -0.0708, -0.0738, -0.0822,  0.0148,\n",
      "         0.0577,  0.0429,  0.0094, -0.0129,  0.0252, -0.0164,  0.0370,  0.0562,\n",
      "        -0.0516,  0.0816, -0.0544,  0.0880,  0.0503,  0.0630, -0.0860, -0.0234,\n",
      "         0.0750,  0.0878,  0.0724,  0.0070, -0.0137,  0.0352,  0.0278, -0.0188,\n",
      "         0.0044, -0.0407,  0.0421,  0.0016, -0.0208, -0.0804, -0.0303, -0.0079,\n",
      "        -0.0519, -0.0253,  0.0782,  0.0168, -0.0389, -0.0138,  0.0068, -0.0247,\n",
      "        -0.0304, -0.0369,  0.0023,  0.0847, -0.0306, -0.0430, -0.0147, -0.0191,\n",
      "        -0.0887,  0.0795, -0.0209, -0.0727, -0.0839,  0.0292,  0.0097, -0.0430,\n",
      "         0.0174,  0.0058,  0.0723,  0.0146,  0.0351, -0.0280, -0.0371,  0.0804])\n",
      "tensor([ 0.0576,  0.0240, -0.0770,  0.0235, -0.0207,  0.0667,  0.0637,  0.0362,\n",
      "         0.0692, -0.0805,  0.0048, -0.0086, -0.0825, -0.0105, -0.0058,  0.0077,\n",
      "         0.0085,  0.0122, -0.0632, -0.0304,  0.0439,  0.0525,  0.0514, -0.0081,\n",
      "        -0.0730, -0.0752, -0.0741, -0.0674, -0.0430, -0.0260, -0.0678, -0.0568,\n",
      "         0.0415, -0.0820,  0.0318, -0.0166, -0.0694, -0.0845,  0.0564, -0.0474,\n",
      "        -0.0809, -0.0510,  0.0447,  0.0808, -0.0303, -0.0205,  0.0261,  0.0493,\n",
      "        -0.0156, -0.0239, -0.0348,  0.0320,  0.0826,  0.0256,  0.0132,  0.0378,\n",
      "        -0.0044,  0.0169, -0.0087,  0.0246, -0.0694, -0.0738, -0.0822,  0.0153,\n",
      "         0.0596,  0.0429,  0.0118, -0.0126,  0.0252, -0.0164,  0.0370,  0.0562,\n",
      "        -0.0516,  0.0827, -0.0544,  0.0880,  0.0503,  0.0630, -0.0849, -0.0234,\n",
      "         0.0770,  0.0878,  0.0724,  0.0070, -0.0100,  0.0352,  0.0316, -0.0180,\n",
      "         0.0050, -0.0407,  0.0421,  0.0016, -0.0208, -0.0773, -0.0282, -0.0079,\n",
      "        -0.0519, -0.0209,  0.0784,  0.0168, -0.0388, -0.0120,  0.0091, -0.0247,\n",
      "        -0.0296, -0.0360,  0.0032,  0.0859, -0.0306, -0.0430, -0.0147, -0.0191,\n",
      "        -0.0879,  0.0816, -0.0209, -0.0727, -0.0839,  0.0292,  0.0105, -0.0425,\n",
      "         0.0174,  0.0080,  0.0723,  0.0156,  0.0351, -0.0280, -0.0371,  0.0816])\n"
     ]
    }
   ],
   "source": [
    "print(bp_net.weights['H2'].data[6])\n",
    "print(bp_net.initial_weights['H2'].data[6])"
   ]
  },
  {
   "cell_type": "code",
   "execution_count": 23,
   "metadata": {},
   "outputs": [
    {
     "data": {
      "text/plain": [
       "tensor([True, True, True, True, True, True, True, True, True, True, True, True,\n",
       "        True, True, True, True, True, True, True, True, True, True, True, True,\n",
       "        True, True, True, True, True, True, True, True, True, True, True, True,\n",
       "        True, True, True, True, True, True, True, True, True, True, True, True,\n",
       "        True, True, True, True, True, True, True, True, True, True, True, True,\n",
       "        True, True, True, True, True, True, True, True, True, True, True, True,\n",
       "        True, True, True, True, True, True, True, True, True, True, True, True,\n",
       "        True, True, True, True, True, True, True, True, True, True, True, True,\n",
       "        True, True, True, True, True, True, True, True, True, True, True, True,\n",
       "        True, True, True, True, True, True, True, True, True, True, True, True,\n",
       "        True, True, True, True, True, True, True, True])"
      ]
     },
     "execution_count": 23,
     "metadata": {},
     "output_type": "execute_result"
    }
   ],
   "source": [
    "dend_temp_contrast_net.weights['H2'].data[6] == bp_net.weights['H2'].data[6]"
   ]
  },
  {
   "cell_type": "code",
   "execution_count": 24,
   "metadata": {},
   "outputs": [
    {
     "data": {
      "text/plain": [
       "tensor([[-1.4721e-01,  5.9664e-01],\n",
       "        [ 3.6600e-01, -1.6809e-01],\n",
       "        [-6.7017e-01, -1.9878e-01],\n",
       "        [ 4.1510e-01,  3.9733e-01],\n",
       "        [-5.0474e-02,  1.8803e-01],\n",
       "        [ 2.3893e-01, -3.8151e-01],\n",
       "        [ 4.2483e-01,  3.3260e-01],\n",
       "        [ 3.5034e-01,  8.2672e-02],\n",
       "        [ 1.7359e-01,  4.8477e-01],\n",
       "        [ 1.5633e-01, -5.3060e-01],\n",
       "        [ 4.6171e-01, -4.0772e-01],\n",
       "        [ 5.0547e-01, -1.0150e-01],\n",
       "        [-1.4664e-01, -5.0345e-01],\n",
       "        [-7.0234e-01,  6.3690e-01],\n",
       "        [-3.9670e-01, -2.9811e-01],\n",
       "        [ 2.5239e-01, -4.4968e-04],\n",
       "        [ 5.8616e-01, -3.0646e-01],\n",
       "        [ 1.0460e-01, -3.6155e-01],\n",
       "        [-3.5701e-01, -5.3595e-01],\n",
       "        [ 2.6427e-01,  2.2874e-01],\n",
       "        [ 2.3662e-02,  5.7827e-01],\n",
       "        [ 5.3721e-01,  2.7564e-01],\n",
       "        [-5.5308e-02, -5.2844e-01],\n",
       "        [ 1.8839e-01, -2.2756e-02],\n",
       "        [ 3.9303e-01,  5.9111e-01],\n",
       "        [-5.9852e-01,  6.6363e-01],\n",
       "        [-2.8910e-01,  3.1834e-01],\n",
       "        [ 6.1895e-02,  3.3982e-01],\n",
       "        [-2.5299e-01,  6.2375e-03],\n",
       "        [ 2.0679e-01,  6.0037e-01],\n",
       "        [ 7.9248e-02,  5.8230e-01],\n",
       "        [-6.5196e-02,  8.9018e-02],\n",
       "        [ 4.7058e-01,  6.9607e-01],\n",
       "        [ 2.5729e-01,  2.3979e-01],\n",
       "        [-2.3612e-01, -3.9507e-01],\n",
       "        [ 1.6674e-01,  2.2623e-01],\n",
       "        [-3.0021e-02, -6.7042e-01],\n",
       "        [-5.4535e-01, -2.9733e-01],\n",
       "        [-1.3916e-01,  3.3760e-02],\n",
       "        [-6.9272e-01, -1.6495e-01],\n",
       "        [ 4.7319e-01,  6.6088e-01],\n",
       "        [ 5.1966e-01, -4.0017e-01],\n",
       "        [ 6.7861e-01, -2.2260e-01],\n",
       "        [-5.5405e-01, -4.7035e-01],\n",
       "        [ 7.5308e-03, -3.0127e-01],\n",
       "        [-5.0819e-01, -3.7304e-01],\n",
       "        [-1.4970e-01, -9.7050e-02],\n",
       "        [-5.9729e-02, -5.2850e-01],\n",
       "        [ 1.8613e-01, -6.2106e-01],\n",
       "        [ 6.6865e-01,  6.6818e-01],\n",
       "        [ 4.6310e-01,  5.2821e-01],\n",
       "        [-3.6509e-01,  5.4945e-01],\n",
       "        [-1.6401e-01, -4.5044e-02],\n",
       "        [-1.4264e-01,  6.5728e-01],\n",
       "        [ 5.2758e-02, -4.8021e-01],\n",
       "        [-3.1541e-01,  6.6010e-01],\n",
       "        [ 3.5287e-01,  9.5076e-02],\n",
       "        [-5.9381e-01, -6.6611e-01],\n",
       "        [-2.9821e-01, -6.9308e-01],\n",
       "        [ 5.5178e-01, -4.9653e-01],\n",
       "        [-3.1465e-01, -6.9475e-01],\n",
       "        [ 1.0559e-01,  1.7926e-01],\n",
       "        [-3.5663e-02, -3.2596e-01],\n",
       "        [ 5.6827e-01, -1.4254e-01],\n",
       "        [ 5.4739e-01,  5.2322e-01],\n",
       "        [-1.0514e-01,  9.6873e-02],\n",
       "        [-5.2127e-01,  6.4779e-01],\n",
       "        [ 2.3517e-01, -1.5450e-02],\n",
       "        [-6.0028e-02, -3.3458e-01],\n",
       "        [ 5.8790e-01, -4.2997e-01],\n",
       "        [ 3.3892e-01,  4.5503e-01],\n",
       "        [ 1.4321e-01, -6.4858e-01],\n",
       "        [ 3.8175e-01,  2.3889e-01],\n",
       "        [-1.6850e-01, -3.2920e-01],\n",
       "        [-1.2968e-01, -1.2331e-01],\n",
       "        [ 5.7284e-01, -4.3043e-01],\n",
       "        [ 5.0990e-01, -1.5015e-01],\n",
       "        [ 2.2683e-01,  5.4871e-02],\n",
       "        [-2.3002e-01,  1.0140e-01],\n",
       "        [-5.7697e-04,  6.7035e-01],\n",
       "        [-6.3491e-01, -4.2856e-01],\n",
       "        [ 1.6579e-01, -2.9862e-02],\n",
       "        [ 3.0983e-01,  3.6380e-01],\n",
       "        [-1.1637e-02, -1.0854e-01],\n",
       "        [-5.5574e-01,  6.9627e-01],\n",
       "        [-3.0094e-02,  4.5089e-01],\n",
       "        [-1.8371e-01,  5.4649e-01],\n",
       "        [-5.8222e-01, -5.8527e-01],\n",
       "        [-3.7867e-01, -4.9669e-03],\n",
       "        [-8.0254e-02, -6.1377e-01],\n",
       "        [ 4.5552e-01, -6.2812e-01],\n",
       "        [ 3.6758e-01,  2.4994e-02],\n",
       "        [ 5.4445e-01, -5.6771e-01],\n",
       "        [-7.0295e-01,  4.6739e-01],\n",
       "        [-4.0312e-01,  2.9959e-02],\n",
       "        [ 4.1641e-01, -1.0588e-01],\n",
       "        [ 3.4448e-01, -6.7710e-01],\n",
       "        [-6.2367e-01,  6.3717e-01],\n",
       "        [-6.1914e-01,  7.6258e-02],\n",
       "        [-1.9499e-02,  4.2323e-01],\n",
       "        [ 5.9453e-01, -1.8407e-01],\n",
       "        [-6.2976e-02, -2.1208e-01],\n",
       "        [-3.2234e-01, -2.0728e-01],\n",
       "        [ 5.8311e-01, -7.0146e-01],\n",
       "        [-6.2408e-01, -4.8464e-01],\n",
       "        [-1.6796e-01, -1.7893e-01],\n",
       "        [ 1.4585e-01,  9.8100e-02],\n",
       "        [-4.2640e-01,  2.6945e-01],\n",
       "        [ 6.7975e-01, -2.6439e-01],\n",
       "        [-7.1957e-02,  6.8100e-01],\n",
       "        [ 4.9393e-02, -1.9987e-01],\n",
       "        [ 3.9498e-02, -2.5918e-01],\n",
       "        [-1.0723e-01,  4.2601e-01],\n",
       "        [-3.8557e-01, -1.8818e-01],\n",
       "        [-4.8234e-02, -5.3350e-01],\n",
       "        [-3.1344e-01,  3.9637e-01],\n",
       "        [ 3.6678e-01, -7.0042e-01],\n",
       "        [-1.1917e-01,  5.4617e-02],\n",
       "        [-2.0030e-01,  6.7609e-01],\n",
       "        [-5.6696e-01, -6.9016e-01],\n",
       "        [ 2.1105e-01, -6.7653e-01],\n",
       "        [-5.7853e-01,  4.4338e-01],\n",
       "        [ 3.4296e-01, -3.9693e-01],\n",
       "        [-2.6449e-01,  8.0086e-02],\n",
       "        [ 5.8263e-01, -3.7591e-01],\n",
       "        [ 1.2368e-01,  7.0019e-01],\n",
       "        [ 1.6132e-01, -4.8129e-01],\n",
       "        [-6.2538e-01, -2.0633e-01]])"
      ]
     },
     "execution_count": 24,
     "metadata": {},
     "output_type": "execute_result"
    }
   ],
   "source": [
    "dend_temp_contrast_net.weights['H1'].data"
   ]
  },
  {
   "cell_type": "code",
   "execution_count": 25,
   "metadata": {},
   "outputs": [
    {
     "data": {
      "text/plain": [
       "tensor([[-1.4719e-01,  5.9662e-01],\n",
       "        [ 3.6600e-01, -1.6809e-01],\n",
       "        [-6.7020e-01, -1.9876e-01],\n",
       "        [ 4.1511e-01,  3.9733e-01],\n",
       "        [-5.0480e-02,  1.8804e-01],\n",
       "        [ 2.3893e-01, -3.8151e-01],\n",
       "        [ 4.2485e-01,  3.3258e-01],\n",
       "        [ 3.5034e-01,  8.2672e-02],\n",
       "        [ 1.7362e-01,  4.8476e-01],\n",
       "        [ 1.5633e-01, -5.3060e-01],\n",
       "        [ 4.6171e-01, -4.0772e-01],\n",
       "        [ 5.0547e-01, -1.0150e-01],\n",
       "        [-1.4666e-01, -5.0343e-01],\n",
       "        [-7.0234e-01,  6.3690e-01],\n",
       "        [-3.9670e-01, -2.9811e-01],\n",
       "        [ 2.5239e-01, -4.5126e-04],\n",
       "        [ 5.8616e-01, -3.0646e-01],\n",
       "        [ 1.0460e-01, -3.6155e-01],\n",
       "        [-3.5703e-01, -5.3594e-01],\n",
       "        [ 2.6426e-01,  2.2875e-01],\n",
       "        [ 2.3676e-02,  5.7826e-01],\n",
       "        [ 5.3721e-01,  2.7564e-01],\n",
       "        [-5.5308e-02, -5.2844e-01],\n",
       "        [ 1.8839e-01, -2.2756e-02],\n",
       "        [ 3.9303e-01,  5.9111e-01],\n",
       "        [-5.9852e-01,  6.6363e-01],\n",
       "        [-2.8910e-01,  3.1834e-01],\n",
       "        [ 6.1895e-02,  3.3982e-01],\n",
       "        [-2.5299e-01,  6.2375e-03],\n",
       "        [ 2.0678e-01,  6.0038e-01],\n",
       "        [ 7.9226e-02,  5.8232e-01],\n",
       "        [-6.5196e-02,  8.9018e-02],\n",
       "        [ 4.7059e-01,  6.9606e-01],\n",
       "        [ 2.5729e-01,  2.3979e-01],\n",
       "        [-2.3612e-01, -3.9507e-01],\n",
       "        [ 1.6674e-01,  2.2623e-01],\n",
       "        [-3.0021e-02, -6.7042e-01],\n",
       "        [-5.4535e-01, -2.9733e-01],\n",
       "        [-1.3914e-01,  3.3748e-02],\n",
       "        [-6.9272e-01, -1.6495e-01],\n",
       "        [ 4.7316e-01,  6.6090e-01],\n",
       "        [ 5.1966e-01, -4.0017e-01],\n",
       "        [ 6.7862e-01, -2.2261e-01],\n",
       "        [-5.5402e-01, -4.7037e-01],\n",
       "        [ 7.5209e-03, -3.0126e-01],\n",
       "        [-5.0820e-01, -3.7304e-01],\n",
       "        [-1.4970e-01, -9.7050e-02],\n",
       "        [-5.9729e-02, -5.2850e-01],\n",
       "        [ 1.8613e-01, -6.2106e-01],\n",
       "        [ 6.6865e-01,  6.6818e-01],\n",
       "        [ 4.6310e-01,  5.2821e-01],\n",
       "        [-3.6508e-01,  5.4944e-01],\n",
       "        [-1.6401e-01, -4.5044e-02],\n",
       "        [-1.4264e-01,  6.5727e-01],\n",
       "        [ 5.2758e-02, -4.8021e-01],\n",
       "        [-3.1541e-01,  6.6010e-01],\n",
       "        [ 3.5287e-01,  9.5076e-02],\n",
       "        [-5.9381e-01, -6.6611e-01],\n",
       "        [-2.9821e-01, -6.9308e-01],\n",
       "        [ 5.5178e-01, -4.9653e-01],\n",
       "        [-3.1467e-01, -6.9474e-01],\n",
       "        [ 1.0559e-01,  1.7926e-01],\n",
       "        [-3.5663e-02, -3.2596e-01],\n",
       "        [ 5.6828e-01, -1.4254e-01],\n",
       "        [ 5.4741e-01,  5.2321e-01],\n",
       "        [-1.0514e-01,  9.6873e-02],\n",
       "        [-5.2126e-01,  6.4779e-01],\n",
       "        [ 2.3516e-01, -1.5447e-02],\n",
       "        [-6.0028e-02, -3.3458e-01],\n",
       "        [ 5.8790e-01, -4.2997e-01],\n",
       "        [ 3.3892e-01,  4.5503e-01],\n",
       "        [ 1.4321e-01, -6.4858e-01],\n",
       "        [ 3.8175e-01,  2.3889e-01],\n",
       "        [-1.6847e-01, -3.2921e-01],\n",
       "        [-1.2968e-01, -1.2331e-01],\n",
       "        [ 5.7284e-01, -4.3043e-01],\n",
       "        [ 5.0990e-01, -1.5015e-01],\n",
       "        [ 2.2683e-01,  5.4871e-02],\n",
       "        [-2.3004e-01,  1.0142e-01],\n",
       "        [-5.7697e-04,  6.7035e-01],\n",
       "        [-6.3488e-01, -4.2858e-01],\n",
       "        [ 1.6579e-01, -2.9862e-02],\n",
       "        [ 3.0983e-01,  3.6380e-01],\n",
       "        [-1.1637e-02, -1.0854e-01],\n",
       "        [-5.5574e-01,  6.9627e-01],\n",
       "        [-3.0094e-02,  4.5089e-01],\n",
       "        [-1.8370e-01,  5.4648e-01],\n",
       "        [-5.8223e-01, -5.8527e-01],\n",
       "        [-3.7867e-01, -4.9679e-03],\n",
       "        [-8.0254e-02, -6.1377e-01],\n",
       "        [ 4.5552e-01, -6.2812e-01],\n",
       "        [ 3.6758e-01,  2.4994e-02],\n",
       "        [ 5.4445e-01, -5.6771e-01],\n",
       "        [-7.0298e-01,  4.6741e-01],\n",
       "        [-4.0313e-01,  2.9965e-02],\n",
       "        [ 4.1641e-01, -1.0588e-01],\n",
       "        [ 3.4448e-01, -6.7710e-01],\n",
       "        [-6.2368e-01,  6.3717e-01],\n",
       "        [-6.1912e-01,  7.6242e-02],\n",
       "        [-1.9499e-02,  4.2323e-01],\n",
       "        [ 5.9452e-01, -1.8406e-01],\n",
       "        [-6.2980e-02, -2.1207e-01],\n",
       "        [-3.2234e-01, -2.0728e-01],\n",
       "        [ 5.8311e-01, -7.0146e-01],\n",
       "        [-6.2409e-01, -4.8463e-01],\n",
       "        [-1.6797e-01, -1.7893e-01],\n",
       "        [ 1.4585e-01,  9.8100e-02],\n",
       "        [-4.2637e-01,  2.6943e-01],\n",
       "        [ 6.7975e-01, -2.6439e-01],\n",
       "        [-7.1957e-02,  6.8100e-01],\n",
       "        [ 4.9393e-02, -1.9987e-01],\n",
       "        [ 3.9498e-02, -2.5918e-01],\n",
       "        [-1.0726e-01,  4.2603e-01],\n",
       "        [-3.8555e-01, -1.8820e-01],\n",
       "        [-4.8234e-02, -5.3350e-01],\n",
       "        [-3.1344e-01,  3.9637e-01],\n",
       "        [ 3.6678e-01, -7.0042e-01],\n",
       "        [-1.1917e-01,  5.4617e-02],\n",
       "        [-2.0030e-01,  6.7609e-01],\n",
       "        [-5.6698e-01, -6.9015e-01],\n",
       "        [ 2.1105e-01, -6.7653e-01],\n",
       "        [-5.7853e-01,  4.4337e-01],\n",
       "        [ 3.4296e-01, -3.9693e-01],\n",
       "        [-2.6449e-01,  8.0083e-02],\n",
       "        [ 5.8263e-01, -3.7591e-01],\n",
       "        [ 1.2368e-01,  7.0019e-01],\n",
       "        [ 1.6132e-01, -4.8129e-01],\n",
       "        [-6.2536e-01, -2.0635e-01]])"
      ]
     },
     "execution_count": 25,
     "metadata": {},
     "output_type": "execute_result"
    }
   ],
   "source": [
    "bp_net.weights['H1'].data"
   ]
  },
  {
   "cell_type": "code",
   "execution_count": 26,
   "metadata": {},
   "outputs": [
    {
     "data": {
      "text/plain": [
       "tensor([[-1.8746e-05,  1.1802e-05],\n",
       "        [ 0.0000e+00,  0.0000e+00],\n",
       "        [ 2.5034e-05, -1.5810e-05],\n",
       "        [-7.6592e-06,  4.8280e-06],\n",
       "        [ 6.7316e-06, -4.2468e-06],\n",
       "        [ 0.0000e+00,  0.0000e+00],\n",
       "        [-2.0742e-05,  1.3053e-05],\n",
       "        [ 0.0000e+00,  0.0000e+00],\n",
       "        [-2.2531e-05,  1.4246e-05],\n",
       "        [ 0.0000e+00,  0.0000e+00],\n",
       "        [ 0.0000e+00,  0.0000e+00],\n",
       "        [ 0.0000e+00,  0.0000e+00],\n",
       "        [ 2.6867e-05, -1.6987e-05],\n",
       "        [ 3.3975e-06, -2.1458e-06],\n",
       "        [ 1.8775e-06, -1.1921e-06],\n",
       "        [-2.5034e-06,  1.5788e-06],\n",
       "        [-2.7418e-06,  1.7285e-06],\n",
       "        [-3.9861e-06,  2.5034e-06],\n",
       "        [ 2.0564e-05, -1.2994e-05],\n",
       "        [ 9.8944e-06, -6.2436e-06],\n",
       "        [-1.4273e-05,  9.0599e-06],\n",
       "        [ 0.0000e+00,  0.0000e+00],\n",
       "        [ 0.0000e+00,  0.0000e+00],\n",
       "        [ 0.0000e+00,  0.0000e+00],\n",
       "        [ 0.0000e+00,  0.0000e+00],\n",
       "        [ 0.0000e+00,  0.0000e+00],\n",
       "        [ 0.0000e+00,  0.0000e+00],\n",
       "        [ 0.0000e+00,  0.0000e+00],\n",
       "        [ 0.0000e+00,  0.0000e+00],\n",
       "        [ 8.4490e-06, -5.3048e-06],\n",
       "        [ 2.2069e-05, -1.3947e-05],\n",
       "        [ 0.0000e+00,  0.0000e+00],\n",
       "        [-1.3500e-05,  8.5235e-06],\n",
       "        [ 0.0000e+00,  0.0000e+00],\n",
       "        [ 0.0000e+00,  0.0000e+00],\n",
       "        [ 5.4240e-06, -3.4124e-06],\n",
       "        [ 0.0000e+00,  0.0000e+00],\n",
       "        [ 0.0000e+00,  0.0000e+00],\n",
       "        [-1.8343e-05,  1.1582e-05],\n",
       "        [ 0.0000e+00,  0.0000e+00],\n",
       "        [ 2.6345e-05, -1.6570e-05],\n",
       "        [ 0.0000e+00,  0.0000e+00],\n",
       "        [-1.4484e-05,  9.1642e-06],\n",
       "        [-2.6286e-05,  1.6630e-05],\n",
       "        [ 9.8776e-06, -6.2287e-06],\n",
       "        [ 6.6757e-06, -4.2021e-06],\n",
       "        [ 0.0000e+00,  0.0000e+00],\n",
       "        [ 0.0000e+00,  0.0000e+00],\n",
       "        [ 0.0000e+00,  0.0000e+00],\n",
       "        [ 0.0000e+00,  0.0000e+00],\n",
       "        [ 0.0000e+00,  0.0000e+00],\n",
       "        [-1.0401e-05,  6.6161e-06],\n",
       "        [ 0.0000e+00,  0.0000e+00],\n",
       "        [-8.3447e-06,  5.2452e-06],\n",
       "        [ 0.0000e+00,  0.0000e+00],\n",
       "        [ 0.0000e+00,  0.0000e+00],\n",
       "        [ 0.0000e+00,  0.0000e+00],\n",
       "        [-5.4836e-06,  3.4571e-06],\n",
       "        [ 0.0000e+00,  0.0000e+00],\n",
       "        [ 0.0000e+00,  0.0000e+00],\n",
       "        [ 2.2620e-05, -1.4246e-05],\n",
       "        [ 0.0000e+00,  0.0000e+00],\n",
       "        [ 0.0000e+00,  0.0000e+00],\n",
       "        [-4.9472e-06,  3.1441e-06],\n",
       "        [-1.9372e-05,  1.2219e-05],\n",
       "        [ 0.0000e+00,  0.0000e+00],\n",
       "        [-3.8147e-06,  2.4438e-06],\n",
       "        [ 4.1127e-06, -2.5909e-06],\n",
       "        [ 0.0000e+00,  0.0000e+00],\n",
       "        [ 0.0000e+00,  0.0000e+00],\n",
       "        [ 0.0000e+00,  0.0000e+00],\n",
       "        [ 0.0000e+00,  0.0000e+00],\n",
       "        [ 0.0000e+00,  0.0000e+00],\n",
       "        [-2.6911e-05,  1.6987e-05],\n",
       "        [ 0.0000e+00,  0.0000e+00],\n",
       "        [ 0.0000e+00,  0.0000e+00],\n",
       "        [ 0.0000e+00,  0.0000e+00],\n",
       "        [ 0.0000e+00,  0.0000e+00],\n",
       "        [ 2.7627e-05, -1.7434e-05],\n",
       "        [ 0.0000e+00,  0.0000e+00],\n",
       "        [-2.5094e-05,  1.5825e-05],\n",
       "        [ 0.0000e+00,  0.0000e+00],\n",
       "        [ 0.0000e+00,  0.0000e+00],\n",
       "        [ 0.0000e+00,  0.0000e+00],\n",
       "        [ 3.2783e-06, -2.0862e-06],\n",
       "        [ 0.0000e+00,  0.0000e+00],\n",
       "        [-1.0282e-05,  6.4969e-06],\n",
       "        [ 5.9009e-06, -3.6955e-06],\n",
       "        [-1.6391e-06,  1.0342e-06],\n",
       "        [ 0.0000e+00,  0.0000e+00],\n",
       "        [ 0.0000e+00,  0.0000e+00],\n",
       "        [ 0.0000e+00,  0.0000e+00],\n",
       "        [ 0.0000e+00,  0.0000e+00],\n",
       "        [ 2.5153e-05, -1.5885e-05],\n",
       "        [ 9.1791e-06, -5.7872e-06],\n",
       "        [ 0.0000e+00,  0.0000e+00],\n",
       "        [ 0.0000e+00,  0.0000e+00],\n",
       "        [ 6.8545e-06, -4.2915e-06],\n",
       "        [-2.5511e-05,  1.6108e-05],\n",
       "        [ 0.0000e+00,  0.0000e+00],\n",
       "        [ 1.2636e-05, -7.9721e-06],\n",
       "        [ 3.9190e-06, -2.4736e-06],\n",
       "        [-2.9802e-06,  1.8775e-06],\n",
       "        [ 0.0000e+00,  0.0000e+00],\n",
       "        [ 9.6560e-06, -6.0797e-06],\n",
       "        [ 1.1727e-05, -7.4059e-06],\n",
       "        [-1.0431e-06,  6.5565e-07],\n",
       "        [-2.7984e-05,  1.7643e-05],\n",
       "        [ 0.0000e+00,  0.0000e+00],\n",
       "        [ 0.0000e+00,  0.0000e+00],\n",
       "        [ 0.0000e+00,  0.0000e+00],\n",
       "        [ 0.0000e+00,  0.0000e+00],\n",
       "        [ 2.8618e-05, -1.8060e-05],\n",
       "        [-2.6554e-05,  1.6764e-05],\n",
       "        [ 0.0000e+00,  0.0000e+00],\n",
       "        [ 0.0000e+00,  0.0000e+00],\n",
       "        [ 0.0000e+00,  0.0000e+00],\n",
       "        [ 0.0000e+00,  0.0000e+00],\n",
       "        [-3.4273e-06,  2.1458e-06],\n",
       "        [ 1.3828e-05, -8.7023e-06],\n",
       "        [ 0.0000e+00,  0.0000e+00],\n",
       "        [-2.6226e-06,  1.6391e-06],\n",
       "        [ 0.0000e+00,  0.0000e+00],\n",
       "        [-5.0962e-06,  3.2037e-06],\n",
       "        [ 0.0000e+00,  0.0000e+00],\n",
       "        [ 0.0000e+00,  0.0000e+00],\n",
       "        [ 0.0000e+00,  0.0000e+00],\n",
       "        [-2.6584e-05,  1.6764e-05]])"
      ]
     },
     "execution_count": 26,
     "metadata": {},
     "output_type": "execute_result"
    }
   ],
   "source": [
    "dend_temp_contrast_net.weights['H1'].data - bp_net.weights['H1'].data"
   ]
  },
  {
   "cell_type": "code",
   "execution_count": 27,
   "metadata": {},
   "outputs": [
    {
     "data": {
      "text/plain": [
       "tensor(True)"
      ]
     },
     "execution_count": 27,
     "metadata": {},
     "output_type": "execute_result"
    }
   ],
   "source": [
    "torch.all(dend_temp_contrast_net.ReLU_derivative(dend_temp_contrast_net.forward_soma_state['H2']) == bp_net.ReLU_derivative(bp_net.forward_soma_state['H2']))"
   ]
  },
  {
   "cell_type": "code",
   "execution_count": 28,
   "metadata": {},
   "outputs": [],
   "source": [
    "local_loss_H2 = dend_temp_contrast_net.nudges['H2'] * dend_temp_contrast_net.ReLU_derivative(dend_temp_contrast_net.forward_soma_state['H2'])"
   ]
  },
  {
   "cell_type": "code",
   "execution_count": 29,
   "metadata": {},
   "outputs": [
    {
     "name": "stdout",
     "output_type": "stream",
     "text": [
      "tensor([[ 0.0000, -0.0000, -0.0000,  0.0000,  0.0015, -0.0000, -0.0360,  0.0003,\n",
      "          0.0000,  0.0000, -0.0025, -0.0111,  0.0005, -0.0000,  0.0038, -0.0070,\n",
      "          0.0000,  0.0030, -0.0000,  0.0000, -0.0155, -0.0000,  0.0028,  0.0066,\n",
      "         -0.0000,  0.0028,  0.0000,  0.0249,  0.0000,  0.0000, -0.0255,  0.0000]],\n",
      "       grad_fn=<MulBackward0>)\n",
      "tensor([[0.0000, 0.0000, 0.0000, 0.0000, 0.0447, 0.0000, 0.0312, 0.2719, 0.0000,\n",
      "         0.0000, 0.0600, 0.2498, 0.1240, 0.0000, 0.1271, 0.2948, 0.0000, 0.1060,\n",
      "         0.0000, 0.0000, 0.1527, 0.0000, 0.2417, 0.0676, 0.0000, 0.2099, 0.0000,\n",
      "         0.0590, 0.0000, 0.0000, 0.3094, 0.0000]])\n",
      "tensor([[-0.1113, -0.2577, -0.0010, -0.2017,  0.0447, -0.1113,  0.0312,  0.2719,\n",
      "         -0.1174, -0.2217,  0.0600,  0.2498,  0.1240, -0.1924,  0.1271,  0.2948,\n",
      "         -0.1406,  0.1060, -0.1267, -0.3052,  0.1527, -0.0050,  0.2417,  0.0676,\n",
      "         -0.1506,  0.2099, -0.0667,  0.0590, -0.0058, -0.2815,  0.3094, -0.0932]])\n",
      "tensor([[ 0.0000, -0.0000, -0.0000,  0.0000,  0.0015, -0.0000, -0.0360,  0.0003,\n",
      "          0.0000,  0.0000, -0.0025, -0.0111,  0.0005, -0.0000,  0.0038, -0.0070,\n",
      "          0.0000,  0.0030, -0.0000,  0.0000, -0.0155, -0.0000,  0.0028,  0.0066,\n",
      "         -0.0000,  0.0028,  0.0000,  0.0249,  0.0000,  0.0000, -0.0255,  0.0000]],\n",
      "       grad_fn=<MulBackward0>)\n"
     ]
    }
   ],
   "source": [
    "print(local_loss_H2)\n",
    "print(dend_temp_contrast_net.forward_activity['H2'])\n",
    "print(dend_temp_contrast_net.forward_soma_state['H2'])\n",
    "print(dend_temp_contrast_net.nudges['H2'])"
   ]
  },
  {
   "cell_type": "code",
   "execution_count": 30,
   "metadata": {},
   "outputs": [
    {
     "data": {
      "text/plain": [
       "torch.Size([32, 128])"
      ]
     },
     "execution_count": 30,
     "metadata": {},
     "output_type": "execute_result"
    }
   ],
   "source": [
    "bp_net.weights['H2'].grad.shape"
   ]
  },
  {
   "cell_type": "code",
   "execution_count": 31,
   "metadata": {},
   "outputs": [
    {
     "data": {
      "text/plain": [
       "torch.Size([1, 32])"
      ]
     },
     "execution_count": 31,
     "metadata": {},
     "output_type": "execute_result"
    }
   ],
   "source": [
    "dend_temp_contrast_net.nudges['H2'].shape"
   ]
  },
  {
   "cell_type": "code",
   "execution_count": 32,
   "metadata": {},
   "outputs": [
    {
     "data": {
      "text/plain": [
       "tensor([[-0.0006,  0.0244,  0.0677, -0.0220, -0.0029,  0.0051,  0.0721, -0.0006,\n",
       "         -0.0104, -0.0598,  0.0050,  0.0223, -0.0010,  0.0435, -0.0077,  0.0141,\n",
       "         -0.0127, -0.0061,  0.0555, -0.0260,  0.0310,  0.0385, -0.0055, -0.0132,\n",
       "          0.0352, -0.0056, -0.0119, -0.0499, -0.0656, -0.0415,  0.0510, -0.0202]],\n",
       "       grad_fn=<MmBackward0>)"
      ]
     },
     "execution_count": 32,
     "metadata": {},
     "output_type": "execute_result"
    }
   ],
   "source": [
    "dend_temp_contrast_net.forward_dend_state['H2']"
   ]
  },
  {
   "cell_type": "code",
   "execution_count": 33,
   "metadata": {},
   "outputs": [
    {
     "data": {
      "text/plain": [
       "<Figure size 640x480 with 0 Axes>"
      ]
     },
     "metadata": {},
     "output_type": "display_data"
    }
   ],
   "source": [
    "plt.figure()\n",
    "# plt.scatter(dw_bp_H1.flatten(), bp_net.mlp[-4].weight.grad.flatten())\n",
    "\n",
    "# model = np.polyfit(dw_bp_H2, bp_net.mlp[-4].weight.grad.flatten(), 1)\n",
    "# slope = model[0]\n",
    "# intercept = model[1]\n",
    "# plt.plot(dw_bp_H2, slope * dw_bp_H2 + intercept, color='red')\n",
    "# print(slope)\n",
    "\n",
    "plt.show()"
   ]
  },
  {
   "cell_type": "code",
   "execution_count": 34,
   "metadata": {},
   "outputs": [
    {
     "name": "stdout",
     "output_type": "stream",
     "text": [
      "tensor(-0.147211953997611999511718750000, grad_fn=<SelectBackward0>)\n",
      "tensor(0.918737173080444335937500000000)\n",
      "tensor(0.916626155376434326171875000000, grad_fn=<SelectBackward0>)\n",
      "tensor(-0.002111045643687248229980468750, grad_fn=<SelectBackward0>)\n",
      "tensor(-0.671471178531646728515625000000)\n"
     ]
    }
   ],
   "source": [
    "torch.set_printoptions(precision=30)\n",
    "print(dend_temp_contrast_net.weights['H1'][0][0])\n",
    "print(dend_temp_contrast_net.forward_activity['H1'][0][0])\n",
    "print(dend_temp_contrast_net.backward_activity['H1'][0][0])\n",
    "print(dend_temp_contrast_net.nudges['H1'][0][0])\n",
    "print(dend_temp_contrast_net.forward_activity['Input'][0][0])"
   ]
  },
  {
   "cell_type": "code",
   "execution_count": 35,
   "metadata": {},
   "outputs": [
    {
     "data": {
      "text/plain": [
       "tensor(0.002390213310718536376953125000)"
      ]
     },
     "execution_count": 35,
     "metadata": {},
     "output_type": "execute_result"
    }
   ],
   "source": [
    "bp_net.weights['H1'].grad.data[0][0] / bp_net.forward_activity['Input'][0][0]"
   ]
  },
  {
   "cell_type": "code",
   "execution_count": 36,
   "metadata": {},
   "outputs": [
    {
     "data": {
      "text/plain": [
       "tensor(-0.002111045643687248229980468750, grad_fn=<SelectBackward0>)"
      ]
     },
     "execution_count": 36,
     "metadata": {},
     "output_type": "execute_result"
    }
   ],
   "source": [
    "dend_temp_contrast_net.nudges['H1'][0][0] # * dend_temp_contrast_net.forward_activity['Input'][0][0]"
   ]
  },
  {
   "cell_type": "code",
   "execution_count": 37,
   "metadata": {},
   "outputs": [
    {
     "data": {
      "text/plain": [
       "tensor([ 0.000160500407218933105468750000, -0.000101268291473388671875000000])"
      ]
     },
     "execution_count": 37,
     "metadata": {},
     "output_type": "execute_result"
    }
   ],
   "source": [
    "dw_bp_H1[0]"
   ]
  },
  {
   "cell_type": "code",
   "execution_count": 38,
   "metadata": {},
   "outputs": [
    {
     "data": {
      "text/plain": [
       "tensor([ 1.417547464370727539062500000000e-04,\n",
       "        -8.946657180786132812500000000000e-05])"
      ]
     },
     "execution_count": 38,
     "metadata": {},
     "output_type": "execute_result"
    }
   ],
   "source": [
    "dw_dend_tc_H1[0]"
   ]
  },
  {
   "cell_type": "code",
   "execution_count": 39,
   "metadata": {},
   "outputs": [
    {
     "data": {
      "text/plain": [
       "tensor(True)"
      ]
     },
     "execution_count": 39,
     "metadata": {},
     "output_type": "execute_result"
    }
   ],
   "source": [
    "torch.all(dend_temp_contrast_net.forward_activity['Input'] == bp_net.forward_activity['Input'])"
   ]
  },
  {
   "cell_type": "code",
   "execution_count": 40,
   "metadata": {},
   "outputs": [
    {
     "data": {
      "text/plain": [
       "tensor(-0.671471178531646728515625000000)"
      ]
     },
     "execution_count": 40,
     "metadata": {},
     "output_type": "execute_result"
    }
   ],
   "source": [
    "bp_net.forward_activity['Input'][0][0]"
   ]
  },
  {
   "cell_type": "code",
   "execution_count": 41,
   "metadata": {},
   "outputs": [
    {
     "data": {
      "text/plain": [
       "tensor([[ 1.874566078186035156250000000000e-05,\n",
       "         -1.180171966552734375000000000000e-05],\n",
       "        [ 0.000000000000000000000000000000e+00,\n",
       "          0.000000000000000000000000000000e+00],\n",
       "        [-2.503395080566406250000000000000e-05,\n",
       "          1.581013202667236328125000000000e-05],\n",
       "        [ 7.659196853637695312500000000000e-06,\n",
       "         -4.827976226806640625000000000000e-06],\n",
       "        [-6.731599569320678710937500000000e-06,\n",
       "          4.246830940246582031250000000000e-06],\n",
       "        [ 0.000000000000000000000000000000e+00,\n",
       "          0.000000000000000000000000000000e+00],\n",
       "        [ 2.074241638183593750000000000000e-05,\n",
       "         -1.305341720581054687500000000000e-05],\n",
       "        [ 0.000000000000000000000000000000e+00,\n",
       "          0.000000000000000000000000000000e+00],\n",
       "        [ 2.253055572509765625000000000000e-05,\n",
       "         -1.424551010131835937500000000000e-05],\n",
       "        [ 0.000000000000000000000000000000e+00,\n",
       "          0.000000000000000000000000000000e+00],\n",
       "        [ 0.000000000000000000000000000000e+00,\n",
       "          0.000000000000000000000000000000e+00],\n",
       "        [ 0.000000000000000000000000000000e+00,\n",
       "          0.000000000000000000000000000000e+00],\n",
       "        [-2.686679363250732421875000000000e-05,\n",
       "          1.698732376098632812500000000000e-05],\n",
       "        [-3.397464752197265625000000000000e-06,\n",
       "          2.145767211914062500000000000000e-06],\n",
       "        [-1.877546310424804687500000000000e-06,\n",
       "          1.192092895507812500000000000000e-06],\n",
       "        [ 2.503395080566406250000000000000e-06,\n",
       "         -1.578795490786433219909667968750e-06],\n",
       "        [ 2.741813659667968750000000000000e-06,\n",
       "         -1.728534698486328125000000000000e-06],\n",
       "        [ 3.986060619354248046875000000000e-06,\n",
       "         -2.503395080566406250000000000000e-06],\n",
       "        [-2.056360244750976562500000000000e-05,\n",
       "          1.299381256103515625000000000000e-05],\n",
       "        [-9.894371032714843750000000000000e-06,\n",
       "          6.243586540222167968750000000000e-06],\n",
       "        [ 1.427344977855682373046875000000e-05,\n",
       "         -9.059906005859375000000000000000e-06],\n",
       "        [ 0.000000000000000000000000000000e+00,\n",
       "          0.000000000000000000000000000000e+00],\n",
       "        [ 0.000000000000000000000000000000e+00,\n",
       "          0.000000000000000000000000000000e+00],\n",
       "        [ 0.000000000000000000000000000000e+00,\n",
       "          0.000000000000000000000000000000e+00],\n",
       "        [ 0.000000000000000000000000000000e+00,\n",
       "          0.000000000000000000000000000000e+00],\n",
       "        [ 0.000000000000000000000000000000e+00,\n",
       "          0.000000000000000000000000000000e+00],\n",
       "        [ 0.000000000000000000000000000000e+00,\n",
       "          0.000000000000000000000000000000e+00],\n",
       "        [ 0.000000000000000000000000000000e+00,\n",
       "          0.000000000000000000000000000000e+00],\n",
       "        [ 0.000000000000000000000000000000e+00,\n",
       "          0.000000000000000000000000000000e+00],\n",
       "        [-8.448958396911621093750000000000e-06,\n",
       "          5.304813385009765625000000000000e-06],\n",
       "        [-2.206861972808837890625000000000e-05,\n",
       "          1.394748687744140625000000000000e-05],\n",
       "        [ 0.000000000000000000000000000000e+00,\n",
       "          0.000000000000000000000000000000e+00],\n",
       "        [ 1.350045204162597656250000000000e-05,\n",
       "         -8.523464202880859375000000000000e-06],\n",
       "        [ 0.000000000000000000000000000000e+00,\n",
       "          0.000000000000000000000000000000e+00],\n",
       "        [ 0.000000000000000000000000000000e+00,\n",
       "          0.000000000000000000000000000000e+00],\n",
       "        [-5.424022674560546875000000000000e-06,\n",
       "          3.412365913391113281250000000000e-06],\n",
       "        [ 0.000000000000000000000000000000e+00,\n",
       "          0.000000000000000000000000000000e+00],\n",
       "        [ 0.000000000000000000000000000000e+00,\n",
       "          0.000000000000000000000000000000e+00],\n",
       "        [ 1.834332942962646484375000000000e-05,\n",
       "         -1.158192753791809082031250000000e-05],\n",
       "        [ 0.000000000000000000000000000000e+00,\n",
       "          0.000000000000000000000000000000e+00],\n",
       "        [-2.634525299072265625000000000000e-05,\n",
       "          1.657009124755859375000000000000e-05],\n",
       "        [ 0.000000000000000000000000000000e+00,\n",
       "          0.000000000000000000000000000000e+00],\n",
       "        [ 1.448392868041992187500000000000e-05,\n",
       "         -9.164214134216308593750000000000e-06],\n",
       "        [ 2.628564834594726562500000000000e-05,\n",
       "         -1.662969589233398437500000000000e-05],\n",
       "        [-9.877607226371765136718750000000e-06,\n",
       "          6.228685379028320312500000000000e-06],\n",
       "        [-6.675720214843750000000000000000e-06,\n",
       "          4.202127456665039062500000000000e-06],\n",
       "        [ 0.000000000000000000000000000000e+00,\n",
       "          0.000000000000000000000000000000e+00],\n",
       "        [ 0.000000000000000000000000000000e+00,\n",
       "          0.000000000000000000000000000000e+00],\n",
       "        [ 0.000000000000000000000000000000e+00,\n",
       "          0.000000000000000000000000000000e+00],\n",
       "        [ 0.000000000000000000000000000000e+00,\n",
       "          0.000000000000000000000000000000e+00],\n",
       "        [ 0.000000000000000000000000000000e+00,\n",
       "          0.000000000000000000000000000000e+00],\n",
       "        [ 1.040101051330566406250000000000e-05,\n",
       "         -6.616115570068359375000000000000e-06],\n",
       "        [ 0.000000000000000000000000000000e+00,\n",
       "          0.000000000000000000000000000000e+00],\n",
       "        [ 8.344650268554687500000000000000e-06,\n",
       "         -5.245208740234375000000000000000e-06],\n",
       "        [ 0.000000000000000000000000000000e+00,\n",
       "          0.000000000000000000000000000000e+00],\n",
       "        [ 0.000000000000000000000000000000e+00,\n",
       "          0.000000000000000000000000000000e+00],\n",
       "        [ 0.000000000000000000000000000000e+00,\n",
       "          0.000000000000000000000000000000e+00],\n",
       "        [ 5.483627319335937500000000000000e-06,\n",
       "         -3.457069396972656250000000000000e-06],\n",
       "        [ 0.000000000000000000000000000000e+00,\n",
       "          0.000000000000000000000000000000e+00],\n",
       "        [ 0.000000000000000000000000000000e+00,\n",
       "          0.000000000000000000000000000000e+00],\n",
       "        [-2.261996269226074218750000000000e-05,\n",
       "          1.424551010131835937500000000000e-05],\n",
       "        [ 0.000000000000000000000000000000e+00,\n",
       "          0.000000000000000000000000000000e+00],\n",
       "        [ 0.000000000000000000000000000000e+00,\n",
       "          0.000000000000000000000000000000e+00],\n",
       "        [ 4.947185516357421875000000000000e-06,\n",
       "         -3.144145011901855468750000000000e-06],\n",
       "        [ 1.937150955200195312500000000000e-05,\n",
       "         -1.221895217895507812500000000000e-05],\n",
       "        [ 0.000000000000000000000000000000e+00,\n",
       "          0.000000000000000000000000000000e+00],\n",
       "        [ 3.814697265625000000000000000000e-06,\n",
       "         -2.443790435791015625000000000000e-06],\n",
       "        [-4.112720489501953125000000000000e-06,\n",
       "          2.590939402580261230468750000000e-06],\n",
       "        [ 0.000000000000000000000000000000e+00,\n",
       "          0.000000000000000000000000000000e+00],\n",
       "        [ 0.000000000000000000000000000000e+00,\n",
       "          0.000000000000000000000000000000e+00],\n",
       "        [ 0.000000000000000000000000000000e+00,\n",
       "          0.000000000000000000000000000000e+00],\n",
       "        [ 0.000000000000000000000000000000e+00,\n",
       "          0.000000000000000000000000000000e+00],\n",
       "        [ 0.000000000000000000000000000000e+00,\n",
       "          0.000000000000000000000000000000e+00],\n",
       "        [ 2.691149711608886718750000000000e-05,\n",
       "         -1.698732376098632812500000000000e-05],\n",
       "        [ 0.000000000000000000000000000000e+00,\n",
       "          0.000000000000000000000000000000e+00],\n",
       "        [ 0.000000000000000000000000000000e+00,\n",
       "          0.000000000000000000000000000000e+00],\n",
       "        [ 0.000000000000000000000000000000e+00,\n",
       "          0.000000000000000000000000000000e+00],\n",
       "        [ 0.000000000000000000000000000000e+00,\n",
       "          0.000000000000000000000000000000e+00],\n",
       "        [-2.762675285339355468750000000000e-05,\n",
       "          1.743435859680175781250000000000e-05],\n",
       "        [ 0.000000000000000000000000000000e+00,\n",
       "          0.000000000000000000000000000000e+00],\n",
       "        [ 2.509355545043945312500000000000e-05,\n",
       "         -1.582503318786621093750000000000e-05],\n",
       "        [ 0.000000000000000000000000000000e+00,\n",
       "          0.000000000000000000000000000000e+00],\n",
       "        [ 0.000000000000000000000000000000e+00,\n",
       "          0.000000000000000000000000000000e+00],\n",
       "        [ 0.000000000000000000000000000000e+00,\n",
       "          0.000000000000000000000000000000e+00],\n",
       "        [-3.278255462646484375000000000000e-06,\n",
       "          2.086162567138671875000000000000e-06],\n",
       "        [ 0.000000000000000000000000000000e+00,\n",
       "          0.000000000000000000000000000000e+00],\n",
       "        [ 1.028180122375488281250000000000e-05,\n",
       "         -6.496906280517578125000000000000e-06],\n",
       "        [-5.900859832763671875000000000000e-06,\n",
       "          3.695487976074218750000000000000e-06],\n",
       "        [ 1.639127731323242187500000000000e-06,\n",
       "         -1.034233719110488891601562500000e-06],\n",
       "        [ 0.000000000000000000000000000000e+00,\n",
       "          0.000000000000000000000000000000e+00],\n",
       "        [ 0.000000000000000000000000000000e+00,\n",
       "          0.000000000000000000000000000000e+00],\n",
       "        [ 0.000000000000000000000000000000e+00,\n",
       "          0.000000000000000000000000000000e+00],\n",
       "        [ 0.000000000000000000000000000000e+00,\n",
       "          0.000000000000000000000000000000e+00],\n",
       "        [-2.515316009521484375000000000000e-05,\n",
       "          1.588463783264160156250000000000e-05],\n",
       "        [-9.179115295410156250000000000000e-06,\n",
       "          5.787238478660583496093750000000e-06],\n",
       "        [ 0.000000000000000000000000000000e+00,\n",
       "          0.000000000000000000000000000000e+00],\n",
       "        [ 0.000000000000000000000000000000e+00,\n",
       "          0.000000000000000000000000000000e+00],\n",
       "        [-6.854534149169921875000000000000e-06,\n",
       "          4.291534423828125000000000000000e-06],\n",
       "        [ 2.551078796386718750000000000000e-05,\n",
       "         -1.610815525054931640625000000000e-05],\n",
       "        [ 0.000000000000000000000000000000e+00,\n",
       "          0.000000000000000000000000000000e+00],\n",
       "        [-1.263618469238281250000000000000e-05,\n",
       "          7.972121238708496093750000000000e-06],\n",
       "        [-3.919005393981933593750000000000e-06,\n",
       "          2.473592758178710937500000000000e-06],\n",
       "        [ 2.980232238769531250000000000000e-06,\n",
       "         -1.877546310424804687500000000000e-06],\n",
       "        [ 0.000000000000000000000000000000e+00,\n",
       "          0.000000000000000000000000000000e+00],\n",
       "        [-9.655952453613281250000000000000e-06,\n",
       "          6.079673767089843750000000000000e-06],\n",
       "        [-1.172721385955810546875000000000e-05,\n",
       "          7.405877113342285156250000000000e-06],\n",
       "        [ 1.043081283569335937500000000000e-06,\n",
       "         -6.556510925292968750000000000000e-07],\n",
       "        [ 2.798438072204589843750000000000e-05,\n",
       "         -1.764297485351562500000000000000e-05],\n",
       "        [ 0.000000000000000000000000000000e+00,\n",
       "          0.000000000000000000000000000000e+00],\n",
       "        [ 0.000000000000000000000000000000e+00,\n",
       "          0.000000000000000000000000000000e+00],\n",
       "        [ 0.000000000000000000000000000000e+00,\n",
       "          0.000000000000000000000000000000e+00],\n",
       "        [ 0.000000000000000000000000000000e+00,\n",
       "          0.000000000000000000000000000000e+00],\n",
       "        [-2.861768007278442382812500000000e-05,\n",
       "          1.806020736694335937500000000000e-05],\n",
       "        [ 2.655386924743652343750000000000e-05,\n",
       "         -1.676380634307861328125000000000e-05],\n",
       "        [ 0.000000000000000000000000000000e+00,\n",
       "          0.000000000000000000000000000000e+00],\n",
       "        [ 0.000000000000000000000000000000e+00,\n",
       "          0.000000000000000000000000000000e+00],\n",
       "        [ 0.000000000000000000000000000000e+00,\n",
       "          0.000000000000000000000000000000e+00],\n",
       "        [ 0.000000000000000000000000000000e+00,\n",
       "          0.000000000000000000000000000000e+00],\n",
       "        [ 3.427267074584960937500000000000e-06,\n",
       "         -2.145767211914062500000000000000e-06],\n",
       "        [-1.382827758789062500000000000000e-05,\n",
       "          8.702278137207031250000000000000e-06],\n",
       "        [ 0.000000000000000000000000000000e+00,\n",
       "          0.000000000000000000000000000000e+00],\n",
       "        [ 2.622604370117187500000000000000e-06,\n",
       "         -1.639127731323242187500000000000e-06],\n",
       "        [ 0.000000000000000000000000000000e+00,\n",
       "          0.000000000000000000000000000000e+00],\n",
       "        [ 5.096197128295898437500000000000e-06,\n",
       "         -3.203749656677246093750000000000e-06],\n",
       "        [ 0.000000000000000000000000000000e+00,\n",
       "          0.000000000000000000000000000000e+00],\n",
       "        [ 0.000000000000000000000000000000e+00,\n",
       "          0.000000000000000000000000000000e+00],\n",
       "        [ 0.000000000000000000000000000000e+00,\n",
       "          0.000000000000000000000000000000e+00],\n",
       "        [ 2.658367156982421875000000000000e-05,\n",
       "         -1.676380634307861328125000000000e-05]])"
      ]
     },
     "execution_count": 41,
     "metadata": {},
     "output_type": "execute_result"
    }
   ],
   "source": [
    "dw_bp_H1 - dw_dend_tc_H1"
   ]
  },
  {
   "cell_type": "code",
   "execution_count": 44,
   "metadata": {},
   "outputs": [
    {
     "data": {
      "text/plain": [
       "tensor([[ 2.390213310718536376953125000000e-03,\n",
       "          0.000000000000000000000000000000e+00,\n",
       "         -2.659251447767019271850585937500e-03,\n",
       "          3.681484609842300415039062500000e-03,\n",
       "         -8.514122455380856990814208984375e-04,\n",
       "          0.000000000000000000000000000000e+00,\n",
       "          3.519928548485040664672851562500e-03,\n",
       "          0.000000000000000000000000000000e+00,\n",
       "          4.353518132120370864868164062500e-03,\n",
       "          0.000000000000000000000000000000e+00,\n",
       "          0.000000000000000000000000000000e+00,\n",
       "          0.000000000000000000000000000000e+00,\n",
       "         -1.670281169936060905456542968750e-03,\n",
       "          3.671452868729829788208007812500e-04,\n",
       "          2.343483502045273780822753906250e-03,\n",
       "          7.410808466374874114990234375000e-04,\n",
       "          1.084025017917156219482421875000e-03,\n",
       "          1.194366486743092536926269531250e-03,\n",
       "         -1.004434889182448387145996093750e-03,\n",
       "         -2.406787825748324394226074218750e-04,\n",
       "         -1.004819292575120925903320312500e-03,\n",
       "          0.000000000000000000000000000000e+00,\n",
       "          0.000000000000000000000000000000e+00,\n",
       "          0.000000000000000000000000000000e+00,\n",
       "          0.000000000000000000000000000000e+00,\n",
       "          0.000000000000000000000000000000e+00,\n",
       "          0.000000000000000000000000000000e+00,\n",
       "          0.000000000000000000000000000000e+00,\n",
       "          0.000000000000000000000000000000e+00,\n",
       "         -9.835384553298354148864746093750e-04,\n",
       "         -2.499459777027368545532226562500e-03,\n",
       "          0.000000000000000000000000000000e+00,\n",
       "          3.121223300695419311523437500000e-03,\n",
       "          0.000000000000000000000000000000e+00,\n",
       "          0.000000000000000000000000000000e+00,\n",
       "         -9.155470179393887519836425781250e-04,\n",
       "          0.000000000000000000000000000000e+00,\n",
       "          0.000000000000000000000000000000e+00,\n",
       "          6.759606767445802688598632812500e-04,\n",
       "          0.000000000000000000000000000000e+00,\n",
       "         -3.809368005022406578063964843750e-03,\n",
       "          0.000000000000000000000000000000e+00,\n",
       "          1.554665854200720787048339843750e-03,\n",
       "          2.501889597624540328979492187500e-03,\n",
       "         -1.434141304343938827514648437500e-04,\n",
       "         -3.111935686320066452026367187500e-03,\n",
       "          0.000000000000000000000000000000e+00,\n",
       "          0.000000000000000000000000000000e+00,\n",
       "          0.000000000000000000000000000000e+00,\n",
       "          0.000000000000000000000000000000e+00,\n",
       "          0.000000000000000000000000000000e+00,\n",
       "          1.701273489743471145629882812500e-03,\n",
       "          0.000000000000000000000000000000e+00,\n",
       "          1.641697133891284465789794921875e-03,\n",
       "          0.000000000000000000000000000000e+00,\n",
       "          0.000000000000000000000000000000e+00,\n",
       "          0.000000000000000000000000000000e+00,\n",
       "          2.883930224925279617309570312500e-03,\n",
       "          0.000000000000000000000000000000e+00,\n",
       "          0.000000000000000000000000000000e+00,\n",
       "         -3.700246743392199277877807617188e-04,\n",
       "          0.000000000000000000000000000000e+00,\n",
       "          0.000000000000000000000000000000e+00,\n",
       "         -3.007045947015285491943359375000e-03,\n",
       "          4.853975493460893630981445312500e-03,\n",
       "          0.000000000000000000000000000000e+00,\n",
       "          3.851835615932941436767578125000e-03,\n",
       "          2.000031759962439537048339843750e-03,\n",
       "          0.000000000000000000000000000000e+00,\n",
       "          0.000000000000000000000000000000e+00,\n",
       "          0.000000000000000000000000000000e+00,\n",
       "          0.000000000000000000000000000000e+00,\n",
       "          0.000000000000000000000000000000e+00,\n",
       "          4.410758847370743751525878906250e-04,\n",
       "          0.000000000000000000000000000000e+00,\n",
       "          0.000000000000000000000000000000e+00,\n",
       "          0.000000000000000000000000000000e+00,\n",
       "          0.000000000000000000000000000000e+00,\n",
       "         -3.196198260411620140075683593750e-03,\n",
       "          0.000000000000000000000000000000e+00,\n",
       "         -5.086790770292282104492187500000e-04,\n",
       "          0.000000000000000000000000000000e+00,\n",
       "          0.000000000000000000000000000000e+00,\n",
       "          0.000000000000000000000000000000e+00,\n",
       "         -5.730066914111375808715820312500e-05,\n",
       "          0.000000000000000000000000000000e+00,\n",
       "          3.025785554200410842895507812500e-03,\n",
       "          2.222213195636868476867675781250e-03,\n",
       "         -6.509206141345202922821044921875e-04,\n",
       "          0.000000000000000000000000000000e+00,\n",
       "          0.000000000000000000000000000000e+00,\n",
       "          0.000000000000000000000000000000e+00,\n",
       "          0.000000000000000000000000000000e+00,\n",
       "         -2.058932092040777206420898437500e-03,\n",
       "         -3.865798935294151306152343750000e-04,\n",
       "          0.000000000000000000000000000000e+00,\n",
       "          0.000000000000000000000000000000e+00,\n",
       "          4.655730444937944412231445312500e-04,\n",
       "          1.901313778944313526153564453125e-03,\n",
       "          0.000000000000000000000000000000e+00,\n",
       "         -5.618724972009658813476562500000e-03,\n",
       "         -2.529473509639501571655273437500e-03,\n",
       "          6.216808687895536422729492187500e-04,\n",
       "          0.000000000000000000000000000000e+00,\n",
       "         -3.758330363780260086059570312500e-03,\n",
       "         -2.495664637535810470581054687500e-03,\n",
       "          6.709943409077823162078857421875e-04,\n",
       "          5.028957966715097427368164062500e-03,\n",
       "          0.000000000000000000000000000000e+00,\n",
       "          0.000000000000000000000000000000e+00,\n",
       "          0.000000000000000000000000000000e+00,\n",
       "          0.000000000000000000000000000000e+00,\n",
       "         -4.490406252443790435791015625000e-03,\n",
       "         -1.418324420228600502014160156250e-03,\n",
       "          0.000000000000000000000000000000e+00,\n",
       "          0.000000000000000000000000000000e+00,\n",
       "          0.000000000000000000000000000000e+00,\n",
       "          0.000000000000000000000000000000e+00,\n",
       "         -2.259952481836080551147460937500e-03,\n",
       "         -1.040999195538461208343505859375e-03,\n",
       "          0.000000000000000000000000000000e+00,\n",
       "          1.999768661335110664367675781250e-03,\n",
       "          0.000000000000000000000000000000e+00,\n",
       "          4.328139126300811767578125000000e-03,\n",
       "          0.000000000000000000000000000000e+00,\n",
       "          0.000000000000000000000000000000e+00,\n",
       "          0.000000000000000000000000000000e+00,\n",
       "          4.355782642960548400878906250000e-03]])"
      ]
     },
     "execution_count": 44,
     "metadata": {},
     "output_type": "execute_result"
    }
   ],
   "source": [
    "bp_net.hooked_grads['H1']"
   ]
  },
  {
   "cell_type": "code",
   "execution_count": null,
   "metadata": {},
   "outputs": [
    {
     "data": {
      "text/plain": [
       "tensor([[-2.111045643687248229980468750000e-03,\n",
       "         -0.000000000000000000000000000000e+00,\n",
       "          2.286204136908054351806640625000e-03,\n",
       "         -3.567572683095932006835937500000e-03,\n",
       "          7.511433213949203491210937500000e-04,\n",
       "         -0.000000000000000000000000000000e+00,\n",
       "         -3.211371600627899169921875000000e-03,\n",
       "         -0.000000000000000000000000000000e+00,\n",
       "         -4.017947241663932800292968750000e-03,\n",
       "          0.000000000000000000000000000000e+00,\n",
       "         -0.000000000000000000000000000000e+00,\n",
       "          0.000000000000000000000000000000e+00,\n",
       "          1.270199194550514221191406250000e-03,\n",
       "         -4.180073738098144531250000000000e-04,\n",
       "         -2.371549606323242187500000000000e-03,\n",
       "         -7.038265466690063476562500000000e-04,\n",
       "         -1.043036580085754394531250000000e-03,\n",
       "         -1.134993508458137512207031250000e-03,\n",
       "          6.981147453188896179199218750000e-04,\n",
       "          9.320303797721862792968750000000e-05,\n",
       "          1.217385753989219665527343750000e-03,\n",
       "          0.000000000000000000000000000000e+00,\n",
       "         -0.000000000000000000000000000000e+00,\n",
       "         -0.000000000000000000000000000000e+00,\n",
       "          0.000000000000000000000000000000e+00,\n",
       "          0.000000000000000000000000000000e+00,\n",
       "          0.000000000000000000000000000000e+00,\n",
       "          0.000000000000000000000000000000e+00,\n",
       "          0.000000000000000000000000000000e+00,\n",
       "          8.576884865760803222656250000000e-04,\n",
       "          2.170815132558345794677734375000e-03,\n",
       "          0.000000000000000000000000000000e+00,\n",
       "         -2.920125611126422882080078125000e-03,\n",
       "          0.000000000000000000000000000000e+00,\n",
       "         -0.000000000000000000000000000000e+00,\n",
       "          8.349278941750526428222656250000e-04,\n",
       "          0.000000000000000000000000000000e+00,\n",
       "          0.000000000000000000000000000000e+00,\n",
       "         -4.027038812637329101562500000000e-04,\n",
       "          0.000000000000000000000000000000e+00,\n",
       "          3.417044878005981445312500000000e-03,\n",
       "          0.000000000000000000000000000000e+00,\n",
       "         -1.338216941803693771362304687500e-03,\n",
       "         -2.110004425048828125000000000000e-03,\n",
       "         -3.692694008350372314453125000000e-06,\n",
       "          3.012714907526969909667968750000e-03,\n",
       "          0.000000000000000000000000000000e+00,\n",
       "         -0.000000000000000000000000000000e+00,\n",
       "          0.000000000000000000000000000000e+00,\n",
       "         -0.000000000000000000000000000000e+00,\n",
       "          0.000000000000000000000000000000e+00,\n",
       "         -1.546216197311878204345703125000e-03,\n",
       "         -0.000000000000000000000000000000e+00,\n",
       "         -1.517430879175662994384765625000e-03,\n",
       "          0.000000000000000000000000000000e+00,\n",
       "         -0.000000000000000000000000000000e+00,\n",
       "         -0.000000000000000000000000000000e+00,\n",
       "         -2.802198752760887145996093750000e-03,\n",
       "         -0.000000000000000000000000000000e+00,\n",
       "          0.000000000000000000000000000000e+00,\n",
       "          3.344565629959106445312500000000e-05,\n",
       "          0.000000000000000000000000000000e+00,\n",
       "          0.000000000000000000000000000000e+00,\n",
       "          3.081291913986206054687500000000e-03,\n",
       "         -4.564866423606872558593750000000e-03,\n",
       "         -0.000000000000000000000000000000e+00,\n",
       "         -3.794660791754722595214843750000e-03,\n",
       "         -2.061164006590843200683593750000e-03,\n",
       "         -0.000000000000000000000000000000e+00,\n",
       "         -0.000000000000000000000000000000e+00,\n",
       "          0.000000000000000000000000000000e+00,\n",
       "         -0.000000000000000000000000000000e+00,\n",
       "         -0.000000000000000000000000000000e+00,\n",
       "         -4.029460251331329345703125000000e-05,\n",
       "          0.000000000000000000000000000000e+00,\n",
       "         -0.000000000000000000000000000000e+00,\n",
       "         -0.000000000000000000000000000000e+00,\n",
       "          0.000000000000000000000000000000e+00,\n",
       "          2.784787910059094429016113281250e-03,\n",
       "          0.000000000000000000000000000000e+00,\n",
       "          8.820090442895889282226562500000e-04,\n",
       "         -0.000000000000000000000000000000e+00,\n",
       "         -0.000000000000000000000000000000e+00,\n",
       "         -0.000000000000000000000000000000e+00,\n",
       "          8.888542652130126953125000000000e-06,\n",
       "         -0.000000000000000000000000000000e+00,\n",
       "         -2.872671931982040405273437500000e-03,\n",
       "         -2.309361472725868225097656250000e-03,\n",
       "          6.753280758857727050781250000000e-04,\n",
       "          0.000000000000000000000000000000e+00,\n",
       "          0.000000000000000000000000000000e+00,\n",
       "         -0.000000000000000000000000000000e+00,\n",
       "          0.000000000000000000000000000000e+00,\n",
       "          1.684334129095077514648437500000e-03,\n",
       "          2.500116825103759765625000000000e-04,\n",
       "         -0.000000000000000000000000000000e+00,\n",
       "         -0.000000000000000000000000000000e+00,\n",
       "         -5.669090896844863891601562500000e-04,\n",
       "         -1.521252095699310302734375000000e-03,\n",
       "          0.000000000000000000000000000000e+00,\n",
       "          5.430593155324459075927734375000e-03,\n",
       "          2.471066080033779144287109375000e-03,\n",
       "         -5.775168538093566894531250000000e-04,\n",
       "         -0.000000000000000000000000000000e+00,\n",
       "          3.614643588662147521972656250000e-03,\n",
       "          2.321147359907627105712890625000e-03,\n",
       "         -6.555803120136260986328125000000e-04,\n",
       "         -4.612416028976440429687500000000e-03,\n",
       "          0.000000000000000000000000000000e+00,\n",
       "          0.000000000000000000000000000000e+00,\n",
       "          0.000000000000000000000000000000e+00,\n",
       "         -0.000000000000000000000000000000e+00,\n",
       "          4.064213484525680541992187500000e-03,\n",
       "          1.813907176256179809570312500000e-03,\n",
       "          0.000000000000000000000000000000e+00,\n",
       "          0.000000000000000000000000000000e+00,\n",
       "          0.000000000000000000000000000000e+00,\n",
       "         -0.000000000000000000000000000000e+00,\n",
       "          2.310949377715587615966796875000e-03,\n",
       "          8.352287113666534423828125000000e-04,\n",
       "          0.000000000000000000000000000000e+00,\n",
       "         -1.961193978786468505859375000000e-03,\n",
       "         -0.000000000000000000000000000000e+00,\n",
       "         -4.252500832080841064453125000000e-03,\n",
       "         -0.000000000000000000000000000000e+00,\n",
       "          0.000000000000000000000000000000e+00,\n",
       "         -0.000000000000000000000000000000e+00,\n",
       "         -3.960207104682922363281250000000e-03]], grad_fn=<MulBackward0>)"
      ]
     },
     "execution_count": 49,
     "metadata": {},
     "output_type": "execute_result"
    }
   ],
   "source": [
    "dend_temp_contrast_net.nudges['H1']"
   ]
  },
  {
   "cell_type": "code",
   "execution_count": 45,
   "metadata": {},
   "outputs": [
    {
     "data": {
      "text/plain": [
       "tensor([[ 4.501258954405784606933593750000e-03,\n",
       "          0.000000000000000000000000000000e+00,\n",
       "         -4.945455584675073623657226562500e-03,\n",
       "          7.249057292938232421875000000000e-03,\n",
       "         -1.602555625140666961669921875000e-03,\n",
       "          0.000000000000000000000000000000e+00,\n",
       "          6.731300149112939834594726562500e-03,\n",
       "          0.000000000000000000000000000000e+00,\n",
       "          8.371464908123016357421875000000e-03,\n",
       "          0.000000000000000000000000000000e+00,\n",
       "          0.000000000000000000000000000000e+00,\n",
       "          0.000000000000000000000000000000e+00,\n",
       "         -2.940480364486575126647949218750e-03,\n",
       "          7.851526606827974319458007812500e-04,\n",
       "          4.715032875537872314453125000000e-03,\n",
       "          1.444907393306493759155273437500e-03,\n",
       "          2.127061598002910614013671875000e-03,\n",
       "          2.329359995201230049133300781250e-03,\n",
       "         -1.702549634501338005065917968750e-03,\n",
       "         -3.338818205520510673522949218750e-04,\n",
       "         -2.222205046564340591430664062500e-03,\n",
       "          0.000000000000000000000000000000e+00,\n",
       "          0.000000000000000000000000000000e+00,\n",
       "          0.000000000000000000000000000000e+00,\n",
       "          0.000000000000000000000000000000e+00,\n",
       "          0.000000000000000000000000000000e+00,\n",
       "          0.000000000000000000000000000000e+00,\n",
       "          0.000000000000000000000000000000e+00,\n",
       "          0.000000000000000000000000000000e+00,\n",
       "         -1.841226941905915737152099609375e-03,\n",
       "         -4.670274909585714340209960937500e-03,\n",
       "          0.000000000000000000000000000000e+00,\n",
       "          6.041348911821842193603515625000e-03,\n",
       "          0.000000000000000000000000000000e+00,\n",
       "          0.000000000000000000000000000000e+00,\n",
       "         -1.750474912114441394805908203125e-03,\n",
       "          0.000000000000000000000000000000e+00,\n",
       "          0.000000000000000000000000000000e+00,\n",
       "          1.078664558008313179016113281250e-03,\n",
       "          0.000000000000000000000000000000e+00,\n",
       "         -7.226413115859031677246093750000e-03,\n",
       "          0.000000000000000000000000000000e+00,\n",
       "          2.892882796004414558410644531250e-03,\n",
       "          4.611894022673368453979492187500e-03,\n",
       "         -1.397214364260435104370117187500e-04,\n",
       "         -6.124650593847036361694335937500e-03,\n",
       "          0.000000000000000000000000000000e+00,\n",
       "          0.000000000000000000000000000000e+00,\n",
       "          0.000000000000000000000000000000e+00,\n",
       "          0.000000000000000000000000000000e+00,\n",
       "          0.000000000000000000000000000000e+00,\n",
       "          3.247489687055349349975585937500e-03,\n",
       "          0.000000000000000000000000000000e+00,\n",
       "          3.159128129482269287109375000000e-03,\n",
       "          0.000000000000000000000000000000e+00,\n",
       "          0.000000000000000000000000000000e+00,\n",
       "          0.000000000000000000000000000000e+00,\n",
       "          5.686128977686166763305664062500e-03,\n",
       "          0.000000000000000000000000000000e+00,\n",
       "          0.000000000000000000000000000000e+00,\n",
       "         -4.034703306388109922409057617188e-04,\n",
       "          0.000000000000000000000000000000e+00,\n",
       "          0.000000000000000000000000000000e+00,\n",
       "         -6.088337861001491546630859375000e-03,\n",
       "          9.418841451406478881835937500000e-03,\n",
       "          0.000000000000000000000000000000e+00,\n",
       "          7.646496407687664031982421875000e-03,\n",
       "          4.061195999383926391601562500000e-03,\n",
       "          0.000000000000000000000000000000e+00,\n",
       "          0.000000000000000000000000000000e+00,\n",
       "          0.000000000000000000000000000000e+00,\n",
       "          0.000000000000000000000000000000e+00,\n",
       "          0.000000000000000000000000000000e+00,\n",
       "          4.813704872503876686096191406250e-04,\n",
       "          0.000000000000000000000000000000e+00,\n",
       "          0.000000000000000000000000000000e+00,\n",
       "          0.000000000000000000000000000000e+00,\n",
       "          0.000000000000000000000000000000e+00,\n",
       "         -5.980986170470714569091796875000e-03,\n",
       "          0.000000000000000000000000000000e+00,\n",
       "         -1.390688121318817138671875000000e-03,\n",
       "          0.000000000000000000000000000000e+00,\n",
       "          0.000000000000000000000000000000e+00,\n",
       "          0.000000000000000000000000000000e+00,\n",
       "         -6.618921179324388504028320312500e-05,\n",
       "          0.000000000000000000000000000000e+00,\n",
       "          5.898457486182451248168945312500e-03,\n",
       "          4.531574435532093048095703125000e-03,\n",
       "         -1.326248748227953910827636718750e-03,\n",
       "          0.000000000000000000000000000000e+00,\n",
       "          0.000000000000000000000000000000e+00,\n",
       "          0.000000000000000000000000000000e+00,\n",
       "          0.000000000000000000000000000000e+00,\n",
       "         -3.743266221135854721069335937500e-03,\n",
       "         -6.365915760397911071777343750000e-04,\n",
       "          0.000000000000000000000000000000e+00,\n",
       "          0.000000000000000000000000000000e+00,\n",
       "          1.032482134178280830383300781250e-03,\n",
       "          3.422565758228302001953125000000e-03,\n",
       "          0.000000000000000000000000000000e+00,\n",
       "         -1.104931812733411788940429687500e-02,\n",
       "         -5.000539589673280715942382812500e-03,\n",
       "          1.199197722598910331726074218750e-03,\n",
       "          0.000000000000000000000000000000e+00,\n",
       "         -7.372973952442407608032226562500e-03,\n",
       "         -4.816811997443437576293945312500e-03,\n",
       "          1.326574711129069328308105468750e-03,\n",
       "          9.641373530030250549316406250000e-03,\n",
       "          0.000000000000000000000000000000e+00,\n",
       "          0.000000000000000000000000000000e+00,\n",
       "          0.000000000000000000000000000000e+00,\n",
       "          0.000000000000000000000000000000e+00,\n",
       "         -8.554619736969470977783203125000e-03,\n",
       "         -3.232231596484780311584472656250e-03,\n",
       "          0.000000000000000000000000000000e+00,\n",
       "          0.000000000000000000000000000000e+00,\n",
       "          0.000000000000000000000000000000e+00,\n",
       "          0.000000000000000000000000000000e+00,\n",
       "         -4.570901859551668167114257812500e-03,\n",
       "         -1.876227906905114650726318359375e-03,\n",
       "          0.000000000000000000000000000000e+00,\n",
       "          3.960962407290935516357421875000e-03,\n",
       "          0.000000000000000000000000000000e+00,\n",
       "          8.580639958381652832031250000000e-03,\n",
       "          0.000000000000000000000000000000e+00,\n",
       "          0.000000000000000000000000000000e+00,\n",
       "          0.000000000000000000000000000000e+00,\n",
       "          8.315989747643470764160156250000e-03]], grad_fn=<SubBackward0>)"
      ]
     },
     "execution_count": 45,
     "metadata": {},
     "output_type": "execute_result"
    }
   ],
   "source": [
    "bp_net.hooked_grads['H1'] - dend_temp_contrast_net.nudges['H1']"
   ]
  },
  {
   "cell_type": "code",
   "execution_count": 68,
   "metadata": {},
   "outputs": [
    {
     "data": {
      "text/plain": [
       "tensor([[ 2.791676670312881469726562500000e-04,\n",
       "          0.000000000000000000000000000000e+00,\n",
       "         -3.730473108589649200439453125000e-04,\n",
       "          1.139119267463684082031250000000e-04,\n",
       "         -1.002689241431653499603271484375e-04,\n",
       "          0.000000000000000000000000000000e+00,\n",
       "          3.085569478571414947509765625000e-04,\n",
       "          0.000000000000000000000000000000e+00,\n",
       "          3.355708904564380645751953125000e-04,\n",
       "          0.000000000000000000000000000000e+00,\n",
       "          0.000000000000000000000000000000e+00,\n",
       "          0.000000000000000000000000000000e+00,\n",
       "         -4.000819753855466842651367187500e-04,\n",
       "         -5.086208693683147430419921875000e-05,\n",
       "         -2.806610427796840667724609375000e-05,\n",
       "          3.725429996848106384277343750000e-05,\n",
       "          4.098843783140182495117187500000e-05,\n",
       "          5.937297828495502471923828125000e-05,\n",
       "         -3.063201438635587692260742187500e-04,\n",
       "         -1.474757445976138114929199218750e-04,\n",
       "          2.125664614140987396240234375000e-04,\n",
       "          0.000000000000000000000000000000e+00,\n",
       "          0.000000000000000000000000000000e+00,\n",
       "          0.000000000000000000000000000000e+00,\n",
       "          0.000000000000000000000000000000e+00,\n",
       "          0.000000000000000000000000000000e+00,\n",
       "          0.000000000000000000000000000000e+00,\n",
       "          0.000000000000000000000000000000e+00,\n",
       "          0.000000000000000000000000000000e+00,\n",
       "         -1.258499687537550926208496093750e-04,\n",
       "         -3.286446444690227508544921875000e-04,\n",
       "          0.000000000000000000000000000000e+00,\n",
       "          2.010976895689964294433593750000e-04,\n",
       "          0.000000000000000000000000000000e+00,\n",
       "          0.000000000000000000000000000000e+00,\n",
       "         -8.061912376433610916137695312500e-05,\n",
       "          0.000000000000000000000000000000e+00,\n",
       "          0.000000000000000000000000000000e+00,\n",
       "          2.732567954808473587036132812500e-04,\n",
       "          0.000000000000000000000000000000e+00,\n",
       "         -3.923231270164251327514648437500e-04,\n",
       "          0.000000000000000000000000000000e+00,\n",
       "          2.164489123970270156860351562500e-04,\n",
       "          3.918851725757122039794921875000e-04,\n",
       "         -1.471068244427442550659179687500e-04,\n",
       "         -9.922077879309654235839843750000e-05,\n",
       "          0.000000000000000000000000000000e+00,\n",
       "          0.000000000000000000000000000000e+00,\n",
       "          0.000000000000000000000000000000e+00,\n",
       "          0.000000000000000000000000000000e+00,\n",
       "          0.000000000000000000000000000000e+00,\n",
       "          1.550572924315929412841796875000e-04,\n",
       "          0.000000000000000000000000000000e+00,\n",
       "          1.242662547156214714050292968750e-04,\n",
       "          0.000000000000000000000000000000e+00,\n",
       "          0.000000000000000000000000000000e+00,\n",
       "          0.000000000000000000000000000000e+00,\n",
       "          8.173147216439247131347656250000e-05,\n",
       "          0.000000000000000000000000000000e+00,\n",
       "          0.000000000000000000000000000000e+00,\n",
       "         -3.365790180396288633346557617188e-04,\n",
       "          0.000000000000000000000000000000e+00,\n",
       "          0.000000000000000000000000000000e+00,\n",
       "          7.424596697092056274414062500000e-05,\n",
       "          2.891090698540210723876953125000e-04,\n",
       "          0.000000000000000000000000000000e+00,\n",
       "          5.717482417821884155273437500000e-05,\n",
       "         -6.113224662840366363525390625000e-05,\n",
       "          0.000000000000000000000000000000e+00,\n",
       "          0.000000000000000000000000000000e+00,\n",
       "          0.000000000000000000000000000000e+00,\n",
       "          0.000000000000000000000000000000e+00,\n",
       "          0.000000000000000000000000000000e+00,\n",
       "          4.007812822237610816955566406250e-04,\n",
       "          0.000000000000000000000000000000e+00,\n",
       "          0.000000000000000000000000000000e+00,\n",
       "          0.000000000000000000000000000000e+00,\n",
       "          0.000000000000000000000000000000e+00,\n",
       "         -4.114103503525257110595703125000e-04,\n",
       "          0.000000000000000000000000000000e+00,\n",
       "          3.733299672603607177734375000000e-04,\n",
       "          0.000000000000000000000000000000e+00,\n",
       "          0.000000000000000000000000000000e+00,\n",
       "          0.000000000000000000000000000000e+00,\n",
       "         -4.841212648898363113403320312500e-05,\n",
       "          0.000000000000000000000000000000e+00,\n",
       "          1.531136222183704376220703125000e-04,\n",
       "         -8.714827708899974822998046875000e-05,\n",
       "          2.440746175125241279602050781250e-05,\n",
       "          0.000000000000000000000000000000e+00,\n",
       "          0.000000000000000000000000000000e+00,\n",
       "          0.000000000000000000000000000000e+00,\n",
       "          0.000000000000000000000000000000e+00,\n",
       "         -3.745979629456996917724609375000e-04,\n",
       "         -1.365682110190391540527343750000e-04,\n",
       "          0.000000000000000000000000000000e+00,\n",
       "          0.000000000000000000000000000000e+00,\n",
       "         -1.013360451906919479370117187500e-04,\n",
       "          3.800616832450032234191894531250e-04,\n",
       "          0.000000000000000000000000000000e+00,\n",
       "         -1.881318166851997375488281250000e-04,\n",
       "         -5.840742960572242736816406250000e-05,\n",
       "          4.416401498019695281982421875000e-05,\n",
       "          0.000000000000000000000000000000e+00,\n",
       "         -1.436867751181125640869140625000e-04,\n",
       "         -1.745172776281833648681640625000e-04,\n",
       "          1.541402889415621757507324218750e-05,\n",
       "          4.165419377386569976806640625000e-04,\n",
       "          0.000000000000000000000000000000e+00,\n",
       "          0.000000000000000000000000000000e+00,\n",
       "          0.000000000000000000000000000000e+00,\n",
       "          0.000000000000000000000000000000e+00,\n",
       "         -4.261927679181098937988281250000e-04,\n",
       "          3.955827560275793075561523437500e-04,\n",
       "          0.000000000000000000000000000000e+00,\n",
       "          0.000000000000000000000000000000e+00,\n",
       "          0.000000000000000000000000000000e+00,\n",
       "          0.000000000000000000000000000000e+00,\n",
       "          5.099689587950706481933593750000e-05,\n",
       "         -2.057704841718077659606933593750e-04,\n",
       "          0.000000000000000000000000000000e+00,\n",
       "          3.857468254864215850830078125000e-05,\n",
       "          0.000000000000000000000000000000e+00,\n",
       "          7.563829421997070312500000000000e-05,\n",
       "          0.000000000000000000000000000000e+00,\n",
       "          0.000000000000000000000000000000e+00,\n",
       "          0.000000000000000000000000000000e+00,\n",
       "          3.955755382776260375976562500000e-04]], grad_fn=<AddBackward0>)"
      ]
     },
     "execution_count": 68,
     "metadata": {},
     "output_type": "execute_result"
    }
   ],
   "source": [
    "bp_net.hooked_grads['H1'] + dend_temp_contrast_net.nudges['H1']"
   ]
  },
  {
   "cell_type": "code",
   "execution_count": null,
   "metadata": {},
   "outputs": [],
   "source": [
    "bp_net.hooked_grads['H2'] + dend_temp_contrast_net.nudges['H2']"
   ]
  },
  {
   "cell_type": "code",
   "execution_count": null,
   "metadata": {},
   "outputs": [],
   "source": [
    "bp_net.hooked_grads['Out'] + dend_temp_contrast_net.nudges['Out']"
   ]
  },
  {
   "cell_type": "code",
   "execution_count": 61,
   "metadata": {},
   "outputs": [
    {
     "data": {
      "text/plain": [
       "tensor([[-0.081427186727523803710937500000,  0.000000000000000000000000000000,\n",
       "          0.000000000000000000000000000000, -0.130772739648818969726562500000]])"
      ]
     },
     "execution_count": 61,
     "metadata": {},
     "output_type": "execute_result"
    }
   ],
   "source": [
    "dend_temp_contrast_net.nudges['Out']"
   ]
  },
  {
   "cell_type": "code",
   "execution_count": 52,
   "metadata": {},
   "outputs": [
    {
     "data": {
      "text/plain": [
       "tensor([[0.162854373455047607421875000000, 0.000000000000000000000000000000,\n",
       "         0.000000000000000000000000000000, 0.261545479297637939453125000000]])"
      ]
     },
     "execution_count": 52,
     "metadata": {},
     "output_type": "execute_result"
    }
   ],
   "source": [
    "bp_net.forward_activity['Out']"
   ]
  },
  {
   "cell_type": "code",
   "execution_count": 53,
   "metadata": {},
   "outputs": [
    {
     "data": {
      "text/plain": [
       "tensor([[-0.671471178531646728515625000000,  0.423787266016006469726562500000]])"
      ]
     },
     "execution_count": 53,
     "metadata": {},
     "output_type": "execute_result"
    }
   ],
   "source": [
    "bp_net.forward_activity['Input']"
   ]
  }
 ],
 "metadata": {
  "kernelspec": {
   "display_name": "aresty24",
   "language": "python",
   "name": "python3"
  },
  "language_info": {
   "codemirror_mode": {
    "name": "ipython",
    "version": 3
   },
   "file_extension": ".py",
   "mimetype": "text/x-python",
   "name": "python",
   "nbconvert_exporter": "python",
   "pygments_lexer": "ipython3",
   "version": "3.11.7"
  }
 },
 "nbformat": 4,
 "nbformat_minor": 2
}
