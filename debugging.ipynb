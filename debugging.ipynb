{
 "cells": [
  {
   "cell_type": "code",
   "execution_count": 1,
   "metadata": {},
   "outputs": [],
   "source": [
    "import torch\n",
    "import torch.nn as nn\n",
    "from spiral_neuralnet import *\n",
    "import spiral_neuralnet as spiral"
   ]
  },
  {
   "cell_type": "code",
   "execution_count": null,
   "metadata": {},
   "outputs": [],
   "source": [
    "%run spiral_neuralnet.py --interactive --description=dend_temp_contrast_fixed_bias"
   ]
  },
  {
   "cell_type": "code",
   "execution_count": null,
   "metadata": {},
   "outputs": [],
   "source": [
    "dend_temp_contrast_net = net"
   ]
  },
  {
   "cell_type": "code",
   "execution_count": null,
   "metadata": {},
   "outputs": [],
   "source": [
    "delta_w_dend_temp_contrast = net.weights['Out'].data - net.initial_weights['Out'].data\n",
    "print(delta_w_dend_temp_contrast)"
   ]
  },
  {
   "cell_type": "code",
   "execution_count": null,
   "metadata": {},
   "outputs": [],
   "source": [
    "%run spiral_neuralnet.py --interactive --description=backprop_fixed_bias"
   ]
  },
  {
   "cell_type": "code",
   "execution_count": null,
   "metadata": {},
   "outputs": [],
   "source": [
    "bp_net = net"
   ]
  },
  {
   "cell_type": "code",
   "execution_count": null,
   "metadata": {},
   "outputs": [],
   "source": [
    "delta_w_bp = bp_net.weights['Out'].data - bp_net.initial_weights['Out'].data\n",
    "print(delta_w_bp)"
   ]
  },
  {
   "cell_type": "code",
   "execution_count": null,
   "metadata": {},
   "outputs": [],
   "source": [
    "bp_net.forward_activity['H1'].shape"
   ]
  },
  {
   "cell_type": "code",
   "execution_count": null,
   "metadata": {},
   "outputs": [],
   "source": [
    "torch.all(delta_w_bp == 0)"
   ]
  },
  {
   "cell_type": "code",
   "execution_count": null,
   "metadata": {},
   "outputs": [],
   "source": [
    "plt.figure()\n",
    "plt.scatter(delta_w_bp.flatten(), delta_w_dend_temp_contrast.flatten())"
   ]
  },
  {
   "cell_type": "code",
   "execution_count": null,
   "metadata": {},
   "outputs": [],
   "source": [
    "torch.all(delta_w_bp.flatten() == delta_w_dend_temp_contrast.flatten())"
   ]
  },
  {
   "cell_type": "code",
   "execution_count": null,
   "metadata": {},
   "outputs": [],
   "source": [
    "torch.all(dend_temp_contrast_net.forward_activity['Out'] == bp_net.forward_activity['Out'])"
   ]
  },
  {
   "cell_type": "code",
   "execution_count": null,
   "metadata": {},
   "outputs": [],
   "source": [
    "torch.all(dend_temp_contrast_net.initial_weights['Out'].data == bp_net.initial_weights['Out'].data)"
   ]
  },
  {
   "cell_type": "code",
   "execution_count": null,
   "metadata": {},
   "outputs": [],
   "source": [
    "dend_temp_contrast_net.nudges['Out'].shape"
   ]
  },
  {
   "cell_type": "code",
   "execution_count": null,
   "metadata": {},
   "outputs": [],
   "source": [
    "local_loss = dend_temp_contrast_net.nudges['Out'] * dend_temp_contrast_net.ReLU_derivative(dend_temp_contrast_net.forward_soma_state['Out'])"
   ]
  },
  {
   "cell_type": "code",
   "execution_count": null,
   "metadata": {},
   "outputs": [],
   "source": [
    "x = dend_temp_contrast_net.forward_soma_state['Out']\n",
    "output = torch.ones_like(x)\n",
    "indexes = torch.where(x <= 0)\n",
    "output[indexes] = 0\n",
    "print(output)"
   ]
  },
  {
   "cell_type": "code",
   "execution_count": null,
   "metadata": {},
   "outputs": [],
   "source": [
    "print(local_loss)\n",
    "print(dend_temp_contrast_net.forward_activity['Out'])\n",
    "print(dend_temp_contrast_net.forward_soma_state['Out'])\n",
    "print(dend_temp_contrast_net.nudges['Out'])"
   ]
  },
  {
   "cell_type": "code",
   "execution_count": null,
   "metadata": {},
   "outputs": [],
   "source": [
    "plt.figure()\n",
    "layer = 'H2'\n",
    "dw_dend_tc_H1 = dend_temp_contrast_net.weights[layer].data - dend_temp_contrast_net.initial_weights[layer].data\n",
    "dw_bp_H1 = bp_net.weights[layer].data - bp_net.initial_weights[layer].data\n",
    "plt.scatter(dw_bp_H1.flatten(), dw_dend_tc_H1.flatten())\n",
    "torch.all(dw_dend_tc_H1 == dw_bp_H1)"
   ]
  },
  {
   "cell_type": "code",
   "execution_count": null,
   "metadata": {},
   "outputs": [],
   "source": [
    "dw_bp_H1 == dw_dend_tc_H1"
   ]
  },
  {
   "cell_type": "code",
   "execution_count": null,
   "metadata": {},
   "outputs": [],
   "source": [
    "dend_temp_contrast_net.backward_activity['H1']"
   ]
  },
  {
   "cell_type": "code",
   "execution_count": null,
   "metadata": {},
   "outputs": [],
   "source": [
    "torch.tensor(dend_temp_contrast_net.training_losses).dtype"
   ]
  },
  {
   "cell_type": "code",
   "execution_count": null,
   "metadata": {},
   "outputs": [],
   "source": [
    "plt.figure()\n",
    "unit = 6\n",
    "dw_dend_tc_H2_0 = dend_temp_contrast_net.weights['H2'].data[unit] - dend_temp_contrast_net.initial_weights['H2'].data[unit]\n",
    "dw_bp_H2_0 = bp_net.weights['H2'].data[unit] - bp_net.initial_weights['H2'].data[unit]\n",
    "plt.scatter(dw_bp_H2_0, dw_dend_tc_H2_0)\n",
    "\n",
    "# model = np.polyfit(dw_bp_H2_0, dw_dend_tc_H2_0, 1)\n",
    "# slope = model[0]\n",
    "# intercept = model[1]\n",
    "# plt.plot(dw_bp_H2_0, slope * dw_bp_H2_0 + intercept, color='red')\n",
    "# print(slope)\n",
    "\n",
    "plt.show()"
   ]
  },
  {
   "cell_type": "code",
   "execution_count": null,
   "metadata": {},
   "outputs": [],
   "source": [
    "print(dend_temp_contrast_net.weights['H2'].data[6])\n",
    "print(dend_temp_contrast_net.initial_weights['H2'].data[6])"
   ]
  },
  {
   "cell_type": "code",
   "execution_count": null,
   "metadata": {},
   "outputs": [],
   "source": [
    "print(bp_net.weights['H2'].data[6])\n",
    "print(bp_net.initial_weights['H2'].data[6])"
   ]
  },
  {
   "cell_type": "code",
   "execution_count": null,
   "metadata": {},
   "outputs": [],
   "source": [
    "dend_temp_contrast_net.weights['H2'].data[6] == bp_net.weights['H2'].data[6]"
   ]
  },
  {
   "cell_type": "code",
   "execution_count": null,
   "metadata": {},
   "outputs": [],
   "source": [
    "dend_temp_contrast_net.weights['H1'].data"
   ]
  },
  {
   "cell_type": "code",
   "execution_count": null,
   "metadata": {},
   "outputs": [],
   "source": [
    "bp_net.weights['H1'].data"
   ]
  },
  {
   "cell_type": "code",
   "execution_count": null,
   "metadata": {},
   "outputs": [],
   "source": [
    "dend_temp_contrast_net.weights['H1'].data - bp_net.weights['H1'].data"
   ]
  },
  {
   "cell_type": "code",
   "execution_count": null,
   "metadata": {},
   "outputs": [],
   "source": [
    "torch.all(dend_temp_contrast_net.ReLU_derivative(dend_temp_contrast_net.forward_soma_state['H2']) == bp_net.ReLU_derivative(bp_net.forward_soma_state['H2']))"
   ]
  },
  {
   "cell_type": "code",
   "execution_count": null,
   "metadata": {},
   "outputs": [],
   "source": [
    "local_loss_H2 = dend_temp_contrast_net.nudges['H2'] * dend_temp_contrast_net.ReLU_derivative(dend_temp_contrast_net.forward_soma_state['H2'])"
   ]
  },
  {
   "cell_type": "code",
   "execution_count": null,
   "metadata": {},
   "outputs": [],
   "source": [
    "print(local_loss_H2)\n",
    "print(dend_temp_contrast_net.forward_activity['H2'])\n",
    "print(dend_temp_contrast_net.forward_soma_state['H2'])\n",
    "print(dend_temp_contrast_net.nudges['H2'])"
   ]
  },
  {
   "cell_type": "code",
   "execution_count": null,
   "metadata": {},
   "outputs": [],
   "source": [
    "bp_net.weights['H2'].grad.shape"
   ]
  },
  {
   "cell_type": "code",
   "execution_count": null,
   "metadata": {},
   "outputs": [],
   "source": [
    "dend_temp_contrast_net.nudges['H2'].shape"
   ]
  },
  {
   "cell_type": "code",
   "execution_count": null,
   "metadata": {},
   "outputs": [],
   "source": [
    "dend_temp_contrast_net.forward_dend_state['H2']"
   ]
  },
  {
   "cell_type": "code",
   "execution_count": null,
   "metadata": {},
   "outputs": [],
   "source": [
    "plt.figure()\n",
    "# plt.scatter(dw_bp_H1.flatten(), bp_net.mlp[-4].weight.grad.flatten())\n",
    "\n",
    "# model = np.polyfit(dw_bp_H2, bp_net.mlp[-4].weight.grad.flatten(), 1)\n",
    "# slope = model[0]\n",
    "# intercept = model[1]\n",
    "# plt.plot(dw_bp_H2, slope * dw_bp_H2 + intercept, color='red')\n",
    "# print(slope)\n",
    "\n",
    "plt.show()"
   ]
  },
  {
   "cell_type": "code",
   "execution_count": null,
   "metadata": {},
   "outputs": [],
   "source": [
    "torch.set_printoptions(precision=30)\n",
    "print(dend_temp_contrast_net.weights['H1'][0][0])\n",
    "print(dend_temp_contrast_net.forward_activity['H1'][0][0])\n",
    "print(dend_temp_contrast_net.backward_activity['H1'][0][0])\n",
    "print(dend_temp_contrast_net.nudges['H1'][0][0])\n",
    "print(dend_temp_contrast_net.forward_activity['Input'][0][0])"
   ]
  },
  {
   "cell_type": "code",
   "execution_count": null,
   "metadata": {},
   "outputs": [],
   "source": [
    "bp_net.weights['H1'].grad.data[0][0] / bp_net.forward_activity['Input'][0][0]"
   ]
  },
  {
   "cell_type": "code",
   "execution_count": null,
   "metadata": {},
   "outputs": [],
   "source": [
    "dend_temp_contrast_net.nudges['H1'][0][0] # * dend_temp_contrast_net.forward_activity['Input'][0][0]"
   ]
  },
  {
   "cell_type": "code",
   "execution_count": null,
   "metadata": {},
   "outputs": [],
   "source": [
    "dw_bp_H1[0]"
   ]
  },
  {
   "cell_type": "code",
   "execution_count": null,
   "metadata": {},
   "outputs": [],
   "source": [
    "dw_dend_tc_H1[0]"
   ]
  },
  {
   "cell_type": "code",
   "execution_count": null,
   "metadata": {},
   "outputs": [],
   "source": [
    "torch.all(dend_temp_contrast_net.forward_activity['Input'] == bp_net.forward_activity['Input'])"
   ]
  },
  {
   "cell_type": "code",
   "execution_count": null,
   "metadata": {},
   "outputs": [],
   "source": [
    "bp_net.forward_activity['Input'][0][0]"
   ]
  },
  {
   "cell_type": "code",
   "execution_count": null,
   "metadata": {},
   "outputs": [],
   "source": [
    "dw_bp_H1 - dw_dend_tc_H1"
   ]
  },
  {
   "cell_type": "code",
   "execution_count": null,
   "metadata": {},
   "outputs": [],
   "source": [
    "bp_net.hooked_grads['H1']"
   ]
  },
  {
   "cell_type": "code",
   "execution_count": null,
   "metadata": {},
   "outputs": [],
   "source": [
    "dend_temp_contrast_net.nudges['H1']"
   ]
  },
  {
   "cell_type": "code",
   "execution_count": null,
   "metadata": {},
   "outputs": [],
   "source": [
    "bp_net.hooked_grads['H1'] + dend_temp_contrast_net.nudges['H1']"
   ]
  },
  {
   "cell_type": "code",
   "execution_count": null,
   "metadata": {},
   "outputs": [],
   "source": [
    "bp_net.hooked_grads['H2'] + dend_temp_contrast_net.nudges['H2']"
   ]
  },
  {
   "cell_type": "code",
   "execution_count": null,
   "metadata": {},
   "outputs": [],
   "source": [
    "bp_net.hooked_grads['Out'] + dend_temp_contrast_net.nudges['Out']"
   ]
  },
  {
   "cell_type": "code",
   "execution_count": null,
   "metadata": {},
   "outputs": [],
   "source": [
    "plt.figure()\n",
    "plt.scatter(bp_net.hooked_grads['Out'].detach().numpy().flatten(), -dend_temp_contrast_net.nudges['Out'].detach().numpy().flatten())\n",
    "plt.show()"
   ]
  },
  {
   "cell_type": "code",
   "execution_count": null,
   "metadata": {},
   "outputs": [],
   "source": [
    "bp_net.hooked_grads['H1'] == -dend_temp_contrast_net.nudges['H1'].type(torch.float32)"
   ]
  },
  {
   "cell_type": "code",
   "execution_count": null,
   "metadata": {},
   "outputs": [],
   "source": [
    "dend_temp_contrast_net.nudges['Out']"
   ]
  },
  {
   "cell_type": "code",
   "execution_count": null,
   "metadata": {},
   "outputs": [],
   "source": [
    "bp_net.forward_activity['Out']"
   ]
  },
  {
   "cell_type": "code",
   "execution_count": null,
   "metadata": {},
   "outputs": [],
   "source": [
    "bp_net.forward_activity['Input']"
   ]
  },
  {
   "cell_type": "code",
   "execution_count": null,
   "metadata": {},
   "outputs": [],
   "source": [
    "scalar = torch.tensor(2.0) / torch.tensor(4.0)\n",
    "scalar"
   ]
  },
  {
   "cell_type": "code",
   "execution_count": null,
   "metadata": {},
   "outputs": [],
   "source": [
    "print(scalar.item())"
   ]
  },
  {
   "cell_type": "code",
   "execution_count": 2,
   "metadata": {},
   "outputs": [
    {
     "data": {
      "application/vnd.jupyter.widget-view+json": {
       "model_id": "4f52fb2786d544cd940a02c306540264",
       "version_major": 2,
       "version_minor": 0
      },
      "text/plain": [
       "  0%|          | 0/2 [00:00<?, ?it/s]"
      ]
     },
     "metadata": {},
     "output_type": "display_data"
    },
    {
     "name": "stdout",
     "output_type": "stream",
     "text": [
      "One train step completed.\n"
     ]
    }
   ],
   "source": [
    "%run spiral_neuralnet.py --interactive --description=dend_temp_contrast_learned_bias --debug"
   ]
  },
  {
   "cell_type": "code",
   "execution_count": 3,
   "metadata": {},
   "outputs": [],
   "source": [
    "dtc_net = net"
   ]
  },
  {
   "cell_type": "code",
   "execution_count": 4,
   "metadata": {},
   "outputs": [
    {
     "data": {
      "application/vnd.jupyter.widget-view+json": {
       "model_id": "635f198186084962b7b1fcc145fdd9cf",
       "version_major": 2,
       "version_minor": 0
      },
      "text/plain": [
       "  0%|          | 0/2 [00:00<?, ?it/s]"
      ]
     },
     "metadata": {},
     "output_type": "display_data"
    },
    {
     "name": "stdout",
     "output_type": "stream",
     "text": [
      "One train step completed.\n"
     ]
    }
   ],
   "source": [
    "%run spiral_neuralnet.py --interactive --description=backprop_learned_bias --debug"
   ]
  },
  {
   "cell_type": "code",
   "execution_count": 5,
   "metadata": {},
   "outputs": [],
   "source": [
    "bp_net = net"
   ]
  },
  {
   "cell_type": "code",
   "execution_count": 39,
   "metadata": {},
   "outputs": [],
   "source": [
    "layer = 'H1'\n",
    "delta_b_bp = bp_net.biases[layer].data - bp_net.initial_biases[layer].data\n",
    "delta_b_dtc = dtc_net.biases[layer].data - dtc_net.initial_biases[layer].data"
   ]
  },
  {
   "cell_type": "code",
   "execution_count": 40,
   "metadata": {},
   "outputs": [
    {
     "name": "stdout",
     "output_type": "stream",
     "text": [
      "0.9372119214544161\n"
     ]
    },
    {
     "data": {
      "image/png": "[encoded data removed]",
      "text/plain": [
       "<Figure size 640x480 with 1 Axes>"
      ]
     },
     "metadata": {},
     "output_type": "display_data"
    }
   ],
   "source": [
    "plt.figure()\n",
    "x = delta_b_bp.detach().numpy()\n",
    "y = delta_b_dtc.detach().numpy()\n",
    "plt.scatter(x, y)\n",
    "\n",
    "model = np.polyfit(x, y, 1)\n",
    "slope = model[0]\n",
    "intercept = model[1]\n",
    "plt.plot(x, slope * x + intercept, color='red')\n",
    "print(slope)\n",
    "\n",
    "plt.show()"
   ]
  },
  {
   "cell_type": "code",
   "execution_count": 41,
   "metadata": {},
   "outputs": [
    {
     "data": {
      "text/plain": [
       "tensor([ 3.0696e-05,  0.0000e+00, -4.1038e-05,  1.2517e-05, -1.1027e-05,\n",
       "         0.0000e+00,  3.3915e-05,  0.0000e+00,  3.6925e-05,  0.0000e+00,\n",
       "         0.0000e+00,  0.0000e+00, -4.4018e-05, -5.6028e-06, -3.0696e-06,\n",
       "         4.1127e-06,  4.5300e-06,  6.4969e-06, -3.3706e-05, -1.6220e-05,\n",
       "         2.3384e-05,  0.0000e+00,  0.0000e+00,  0.0000e+00,  0.0000e+00,\n",
       "         0.0000e+00,  0.0000e+00,  0.0000e+00,  0.0000e+00, -1.3828e-05,\n",
       "        -3.6180e-05,  0.0000e+00,  2.2113e-05,  0.0000e+00,  0.0000e+00,\n",
       "        -8.8513e-06,  0.0000e+00,  0.0000e+00,  3.0071e-05,  0.0000e+00,\n",
       "        -4.3154e-05,  0.0000e+00,  2.3782e-05,  4.3094e-05, -1.6183e-05,\n",
       "        -1.0908e-05,  0.0000e+00,  0.0000e+00,  0.0000e+00,  0.0000e+00,\n",
       "         0.0000e+00,  1.7062e-05,  0.0000e+00,  1.3669e-05,  0.0000e+00,\n",
       "         0.0000e+00,  0.0000e+00,  9.0003e-06,  0.0000e+00,  0.0000e+00,\n",
       "        -3.7044e-05,  0.0000e+00,  0.0000e+00,  8.2254e-06,  3.1829e-05,\n",
       "         0.0000e+00,  6.2920e-06, -6.7204e-06,  0.0000e+00,  0.0000e+00,\n",
       "         0.0000e+00,  0.0000e+00,  0.0000e+00,  4.4078e-05,  0.0000e+00,\n",
       "         0.0000e+00,  0.0000e+00,  0.0000e+00, -4.5262e-05,  0.0000e+00,\n",
       "         4.1038e-05,  0.0000e+00,  0.0000e+00,  0.0000e+00, -5.3048e-06,\n",
       "         0.0000e+00,  1.6868e-05, -9.5814e-06,  2.6897e-06,  0.0000e+00,\n",
       "         0.0000e+00,  0.0000e+00,  0.0000e+00, -4.1202e-05, -1.5020e-05,\n",
       "         0.0000e+00,  0.0000e+00, -1.1146e-05,  4.1813e-05,  0.0000e+00,\n",
       "        -2.0713e-05, -6.4373e-06,  4.8280e-06,  0.0000e+00, -1.5806e-05,\n",
       "        -1.9193e-05,  1.6987e-06,  4.5821e-05,  0.0000e+00,  0.0000e+00,\n",
       "         0.0000e+00,  0.0000e+00, -4.6883e-05,  4.3511e-05,  0.0000e+00,\n",
       "         0.0000e+00,  0.0000e+00,  0.0000e+00,  5.6028e-06, -2.2635e-05,\n",
       "         0.0000e+00,  4.2431e-06,  0.0000e+00,  8.3223e-06,  0.0000e+00,\n",
       "         0.0000e+00,  0.0000e+00,  4.3513e-05])"
      ]
     },
     "execution_count": 41,
     "metadata": {},
     "output_type": "execute_result"
    }
   ],
   "source": [
    "dtc_net.biases[layer].data - bp_net.biases[layer].data"
   ]
  },
  {
   "cell_type": "code",
   "execution_count": null,
   "metadata": {},
   "outputs": [],
   "source": []
  }
 ],
 "metadata": {
  "kernelspec": {
   "display_name": "aresty24",
   "language": "python",
   "name": "python3"
  },
  "language_info": {
   "codemirror_mode": {
    "name": "ipython",
    "version": 3
   },
   "file_extension": ".py",
   "mimetype": "text/x-python",
   "name": "python",
   "nbconvert_exporter": "python",
   "pygments_lexer": "ipython3",
   "version": "3.11.7"
  }
 },
 "nbformat": 4,
 "nbformat_minor": 2
}
