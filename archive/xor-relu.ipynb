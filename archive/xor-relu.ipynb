{
 "cells": [
  {
   "cell_type": "code",
   "id": "initial_id",
   "metadata": {
    "collapsed": true,
    "ExecuteTime": {
     "end_time": "2024-07-08T17:47:12.603623Z",
     "start_time": "2024-07-08T17:47:11.456847Z"
    }
   },
   "source": [
    "import numpy as np \n",
    "import matplotlib.pyplot as plt\n"
   ],
   "outputs": [],
   "execution_count": 8
  },
  {
   "metadata": {
    "ExecuteTime": {
     "end_time": "2024-06-07T17:54:00.039953Z",
     "start_time": "2024-06-07T17:54:00.037336Z"
    }
   },
   "cell_type": "code",
   "source": [
    "input_patterns = np.array( [ [0, 0], [0, 1], [1, 0], [1, 1] ] ) #act of input neurons \n",
    "targets = np.array ([ [0], [1], [1], [0] ]) #target act of output neurons "
   ],
   "id": "d317a4bdebae61f3",
   "outputs": [],
   "execution_count": 7
  },
  {
   "metadata": {
    "ExecuteTime": {
     "end_time": "2024-06-07T18:18:31.286540Z",
     "start_time": "2024-06-07T18:18:31.279928Z"
    }
   },
   "cell_type": "code",
   "source": [
    "def get_weight_biases(seed):\n",
    "    np.random.seed(seed)\n",
    "    weight_dict = dict()\n",
    "    weight_dict['H'] = {'I': np.random.uniform(-1, 1, size = (2, 2))} #input to hidden weights \n",
    "    weight_dict['Out'] = {'H': np.random.uniform(-1, 1, size = (2, 1))} #output neurons weight from hidden \n",
    "    bias_dict = {'H': np.random.uniform(-1, 1, size = (2, )), \n",
    "             'Out': np.random.uniform(-1, 1, size = (1,)) }\n",
    "    return weight_dict, bias_dict\n",
    "    \n",
    "    \n"
   ],
   "id": "a90587708d8d637b",
   "outputs": [],
   "execution_count": 53
  },
  {
   "metadata": {
    "ExecuteTime": {
     "end_time": "2024-06-07T17:54:03.890519Z",
     "start_time": "2024-06-07T17:54:03.887208Z"
    }
   },
   "cell_type": "code",
   "source": [
    "def Relu(x):\n",
    "    y = np.copy(x)\n",
    "    indexes = np.where(x < 0)\n",
    "    y[indexes] = 0\n",
    "    return y  \n",
    "\n",
    "def Relu_derivative(x): #slope of relu function \n",
    "    y = np.ones_like(x)\n",
    "    indexes = np.where(x < 0)\n",
    "    y[indexes] = 0\n",
    "    return y  \n",
    "    "
   ],
   "id": "377d803d5ef39bce",
   "outputs": [],
   "execution_count": 14
  },
  {
   "metadata": {
    "ExecuteTime": {
     "end_time": "2024-06-07T17:54:04.892263Z",
     "start_time": "2024-06-07T17:54:04.793144Z"
    }
   },
   "cell_type": "code",
   "source": [
    "plt.figure()\n",
    "x = np.linspace(-5, 5, 100)\n",
    "plt.plot(x, Relu(x))"
   ],
   "id": "c59fb4ecf53e4d83",
   "outputs": [
    {
     "data": {
      "text/plain": [
       "[<matplotlib.lines.Line2D at 0x122415b50>]"
      ]
     },
     "execution_count": 15,
     "metadata": {},
     "output_type": "execute_result"
    },
    {
     "data": {
      "text/plain": [
       "<Figure size 640x480 with 1 Axes>"
      ],
      "image/png": "[encoded data removed]"
     },
     "metadata": {},
     "output_type": "display_data"
    }
   ],
   "execution_count": 15
  },
  {
   "metadata": {
    "ExecuteTime": {
     "end_time": "2024-06-07T17:55:54.896731Z",
     "start_time": "2024-06-07T17:55:54.893134Z"
    }
   },
   "cell_type": "code",
   "source": [
    "def forward(input_patterns, weight_dict, bias_dict):\n",
    "    act_dict = {}\n",
    "    state_dict = {}\n",
    "    act_dict['I'] = input_patterns \n",
    "    state_dict['H'] = np.dot(input_patterns, weight_dict['H']['I']) + bias_dict['H'] #hidden state act \n",
    "    act_dict['H'] = Relu(state_dict['H']) #firing rates hid neurons\n",
    "    state_dict['Out'] = np.dot(act_dict['H'], weight_dict['Out']['H']) + bias_dict['Out']\n",
    "    act_dict['Out'] = Relu(state_dict['Out']) #firing rate output\n",
    "    return state_dict, act_dict"
   ],
   "id": "7d70a84eec6c0d94",
   "outputs": [],
   "execution_count": 29
  },
  {
   "metadata": {},
   "cell_type": "markdown",
   "source": "",
   "id": "cc7bf26d870dfec3"
  },
  {
   "metadata": {
    "ExecuteTime": {
     "end_time": "2024-06-07T17:55:55.186370Z",
     "start_time": "2024-06-07T17:55:55.182221Z"
    }
   },
   "cell_type": "code",
   "source": [
    "state_dict, act_dict = forward(input_patterns, weight_dict, bias_dict)\n",
    "print(state_dict, act_dict)"
   ],
   "id": "b3ef0321bc319da",
   "outputs": [
    {
     "name": "stdout",
     "output_type": "stream",
     "text": [
      "{'H': array([[-0.44704571, -0.31336881],\n",
      "       [-0.42755466, -0.76969739],\n",
      "       [ 0.52550794,  0.43341508],\n",
      "       [ 0.54499899, -0.02291349]]), 'Out': array([[0.72431787],\n",
      "       [0.72431787],\n",
      "       [0.30756428],\n",
      "       [0.54655961]])} {'I': array([[0, 0],\n",
      "       [0, 1],\n",
      "       [1, 0],\n",
      "       [1, 1]]), 'H': array([[0.        , 0.        ],\n",
      "       [0.        , 0.        ],\n",
      "       [0.52550794, 0.43341508],\n",
      "       [0.54499899, 0.        ]]), 'Out': array([[0.72431787],\n",
      "       [0.72431787],\n",
      "       [0.30756428],\n",
      "       [0.54655961]])}\n"
     ]
    }
   ],
   "execution_count": 30
  },
  {
   "metadata": {
    "ExecuteTime": {
     "end_time": "2024-06-07T17:55:55.548714Z",
     "start_time": "2024-06-07T17:55:55.545482Z"
    }
   },
   "cell_type": "code",
   "source": [
    "def backward(weight_dict, state_dict, act_dict, targets):\n",
    "    grad_dict = {}\n",
    "    grad_dict['Out'] = (act_dict['Out'] - targets) * Relu_derivative(state_dict['Out'] ) # DE/dzout = DE/Daout * Daout/dzout \n",
    "    error = np.sum(0.5 * (targets - act_dict['Out']) ** 2) \n",
    "    grad_dict['H'] = np.dot(grad_dict['Out'], weight_dict['Out']['H'].T) * Relu_derivative(state_dict['H']) #De/dzhidden = De/dzout * dzout/dahidden * dahidden/dzhidden\n",
    "    return grad_dict, error "
   ],
   "id": "e16da15fd1e5a37e",
   "outputs": [],
   "execution_count": 31
  },
  {
   "metadata": {
    "ExecuteTime": {
     "end_time": "2024-06-07T17:55:55.948631Z",
     "start_time": "2024-06-07T17:55:55.945779Z"
    }
   },
   "cell_type": "code",
   "source": "print(state_dict)\n",
   "id": "9ad6a60453f79589",
   "outputs": [
    {
     "name": "stdout",
     "output_type": "stream",
     "text": [
      "{'H': array([[-0.44704571, -0.31336881],\n",
      "       [-0.42755466, -0.76969739],\n",
      "       [ 0.52550794,  0.43341508],\n",
      "       [ 0.54499899, -0.02291349]]), 'Out': array([[0.72431787],\n",
      "       [0.72431787],\n",
      "       [0.30756428],\n",
      "       [0.54655961]])}\n"
     ]
    }
   ],
   "execution_count": 32
  },
  {
   "metadata": {
    "ExecuteTime": {
     "end_time": "2024-06-07T17:55:56.281344Z",
     "start_time": "2024-06-07T17:55:56.278385Z"
    }
   },
   "cell_type": "code",
   "source": "grad_dict, error = backward(weight_dict, state_dict, act_dict, targets)",
   "id": "e172e0c1738dc17d",
   "outputs": [],
   "execution_count": 33
  },
  {
   "metadata": {
    "ExecuteTime": {
     "end_time": "2024-06-07T17:55:56.545929Z",
     "start_time": "2024-06-07T17:55:56.543047Z"
    }
   },
   "cell_type": "code",
   "source": [
    "print(grad_dict)\n",
    "print(error)"
   ],
   "id": "968e7312a0231316",
   "outputs": [
    {
     "name": "stdout",
     "output_type": "stream",
     "text": [
      "{'Out': array([[ 0.72431787],\n",
      "       [-0.27568213],\n",
      "       [-0.69243572],\n",
      "       [ 0.54655961]]), 'H': array([[-0.        , -0.        ],\n",
      "       [ 0.        ,  0.        ],\n",
      "       [ 0.22584659,  0.39198195],\n",
      "       [-0.17826727, -0.        ]])}\n",
      "0.6894158221039279\n"
     ]
    }
   ],
   "execution_count": 34
  },
  {
   "metadata": {
    "ExecuteTime": {
     "end_time": "2024-06-07T18:05:36.421910Z",
     "start_time": "2024-06-07T18:05:36.416297Z"
    }
   },
   "cell_type": "code",
   "source": [
    "def step(weight_dict, bias_dict, grad_dict, act_dict, learning_rate):\n",
    "    for post_pop in weight_dict:\n",
    "        for pre_pop in weight_dict[post_pop]:\n",
    "            d_w = -learning_rate * np.outer(act_dict[pre_pop], grad_dict[post_pop])\n",
    "            weight_dict[post_pop][pre_pop] += d_w\n",
    "            bias_dict[post_pop] += -learning_rate * grad_dict[post_pop] \n",
    "            "
   ],
   "id": "bbb5f33f7c6ca28",
   "outputs": [],
   "execution_count": 43
  },
  {
   "metadata": {
    "ExecuteTime": {
     "end_time": "2024-06-07T18:19:36.856853Z",
     "start_time": "2024-06-07T18:19:36.849896Z"
    }
   },
   "cell_type": "code",
   "source": [
    "def train (input_patterns, targets, weight_dict, bias_dict, learning_rate, num_epochs, seed):\n",
    "    error_hx = [] #accmulate error \n",
    "    np.random.seed(seed)\n",
    "    for epoch in range(num_epochs):\n",
    "        indexes = np.arange(len(input_patterns))\n",
    "        np.random.shuffle(indexes)\n",
    "        for index in indexes:\n",
    "            sample = input_patterns[index]\n",
    "            target = targets[index]\n",
    "            state_dict, act_dict = forward(sample, weight_dict, bias_dict)\n",
    "            grad_dict, error = backward(weight_dict, state_dict, act_dict, target)\n",
    "            step(weight_dict, bias_dict, grad_dict, act_dict, learning_rate)\n",
    "            error_hx.append(error)\n",
    "    \n",
    "    return error_hx\n",
    "        \n",
    "    "
   ],
   "id": "3281e0277bb8fe59",
   "outputs": [],
   "execution_count": 57
  },
  {
   "metadata": {
    "ExecuteTime": {
     "end_time": "2024-06-07T18:11:17.636244Z",
     "start_time": "2024-06-07T18:11:17.633647Z"
    }
   },
   "cell_type": "code",
   "source": "learning_rate = 0.01",
   "id": "44e04edb76de5a33",
   "outputs": [],
   "execution_count": 50
  },
  {
   "metadata": {
    "ExecuteTime": {
     "end_time": "2024-06-07T18:11:23.044152Z",
     "start_time": "2024-06-07T18:11:23.037301Z"
    }
   },
   "cell_type": "code",
   "source": [
    "state_dict, act_dict = forward(input_patterns[1], weight_dict, bias_dict)\n",
    "grad_dict, error = backward(weight_dict, state_dict, act_dict, targets[1])\n",
    "step(weight_dict, bias_dict, grad_dict, act_dict, learning_rate)"
   ],
   "id": "d472ff7a06e3e3bb",
   "outputs": [],
   "execution_count": 51
  },
  {
   "metadata": {
    "ExecuteTime": {
     "end_time": "2024-06-07T18:02:15.516227Z",
     "start_time": "2024-06-07T18:02:15.512232Z"
    }
   },
   "cell_type": "code",
   "source": [
    "ex_grad = np.array([1, -1])\n",
    "ex_act = np.array([0.5, 0.25])\n",
    "print(np.outer(ex_act, ex_grad))"
   ],
   "id": "b9c6a372aed4884b",
   "outputs": [
    {
     "name": "stdout",
     "output_type": "stream",
     "text": [
      "[[ 0.5  -0.5 ]\n",
      " [ 0.25 -0.25]]\n"
     ]
    }
   ],
   "execution_count": 41
  },
  {
   "metadata": {
    "ExecuteTime": {
     "end_time": "2024-06-07T18:08:41.088307Z",
     "start_time": "2024-06-07T18:08:41.079952Z"
    }
   },
   "cell_type": "code",
   "source": "print(np.outer(ex_grad, ex_act.T))",
   "id": "bc01020f05157bbf",
   "outputs": [
    {
     "name": "stdout",
     "output_type": "stream",
     "text": [
      "[[ 0.5   0.25]\n",
      " [-0.5  -0.25]]\n"
     ]
    }
   ],
   "execution_count": 48
  },
  {
   "metadata": {
    "ExecuteTime": {
     "end_time": "2024-06-07T18:22:29.971930Z",
     "start_time": "2024-06-07T18:22:29.560422Z"
    }
   },
   "cell_type": "code",
   "source": [
    "paramseed = 2020\n",
    "trainseed = 0\n",
    "learning_rate = 0.001\n",
    "weight_dict, bias_dict = get_weight_biases(paramseed)\n",
    "loss_hx = train(input_patterns, targets, weight_dict, bias_dict, learning_rate, num_epochs = 3000, seed = trainseed)"
   ],
   "id": "cee7ff48b5580b2",
   "outputs": [],
   "execution_count": 64
  },
  {
   "metadata": {
    "ExecuteTime": {
     "end_time": "2024-06-07T18:22:30.781958Z",
     "start_time": "2024-06-07T18:22:30.474771Z"
    }
   },
   "cell_type": "code",
   "source": [
    "plt.figure()\n",
    "plt.plot(loss_hx)"
   ],
   "id": "6980a4173da7f113",
   "outputs": [
    {
     "data": {
      "text/plain": [
       "[<matplotlib.lines.Line2D at 0x1228fc210>]"
      ]
     },
     "execution_count": 65,
     "metadata": {},
     "output_type": "execute_result"
    },
    {
     "data": {
      "text/plain": [
       "<Figure size 640x480 with 1 Axes>"
      ],
      "image/png": "[encoded data removed]"
     },
     "metadata": {},
     "output_type": "display_data"
    }
   ],
   "execution_count": 65
  },
  {
   "metadata": {
    "ExecuteTime": {
     "end_time": "2024-07-08T17:57:26.512588Z",
     "start_time": "2024-07-08T17:57:26.506069Z"
    }
   },
   "cell_type": "code",
   "source": "d = {'dict1': {'foo': 1, 'bar': 2}, 'dict2': {'baz': 3, 'quux': 4}}",
   "id": "d43da678d76059ae",
   "outputs": [],
   "execution_count": 3
  },
  {
   "metadata": {
    "ExecuteTime": {
     "end_time": "2024-07-08T18:02:16.719989Z",
     "start_time": "2024-07-08T18:02:16.713136Z"
    }
   },
   "cell_type": "code",
   "source": [
    "for d['dict1'] in d.items():\n",
    "    print(d['dict1'])"
   ],
   "id": "8165a9118e56fa60",
   "outputs": [
    {
     "name": "stdout",
     "output_type": "stream",
     "text": [
      "('dict1', 'dict2')\n",
      "('dict2', {'baz': 3, 'quux': 4})\n"
     ]
    }
   ],
   "execution_count": 8
  },
  {
   "metadata": {},
   "cell_type": "code",
   "outputs": [],
   "execution_count": null,
   "source": "",
   "id": "8ef09e44456deb8e"
  }
 ],
 "metadata": {
  "kernelspec": {
   "display_name": "Python 3",
   "language": "python",
   "name": "python3"
  },
  "language_info": {
   "codemirror_mode": {
    "name": "ipython",
    "version": 2
   },
   "file_extension": ".py",
   "mimetype": "text/x-python",
   "name": "python",
   "nbconvert_exporter": "python",
   "pygments_lexer": "ipython2",
   "version": "2.7.6"
  }
 },
 "nbformat": 4,
 "nbformat_minor": 5
}
