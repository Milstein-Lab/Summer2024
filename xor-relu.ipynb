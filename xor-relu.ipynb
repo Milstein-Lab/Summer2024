{
 "cells": [
  {
   "cell_type": "code",
   "id": "initial_id",
   "metadata": {
    "collapsed": true,
    "ExecuteTime": {
     "end_time": "2024-06-05T19:06:08.987279Z",
     "start_time": "2024-06-05T19:06:08.515227Z"
    }
   },
   "source": [
    "import numpy as np \n",
    "import matplotlib.pyplot as plt\n"
   ],
   "outputs": [],
   "execution_count": 1
  },
  {
   "metadata": {
    "ExecuteTime": {
     "end_time": "2024-06-07T16:00:01.681482Z",
     "start_time": "2024-06-07T16:00:01.667112Z"
    }
   },
   "cell_type": "code",
   "source": [
    "input_patterns = np.array( [ [0, 0], [0, 1], [1, 0], [1, 1] ] ) #act of input neurons \n",
    "targets = np.array ([ [0], [1], [1], [0] ]) #target act of output neurons "
   ],
   "id": "d317a4bdebae61f3",
   "outputs": [],
   "execution_count": 33
  },
  {
   "metadata": {
    "ExecuteTime": {
     "end_time": "2024-06-05T19:16:51.417571Z",
     "start_time": "2024-06-05T19:16:51.409343Z"
    }
   },
   "cell_type": "code",
   "source": "np.random.seed(2020)",
   "id": "9c9b82f0da0cea5c",
   "outputs": [],
   "execution_count": 9
  },
  {
   "metadata": {
    "ExecuteTime": {
     "end_time": "2024-06-05T19:16:51.914905Z",
     "start_time": "2024-06-05T19:16:51.912329Z"
    }
   },
   "cell_type": "code",
   "source": [
    "weight_dict = dict()\n",
    "weight_dict['H'] = {'I': np.random.uniform(-1, 1, size = (2, 2))}\n",
    "#input to hidden weights "
   ],
   "id": "a90587708d8d637b",
   "outputs": [],
   "execution_count": 10
  },
  {
   "metadata": {
    "ExecuteTime": {
     "end_time": "2024-06-05T19:16:52.423164Z",
     "start_time": "2024-06-05T19:16:52.420353Z"
    }
   },
   "cell_type": "code",
   "source": "print(weight_dict)",
   "id": "b02e21ee1d66d993",
   "outputs": [
    {
     "name": "stdout",
     "output_type": "stream",
     "text": [
      "{'H': {'I': array([[ 0.97255366,  0.74678389],\n",
      "       [ 0.01949105, -0.45632857]])}}\n"
     ]
    }
   ],
   "execution_count": 11
  },
  {
   "metadata": {
    "ExecuteTime": {
     "end_time": "2024-06-05T19:19:56.781250Z",
     "start_time": "2024-06-05T19:19:56.773762Z"
    }
   },
   "cell_type": "code",
   "source": [
    "weight_dict['Out'] = {'H': np.random.uniform(-1, 1, size = (2, 1))}\n",
    "#output neurons weight from hidden "
   ],
   "id": "20763dd89e7956d",
   "outputs": [],
   "execution_count": 12
  },
  {
   "metadata": {
    "ExecuteTime": {
     "end_time": "2024-06-05T19:20:04.955864Z",
     "start_time": "2024-06-05T19:20:04.952470Z"
    }
   },
   "cell_type": "code",
   "source": "print(weight_dict)",
   "id": "5c83dc792bac4b66",
   "outputs": [
    {
     "name": "stdout",
     "output_type": "stream",
     "text": [
      "{'H': {'I': array([[ 0.97255366,  0.74678389],\n",
      "       [ 0.01949105, -0.45632857]])}, 'Out': {'H': array([[-0.32616254],\n",
      "       [-0.56609147]])}}\n"
     ]
    }
   ],
   "execution_count": 13
  },
  {
   "metadata": {
    "ExecuteTime": {
     "end_time": "2024-06-05T19:26:09.775751Z",
     "start_time": "2024-06-05T19:26:09.770337Z"
    }
   },
   "cell_type": "code",
   "source": [
    "bias_dict = {'H': np.random.uniform(-1, 1, size = (2, )), \n",
    "             'Out': np.random.uniform(-1, 1, size = (1,)) }"
   ],
   "id": "f6e768b1e6cd5e86",
   "outputs": [],
   "execution_count": 14
  },
  {
   "metadata": {
    "ExecuteTime": {
     "end_time": "2024-06-07T16:06:45.034705Z",
     "start_time": "2024-06-07T16:06:45.025216Z"
    }
   },
   "cell_type": "code",
   "source": [
    "def Relu(x):\n",
    "    y = np.copy(x)\n",
    "    indexes = np.where(x < 0)\n",
    "    y[indexes] = 0\n",
    "    return y  \n",
    "\n",
    "def Relu_derivative(x): #slope of relu function \n",
    "    y = np.ones_like(x)\n",
    "    indexes = np.where(x < 0)\n",
    "    y[indexes] = 0\n",
    "    return y  \n",
    "    "
   ],
   "id": "377d803d5ef39bce",
   "outputs": [],
   "execution_count": 34
  },
  {
   "metadata": {
    "ExecuteTime": {
     "end_time": "2024-06-05T19:32:38.934509Z",
     "start_time": "2024-06-05T19:32:38.864650Z"
    }
   },
   "cell_type": "code",
   "source": [
    "plt.figure()\n",
    "x = np.linspace(-5, 5, 100)\n",
    "plt.plot(x, Relu(x))"
   ],
   "id": "c59fb4ecf53e4d83",
   "outputs": [
    {
     "data": {
      "text/plain": [
       "[<matplotlib.lines.Line2D at 0x1140a1e90>]"
      ]
     },
     "execution_count": 17,
     "metadata": {},
     "output_type": "execute_result"
    },
    {
     "data": {
      "text/plain": [
       "<Figure size 640x480 with 1 Axes>"
      ],
      "image/png": "[encoded data removed]"
     },
     "metadata": {},
     "output_type": "display_data"
    }
   ],
   "execution_count": 17
  },
  {
   "metadata": {
    "ExecuteTime": {
     "end_time": "2024-06-07T16:22:44.217891Z",
     "start_time": "2024-06-07T16:22:44.210768Z"
    }
   },
   "cell_type": "code",
   "source": [
    "def forward(input_patterns, weight_dict, bias_dict):\n",
    "    act_dict = {}\n",
    "    state_dict = {}\n",
    "    state_dict['H'] = np.dot(input_patterns, weight_dict['H']['I']) + bias_dict['H'] #hidden state act \n",
    "    act_dict['H'] = Relu(state_dict['H']) #firing rates hid neurons\n",
    "    state_dict['Out'] = np.dot(act_dict['H'], weight_dict['Out']['H']) + bias_dict['Out']\n",
    "    act_dict['Out'] = Relu(state_dict['Out']) #firing rate output\n",
    "    return state_dict, act_dict"
   ],
   "id": "7d70a84eec6c0d94",
   "outputs": [],
   "execution_count": 40
  },
  {
   "metadata": {
    "ExecuteTime": {
     "end_time": "2024-06-07T16:41:17.706792Z",
     "start_time": "2024-06-07T16:41:17.699836Z"
    }
   },
   "cell_type": "code",
   "source": [
    "state_dict, act_dict = forward(input_patterns, weight_dict, bias_dict)\n",
    "print(state_dict, act_dict)"
   ],
   "id": "b3ef0321bc319da",
   "outputs": [
    {
     "name": "stdout",
     "output_type": "stream",
     "text": [
      "{'H': array([[-0.44704571, -0.31336881],\n",
      "       [-0.42755466, -0.76969739],\n",
      "       [ 0.52550794,  0.43341508],\n",
      "       [ 0.54499899, -0.02291349]]), 'Out': array([[0.72431787],\n",
      "       [0.72431787],\n",
      "       [0.30756428],\n",
      "       [0.54655961]])} {'H': array([[0.        , 0.        ],\n",
      "       [0.        , 0.        ],\n",
      "       [0.52550794, 0.43341508],\n",
      "       [0.54499899, 0.        ]]), 'Out': array([[0.72431787],\n",
      "       [0.72431787],\n",
      "       [0.30756428],\n",
      "       [0.54655961]])}\n"
     ]
    }
   ],
   "execution_count": 49
  },
  {
   "metadata": {
    "ExecuteTime": {
     "end_time": "2024-06-07T16:23:47.219184Z",
     "start_time": "2024-06-07T16:23:47.209135Z"
    }
   },
   "cell_type": "code",
   "source": [
    "def backward(weight_dict, state_dict, act_dict, targets):\n",
    "    grad_dict = {}\n",
    "    grad_dict['Out'] = (act_dict['Out'] - targets) * Relu_derivative(state_dict['Out'] ) # DE/dzout = DE/Daout * Daout/dzout \n",
    "    error = np.sum(0.5 * (targets - act_dict['Out']) ** 2) \n",
    "    grad_dict['H'] = np.dot(grad_dict['Out'], weight_dict['Out']['H'].T) * Relu_derivative(state_dict['H']) #De/dzhidden = De/dzout * dzout/dahidden * dahidden/dzhidden\n",
    "    return grad_dict, error "
   ],
   "id": "e16da15fd1e5a37e",
   "outputs": [],
   "execution_count": 46
  },
  {
   "metadata": {
    "ExecuteTime": {
     "end_time": "2024-06-07T16:23:06.781396Z",
     "start_time": "2024-06-07T16:23:06.777015Z"
    }
   },
   "cell_type": "code",
   "source": "print(state_dict)\n",
   "id": "9ad6a60453f79589",
   "outputs": [
    {
     "name": "stdout",
     "output_type": "stream",
     "text": [
      "{'H': array([[-0.44704571, -0.31336881],\n",
      "       [-0.42755466, -0.76969739],\n",
      "       [ 0.52550794,  0.43341508],\n",
      "       [ 0.54499899, -0.02291349]]), 'Out': array([[0.72431787],\n",
      "       [0.72431787],\n",
      "       [0.30756428],\n",
      "       [0.54655961]])}\n"
     ]
    }
   ],
   "execution_count": 44
  },
  {
   "metadata": {
    "ExecuteTime": {
     "end_time": "2024-06-07T16:23:50.257762Z",
     "start_time": "2024-06-07T16:23:50.253712Z"
    }
   },
   "cell_type": "code",
   "source": "grad_dict, error = backward(weight_dict, state_dict, act_dict, targets)",
   "id": "e172e0c1738dc17d",
   "outputs": [],
   "execution_count": 47
  },
  {
   "metadata": {
    "ExecuteTime": {
     "end_time": "2024-06-07T16:24:06.929252Z",
     "start_time": "2024-06-07T16:24:06.923221Z"
    }
   },
   "cell_type": "code",
   "source": [
    "print(grad_dict)\n",
    "print(error)"
   ],
   "id": "968e7312a0231316",
   "outputs": [
    {
     "name": "stdout",
     "output_type": "stream",
     "text": [
      "{'Out': array([[ 0.72431787],\n",
      "       [-0.27568213],\n",
      "       [-0.69243572],\n",
      "       [ 0.54655961]]), 'H': array([[-0.        , -0.        ],\n",
      "       [ 0.        ,  0.        ],\n",
      "       [ 0.22584659,  0.39198195],\n",
      "       [-0.17826727, -0.        ]])}\n",
      "0.6894158221039279\n"
     ]
    }
   ],
   "execution_count": 48
  },
  {
   "metadata": {},
   "cell_type": "code",
   "outputs": [],
   "execution_count": null,
   "source": [
    "def step(weight_dict, bias_dict, grad_dict, act_dict, learning_rate):\n",
    "    for "
   ],
   "id": "bbb5f33f7c6ca28"
  }
 ],
 "metadata": {
  "kernelspec": {
   "display_name": "Python 3",
   "language": "python",
   "name": "python3"
  },
  "language_info": {
   "codemirror_mode": {
    "name": "ipython",
    "version": 2
   },
   "file_extension": ".py",
   "mimetype": "text/x-python",
   "name": "python",
   "nbconvert_exporter": "python",
   "pygments_lexer": "ipython2",
   "version": "2.7.6"
  }
 },
 "nbformat": 4,
 "nbformat_minor": 5
}
